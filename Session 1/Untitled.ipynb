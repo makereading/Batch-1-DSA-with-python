{
 "cells": [
  {
   "cell_type": "code",
   "execution_count": null,
   "id": "09407e2f",
   "metadata": {},
   "outputs": [],
   "source": [
    "d = 123"
   ]
  },
  {
   "cell_type": "code",
   "execution_count": null,
   "id": "e9208755",
   "metadata": {},
   "outputs": [],
   "source": [
    "type(d)"
   ]
  },
  {
   "cell_type": "code",
   "execution_count": null,
   "id": "0d16a267",
   "metadata": {},
   "outputs": [],
   "source": []
  }
 ],
 "metadata": {
  "kernelspec": {
   "display_name": "Python 3 (ipykernel)",
   "language": "python",
   "name": "python3"
  }
 },
 "nbformat": 4,
 "nbformat_minor": 5
}
