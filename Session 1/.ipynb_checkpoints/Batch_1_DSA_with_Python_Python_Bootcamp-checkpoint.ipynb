{
 "cells": [
  {
   "cell_type": "markdown",
   "metadata": {
    "id": "mvitcELXIrHg"
   },
   "source": [
    "## Numbers\n"
   ]
  },
  {
   "cell_type": "code",
   "execution_count": null,
   "metadata": {
    "id": "dQr_IEQ5Ic8v"
   },
   "outputs": [],
   "source": [
    "a = 6"
   ]
  },
  {
   "cell_type": "code",
   "execution_count": null,
   "metadata": {
    "colab": {
     "base_uri": "https://localhost:8080/"
    },
    "id": "VoV3vFi1JAJY",
    "outputId": "fb2fa23c-480e-4a2c-84d5-0080d4e8a40e"
   },
   "outputs": [
    {
     "name": "stdout",
     "output_type": "stream",
     "text": [
      "6\n"
     ]
    }
   ],
   "source": [
    "print(a)"
   ]
  },
  {
   "cell_type": "code",
   "execution_count": null,
   "metadata": {
    "colab": {
     "base_uri": "https://localhost:8080/"
    },
    "id": "VK-whULwJBuM",
    "outputId": "7bdd6cf7-b9cc-4542-e6a2-c3e14b7ad1a3"
   },
   "outputs": [
    {
     "data": {
      "text/plain": [
       "int"
      ]
     },
     "execution_count": 3,
     "metadata": {},
     "output_type": "execute_result"
    }
   ],
   "source": [
    "type(a)"
   ]
  },
  {
   "cell_type": "code",
   "execution_count": null,
   "metadata": {
    "colab": {
     "base_uri": "https://localhost:8080/"
    },
    "id": "mhJdg8UmJDtD",
    "outputId": "07b39c5d-0161-4cae-9d18-0c11ff4cf186"
   },
   "outputs": [
    {
     "name": "stdout",
     "output_type": "stream",
     "text": [
      "5.0\n"
     ]
    }
   ],
   "source": [
    "b = 5.0\n",
    "print(b)"
   ]
  },
  {
   "cell_type": "code",
   "execution_count": null,
   "metadata": {
    "colab": {
     "base_uri": "https://localhost:8080/"
    },
    "id": "JzAb5u10JGwI",
    "outputId": "9df5485c-fbca-4474-8cf9-77cded854777"
   },
   "outputs": [
    {
     "data": {
      "text/plain": [
       "float"
      ]
     },
     "execution_count": 5,
     "metadata": {},
     "output_type": "execute_result"
    }
   ],
   "source": [
    "type(b)"
   ]
  },
  {
   "cell_type": "markdown",
   "metadata": {
    "id": "qCJoMxt9Jf-_"
   },
   "source": [
    "### Type Conversion"
   ]
  },
  {
   "cell_type": "code",
   "execution_count": null,
   "metadata": {
    "colab": {
     "base_uri": "https://localhost:8080/"
    },
    "id": "rBpJvULxJafl",
    "outputId": "4125c640-d72a-443f-c20a-0e792f623700"
   },
   "outputs": [
    {
     "data": {
      "text/plain": [
       "6"
      ]
     },
     "execution_count": 6,
     "metadata": {},
     "output_type": "execute_result"
    }
   ],
   "source": [
    "int(6.3)"
   ]
  },
  {
   "cell_type": "code",
   "execution_count": null,
   "metadata": {
    "colab": {
     "base_uri": "https://localhost:8080/"
    },
    "id": "suxGHJsiJjP5",
    "outputId": "3a14395f-8652-454c-a7a6-d1ab764575a3"
   },
   "outputs": [
    {
     "data": {
      "text/plain": [
       "-2"
      ]
     },
     "execution_count": 7,
     "metadata": {},
     "output_type": "execute_result"
    }
   ],
   "source": [
    "int(-2.7)"
   ]
  },
  {
   "cell_type": "code",
   "execution_count": null,
   "metadata": {
    "colab": {
     "base_uri": "https://localhost:8080/"
    },
    "id": "jxynGGMDJkmX",
    "outputId": "377b6b32-cfa1-4290-8af3-8b5bc74551dd"
   },
   "outputs": [
    {
     "data": {
      "text/plain": [
       "9.0"
      ]
     },
     "execution_count": 8,
     "metadata": {},
     "output_type": "execute_result"
    }
   ],
   "source": [
    "float(9)"
   ]
  },
  {
   "cell_type": "code",
   "execution_count": null,
   "metadata": {
    "colab": {
     "base_uri": "https://localhost:8080/"
    },
    "id": "n9Lx2XbKJl2h",
    "outputId": "30a1ff1e-9aeb-4060-8f07-dcf8ebb1bd00"
   },
   "outputs": [
    {
     "data": {
      "text/plain": [
       "False"
      ]
     },
     "execution_count": 9,
     "metadata": {},
     "output_type": "execute_result"
    }
   ],
   "source": [
    "(1.1 + 2.2) == 3.3"
   ]
  },
  {
   "cell_type": "markdown",
   "metadata": {
    "id": "0cVIjh3XJtpk"
   },
   "source": [
    "It turns out that floating-point numbers are implemented in computer hardware as binary fractions as the computer only understands binary (0 and 1). Due to this reason, most of the decimal fractions we know, cannot be accurately stored in our computer.\n",
    "\n",
    "Let's take an example. We cannot represent the fraction 1/3 as a decimal number. This will give 0.33333333... which is infinitely long, and we can only approximate it.\n",
    "\n",
    "It turns out that the decimal fraction 0.1 will result in an infinitely long binary fraction of 0.000110011001100110011... and our computer only stores a finite number of it.\n",
    "\n",
    "This will only approximate 0.1 but never be equal. Hence, it is the limitation of our computer hardware and not an error in Python."
   ]
  },
  {
   "cell_type": "code",
   "execution_count": null,
   "metadata": {
    "colab": {
     "base_uri": "https://localhost:8080/"
    },
    "id": "kuZ7WrVSJqtK",
    "outputId": "3143a1e3-94ab-434e-c576-928515a82485"
   },
   "outputs": [
    {
     "name": "stdout",
     "output_type": "stream",
     "text": [
      "False\n"
     ]
    }
   ],
   "source": [
    "from decimal import Decimal as D\n",
    "\n",
    "print(D(1.1) + D(2.2) == D(3.3))"
   ]
  },
  {
   "cell_type": "markdown",
   "metadata": {
    "id": "gYGQmk7CKhcD"
   },
   "source": [
    "### Mathematics"
   ]
  },
  {
   "cell_type": "code",
   "execution_count": null,
   "metadata": {
    "colab": {
     "base_uri": "https://localhost:8080/"
    },
    "id": "O0df986EKFa6",
    "outputId": "3bdd9b84-832f-41ca-d4fd-cddfda918e89"
   },
   "outputs": [
    {
     "name": "stdout",
     "output_type": "stream",
     "text": [
      "3.141592653589793\n",
      "-1.0\n",
      "22026.465794806718\n",
      "3.0\n",
      "1.1752011936438014\n",
      "720\n"
     ]
    }
   ],
   "source": [
    "import math\n",
    "\n",
    "print(math.pi)\n",
    "\n",
    "print(math.cos(math.pi)) # cos(pi) = -1\n",
    "\n",
    "print(math.exp(10))\n",
    "\n",
    "print(math.log10(1000)) # log10(1000) = 3\n",
    "\n",
    "print(math.sinh(1))\n",
    "\n",
    "print(math.factorial(6))"
   ]
  },
  {
   "cell_type": "markdown",
   "metadata": {
    "id": "66KPDErpKlkj"
   },
   "source": [
    "### Random"
   ]
  },
  {
   "cell_type": "code",
   "execution_count": null,
   "metadata": {
    "colab": {
     "base_uri": "https://localhost:8080/"
    },
    "id": "vxuLp4z9KjhA",
    "outputId": "69036548-7dfe-4842-d5d6-1a20f0d58451"
   },
   "outputs": [
    {
     "name": "stdout",
     "output_type": "stream",
     "text": [
      "11\n",
      "c\n",
      "['a', 'e', 'd', 'c', 'b']\n",
      "0.8860764378432461\n"
     ]
    }
   ],
   "source": [
    "import random\n",
    "\n",
    "print(random.randrange(10, 20))\n",
    "\n",
    "x = ['a', 'b', 'c', 'd', 'e'] # x is a list class of variable and it has 5 elements.\n",
    "\n",
    "# Get random choice\n",
    "print(random.choice(x))\n",
    "\n",
    "# Shuffle x\n",
    "random.shuffle(x)\n",
    "\n",
    "# Print the shuffled x\n",
    "print(x)\n",
    "\n",
    "# Print random element\n",
    "print(random.random())"
   ]
  },
  {
   "cell_type": "code",
   "execution_count": null,
   "metadata": {
    "id": "DDXNVhqzKnTl"
   },
   "outputs": [],
   "source": []
  },
  {
   "cell_type": "markdown",
   "metadata": {
    "id": "WZtPoVA9KqZt"
   },
   "source": [
    "## Strings"
   ]
  },
  {
   "cell_type": "markdown",
   "metadata": {
    "id": "nIUvaIyIKxFc"
   },
   "source": [
    " Lets try to create, format, modify and delete strings"
   ]
  },
  {
   "cell_type": "code",
   "execution_count": null,
   "metadata": {
    "colab": {
     "base_uri": "https://localhost:8080/"
    },
    "id": "JhuT5gDaKpxq",
    "outputId": "2f0efa1f-bf1b-4483-fa4b-e38f694ecc63"
   },
   "outputs": [
    {
     "name": "stdout",
     "output_type": "stream",
     "text": [
      "999\n",
      "<class 'int'>\n",
      "999\n",
      "<class 'str'>\n"
     ]
    }
   ],
   "source": [
    "print(999)         \n",
    "print(type(999)) \n",
    "\n",
    "print(\"999\")      \n",
    "print(type(\"999\")) "
   ]
  },
  {
   "cell_type": "markdown",
   "metadata": {
    "id": "VUBoPOhbLEmz"
   },
   "source": [
    "### different ways to define strings"
   ]
  },
  {
   "cell_type": "code",
   "execution_count": null,
   "metadata": {
    "colab": {
     "base_uri": "https://localhost:8080/"
    },
    "id": "m7stOLmlK_bS",
    "outputId": "90bf9b4c-c426-4665-9b57-aa91e82e1b98"
   },
   "outputs": [
    {
     "name": "stdout",
     "output_type": "stream",
     "text": [
      "Hello\n"
     ]
    }
   ],
   "source": [
    "my_string = 'Hello'  \n",
    "print(my_string)   \n",
    "\n"
   ]
  },
  {
   "cell_type": "code",
   "execution_count": null,
   "metadata": {
    "colab": {
     "base_uri": "https://localhost:8080/"
    },
    "id": "mBEVIjBKLS7F",
    "outputId": "48207b89-af8e-4692-fca2-1dc8f87ddaf1"
   },
   "outputs": [
    {
     "name": "stdout",
     "output_type": "stream",
     "text": [
      "Hello\n"
     ]
    }
   ],
   "source": [
    "my_string = \"Hello\"\n",
    "print(my_string)    \n",
    "\n"
   ]
  },
  {
   "cell_type": "code",
   "execution_count": null,
   "metadata": {
    "colab": {
     "base_uri": "https://localhost:8080/"
    },
    "id": "Z6MPm3EDLWo6",
    "outputId": "1d09090b-7954-4a6d-b0a3-96951ffdd542"
   },
   "outputs": [
    {
     "name": "stdout",
     "output_type": "stream",
     "text": [
      "Hello\n"
     ]
    }
   ],
   "source": [
    "my_string = '''Hello'''\n",
    "print(my_string)    \n",
    "\n"
   ]
  },
  {
   "cell_type": "code",
   "execution_count": null,
   "metadata": {
    "colab": {
     "base_uri": "https://localhost:8080/"
    },
    "id": "nzD6OUefLbXV",
    "outputId": "c8ce07fd-a8f0-49b7-f3c4-0df40634b1ed"
   },
   "outputs": [
    {
     "name": "stdout",
     "output_type": "stream",
     "text": [
      "Hello, welcome to\n",
      "           the world of Python\n"
     ]
    }
   ],
   "source": [
    "my_string = \"\"\"Hello, welcome to\n",
    "           the world of Python\"\"\"\n",
    "print(my_string)\n",
    "\n"
   ]
  },
  {
   "cell_type": "code",
   "execution_count": null,
   "metadata": {
    "colab": {
     "base_uri": "https://localhost:8080/"
    },
    "id": "HzKRlFtZLcsb",
    "outputId": "d5668295-b483-49ed-9a1e-746588067f70"
   },
   "outputs": [
    {
     "name": "stdout",
     "output_type": "stream",
     "text": [
      "I am a resarcher cum teacher and I enjoy teaching.\n",
      "I didn't find anything as rewarding as empowering people.\n",
      "That's why I created this repository.\n"
     ]
    }
   ],
   "source": [
    "multiline_string = '''I am a resarcher cum teacher and I enjoy teaching.\n",
    "I didn't find anything as rewarding as empowering people.\n",
    "That's why I created this repository.'''\n",
    "print(multiline_string)"
   ]
  },
  {
   "cell_type": "markdown",
   "metadata": {
    "id": "0E5CvDrUPvrq"
   },
   "source": [
    "### Indexing and Negative Indexing"
   ]
  },
  {
   "cell_type": "code",
   "execution_count": null,
   "metadata": {
    "colab": {
     "base_uri": "https://localhost:8080/"
    },
    "id": "F___xVy8LdKT",
    "outputId": "04d0a0fe-4c8e-4d7a-b2e4-2b571364ae9a"
   },
   "outputs": [
    {
     "name": "stdout",
     "output_type": "stream",
     "text": [
      "P\n",
      "y\n",
      "n\n"
     ]
    }
   ],
   "source": [
    "language = 'Python'\n",
    "\n",
    "first_letter = language[0]\n",
    "print(first_letter)\n",
    "\n",
    "second_letter = language[1]\n",
    "print(second_letter)\n",
    "\n",
    "last_index = len(language) - 1\n",
    "last_letter = language[last_index]\n",
    "print(last_letter) "
   ]
  },
  {
   "cell_type": "code",
   "execution_count": null,
   "metadata": {
    "colab": {
     "base_uri": "https://localhost:8080/"
    },
    "id": "icJYDtt7PglP",
    "outputId": "a5106368-cecb-4425-89df-cd69dd25924c"
   },
   "outputs": [
    {
     "name": "stdout",
     "output_type": "stream",
     "text": [
      "str =  PYTHON\n"
     ]
    }
   ],
   "source": [
    "# Accessing string characters in Python\n",
    "str = 'PYTHON'\n",
    "print('str = ', str)\n"
   ]
  },
  {
   "cell_type": "markdown",
   "metadata": {
    "id": "y3Jv7lfcUJVS"
   },
   "source": [
    "### Float index"
   ]
  },
  {
   "cell_type": "code",
   "execution_count": null,
   "metadata": {
    "colab": {
     "base_uri": "https://localhost:8080/",
     "height": 200
    },
    "id": "3cCCXAs-T9yR",
    "outputId": "8a71cf90-8ca3-44ea-f327-1c84c8bbb9e1"
   },
   "outputs": [
    {
     "ename": "TypeError",
     "evalue": "ignored",
     "output_type": "error",
     "traceback": [
      "\u001b[0;31m---------------------------------------------------------------------------\u001b[0m",
      "\u001b[0;31mTypeError\u001b[0m                                 Traceback (most recent call last)",
      "\u001b[0;32m<ipython-input-26-392b36fabbbe>\u001b[0m in \u001b[0;36m<module>\u001b[0;34m\u001b[0m\n\u001b[1;32m      1\u001b[0m \u001b[0;31m# index must be an integer\u001b[0m\u001b[0;34m\u001b[0m\u001b[0;34m\u001b[0m\u001b[0;34m\u001b[0m\u001b[0m\n\u001b[0;32m----> 2\u001b[0;31m \u001b[0mprint\u001b[0m\u001b[0;34m(\u001b[0m\u001b[0;34m'str[1.50] = '\u001b[0m\u001b[0;34m,\u001b[0m \u001b[0mstr\u001b[0m\u001b[0;34m[\u001b[0m\u001b[0;36m1.5\u001b[0m\u001b[0;34m]\u001b[0m\u001b[0;34m)\u001b[0m\u001b[0;34m\u001b[0m\u001b[0;34m\u001b[0m\u001b[0m\n\u001b[0m\u001b[1;32m      3\u001b[0m \u001b[0;34m\u001b[0m\u001b[0m\n",
      "\u001b[0;31mTypeError\u001b[0m: string indices must be integers"
     ]
    }
   ],
   "source": [
    "\n",
    "# index must be an integer\n",
    "print('str[1.50] = ', str[1.5])\n",
    "\n"
   ]
  },
  {
   "cell_type": "code",
   "execution_count": null,
   "metadata": {
    "colab": {
     "base_uri": "https://localhost:8080/",
     "height": 183
    },
    "id": "e0xI5rpvUCTO",
    "outputId": "20fe147e-cefd-42fe-d748-cfb4e4094ad0"
   },
   "outputs": [
    {
     "ename": "IndexError",
     "evalue": "ignored",
     "output_type": "error",
     "traceback": [
      "\u001b[0;31m---------------------------------------------------------------------------\u001b[0m",
      "\u001b[0;31mIndexError\u001b[0m                                Traceback (most recent call last)",
      "\u001b[0;32m<ipython-input-27-57bbac0cd538>\u001b[0m in \u001b[0;36m<module>\u001b[0;34m\u001b[0m\n\u001b[1;32m      1\u001b[0m \u001b[0;31m# index must be in range\u001b[0m\u001b[0;34m\u001b[0m\u001b[0;34m\u001b[0m\u001b[0;34m\u001b[0m\u001b[0m\n\u001b[0;32m----> 2\u001b[0;31m \u001b[0mprint\u001b[0m\u001b[0;34m(\u001b[0m\u001b[0;34m'str[15] = '\u001b[0m\u001b[0;34m,\u001b[0m \u001b[0mstr\u001b[0m\u001b[0;34m[\u001b[0m\u001b[0;36m15\u001b[0m\u001b[0;34m]\u001b[0m\u001b[0;34m)\u001b[0m\u001b[0;34m\u001b[0m\u001b[0;34m\u001b[0m\u001b[0m\n\u001b[0m",
      "\u001b[0;31mIndexError\u001b[0m: string index out of range"
     ]
    }
   ],
   "source": [
    "# index must be in range\n",
    "print('str[15] = ', str[15])  "
   ]
  },
  {
   "cell_type": "markdown",
   "metadata": {
    "id": "e-d5ZRJKUSzp"
   },
   "source": [
    "### Slicing\n"
   ]
  },
  {
   "cell_type": "code",
   "execution_count": null,
   "metadata": {
    "colab": {
     "base_uri": "https://localhost:8080/",
     "height": 35
    },
    "id": "pPy6cJgBUUWP",
    "outputId": "7930ccc7-6dfb-4209-c382-87a673642f89"
   },
   "outputs": [
    {
     "data": {
      "application/vnd.google.colaboratory.intrinsic+json": {
       "type": "string"
      },
      "text/plain": [
       "'Pytho'"
      ]
     },
     "execution_count": 29,
     "metadata": {},
     "output_type": "execute_result"
    }
   ],
   "source": [
    "s = 'Python'\n",
    "\n",
    "# 0  1  2  3  4  5  <- Index number: POSITIVE\n",
    "# P  y  t  h  o  n\n",
    "#-6 -5 -4 -3 -2 -1  <- Index number: NEGATIVE\n",
    "\n",
    "# access elements in range with jump/skip\n",
    "#s[x:y:z] # Start: x Stop:y-1 Jump:z\n",
    "\n",
    "s[0:5:1]  # ▶ 'Pytho' ∵ Start:0  Stop:5  Jump:1 "
   ]
  },
  {
   "cell_type": "code",
   "execution_count": null,
   "metadata": {
    "colab": {
     "base_uri": "https://localhost:8080/"
    },
    "id": "48Ui0EVgUlnx",
    "outputId": "bb3ad52e-f556-41c1-fe99-18d5d02e9e02"
   },
   "outputs": [
    {
     "name": "stdout",
     "output_type": "stream",
     "text": [
      "The string '123456789' string is 9 characters long\n",
      "First character of 123456789 is 1\n",
      "Last character of 123456789 is 9\n",
      "Last character of 123456789 is 9\n"
     ]
    }
   ],
   "source": [
    "s = '123456789' # Indexing strats from 0 to 8\n",
    "\n",
    "print(\"The string '%s' string is %d characters long\" %(s, len(s)))  \n",
    "print('First character of',s,'is',s[0]) \n",
    "print('Last character of',s,'is',s[8])\n",
    "print('Last character of',s,'is',s[len(s)-1]) # [9-1] = [8] is 9"
   ]
  },
  {
   "cell_type": "code",
   "execution_count": null,
   "metadata": {
    "colab": {
     "base_uri": "https://localhost:8080/"
    },
    "id": "PoZBOrsZUCvc",
    "outputId": "5c859e46-9513-4ef9-8490-6ade6d94fc4d"
   },
   "outputs": [
    {
     "name": "stdout",
     "output_type": "stream",
     "text": [
      "First character of 123456789 is 1\n",
      "First character of 123456789 is 1\n",
      "Second character of 123456789 is 2\n",
      "Last character of 123456789 is 9\n"
     ]
    }
   ],
   "source": [
    "print('First character of',s,'is',s[-len(s)])\n",
    "print('First character of',s,'is',s[(-9)])\n",
    "print('Second character of',s,'is',s[(-8)])\n",
    "print('Last character of',s,'is',s[-1])"
   ]
  },
  {
   "cell_type": "code",
   "execution_count": null,
   "metadata": {
    "colab": {
     "base_uri": "https://localhost:8080/"
    },
    "id": "2rPBtD7MUPGS",
    "outputId": "146d1ad3-86d2-41e1-e470-1a5b8c52251b"
   },
   "outputs": [
    {
     "name": "stdout",
     "output_type": "stream",
     "text": [
      "('one ', '-', ' two - three')\n",
      "['one', '-', 'two', '-', 'three']\n",
      "['one ', ' two ', ' three']\n",
      "one ; two ; three\n"
     ]
    }
   ],
   "source": [
    "s = \"one - two - three\"\n",
    "print( s.partition(\"-\") )\n",
    "print( s.split() )\n",
    "print( s.split(\"-\") )\n",
    "print( \";\".join( s.split(\"-\") ) )"
   ]
  },
  {
   "cell_type": "markdown",
   "metadata": {
    "id": "OVzcXA87U32R"
   },
   "source": [
    "### Basic Operations"
   ]
  },
  {
   "cell_type": "code",
   "execution_count": null,
   "metadata": {
    "colab": {
     "base_uri": "https://localhost:8080/"
    },
    "id": "DZ2lxP4OUwUV",
    "outputId": "62167baa-4151-40f6-8084-3782eea2f344"
   },
   "outputs": [
    {
     "name": "stdout",
     "output_type": "stream",
     "text": [
      "Hello,World!\n",
      "Hello, World!\n"
     ]
    }
   ],
   "source": [
    "# String Concatenation\n",
    "\n",
    "a = \"Hello,\"\n",
    "b= 'World!'\n",
    "print(a+b)\n",
    "print(a+\" \"+b)"
   ]
  },
  {
   "cell_type": "code",
   "execution_count": null,
   "metadata": {
    "colab": {
     "base_uri": "https://localhost:8080/"
    },
    "id": "bUL5l4hEU7CS",
    "outputId": "bc9f56af-1afb-416a-fc34-711371cd31b6"
   },
   "outputs": [
    {
     "name": "stdout",
     "output_type": "stream",
     "text": [
      "Hello, World!\n"
     ]
    }
   ],
   "source": [
    "# String Concatenation\n",
    "\n",
    "string1='World'\n",
    "string2='!'\n",
    "print('Hello,' + \" \" + string1 + string2)"
   ]
  },
  {
   "cell_type": "code",
   "execution_count": null,
   "metadata": {
    "colab": {
     "base_uri": "https://localhost:8080/"
    },
    "id": "ndDZs3r1U8Dd",
    "outputId": "c5b1ff92-0f60-40c3-cee6-d9aa78e1058e"
   },
   "outputs": [
    {
     "name": "stdout",
     "output_type": "stream",
     "text": [
      "HelloWorldHelloWorldHelloWorldHelloWorldHelloWorld\n",
      "PythonPythonPython\n"
     ]
    }
   ],
   "source": [
    "# Example:\n",
    "\n",
    "print(\"HelloWorld\" * 5)\n",
    "print(3 * \"Python\")"
   ]
  },
  {
   "cell_type": "code",
   "execution_count": null,
   "metadata": {
    "colab": {
     "base_uri": "https://localhost:8080/"
    },
    "id": "GBqVMVxwU9zV",
    "outputId": "6a1c263d-69e0-40ca-f2ee-c027159fbdbd"
   },
   "outputs": [
    {
     "name": "stdout",
     "output_type": "stream",
     "text": [
      "str1 + str2 =  HelloWorld!\n",
      "str1 * 3 = HelloHelloHello\n"
     ]
    }
   ],
   "source": [
    "# Python String Operations\n",
    "str1 = 'Hello'\n",
    "str2 ='World!'\n",
    "\n",
    "# using +\n",
    "print('str1 + str2 = ', str1 + str2)\n",
    "\n",
    "# using *\n",
    "print('str1 * 3 =', str1 * 3)"
   ]
  },
  {
   "cell_type": "code",
   "execution_count": null,
   "metadata": {
    "colab": {
     "base_uri": "https://localhost:8080/"
    },
    "id": "645pTmL2U_d9",
    "outputId": "3b01f090-862b-4752-aa7e-54988189e3b6"
   },
   "outputs": [
    {
     "name": "stdout",
     "output_type": "stream",
     "text": [
      "3 letters found\n"
     ]
    }
   ],
   "source": [
    "# Iterating through a string\n",
    "count = 0\n",
    "for letter in 'Hello World':\n",
    "    if(letter == 'l'):\n",
    "        count += 1\n",
    "print(count,'letters found')"
   ]
  },
  {
   "cell_type": "code",
   "execution_count": null,
   "metadata": {
    "colab": {
     "base_uri": "https://localhost:8080/"
    },
    "id": "Uik847ORVBa4",
    "outputId": "77d3f451-df61-4428-ca9f-3e896abf447f"
   },
   "outputs": [
    {
     "name": "stdout",
     "output_type": "stream",
     "text": [
      "Exmple of in operator ::\n",
      "True\n",
      "True\n",
      "False\n",
      "\n",
      "False\n",
      "False\n",
      "True\n"
     ]
    }
   ],
   "source": [
    "# Example:\n",
    "\n",
    "str1=\"HelloWorld\"\n",
    "str2=\"Hello\"\n",
    "str3=\"World\"\n",
    "str4=\"Milan\"\n",
    "\n",
    "print('Exmple of in operator ::')\n",
    "print(str2 in str1)\n",
    "print(str3 in str1)\n",
    "print(str4 in str1)\n",
    "print()\n",
    "print(str2 not in str1)\n",
    "print(str3 not in str1)\n",
    "print(str4 not in str1)"
   ]
  },
  {
   "cell_type": "code",
   "execution_count": null,
   "metadata": {
    "colab": {
     "base_uri": "https://localhost:8080/"
    },
    "id": "guSmqwDfVCqx",
    "outputId": "96f152f3-ac50-40d7-bf5a-7ff610afdb0c"
   },
   "outputs": [
    {
     "name": "stdout",
     "output_type": "stream",
     "text": [
      "True\n",
      "True\n",
      "True\n"
     ]
    }
   ],
   "source": [
    "# Example:\n",
    "\n",
    "print(\"HelloWorld\"==\"HelloWorld\")\n",
    "print(\"helloWorld\">=\"HelloWorld\")\n",
    "print(\"H\"<\"h\")"
   ]
  },
  {
   "cell_type": "code",
   "execution_count": null,
   "metadata": {
    "colab": {
     "base_uri": "https://localhost:8080/"
    },
    "id": "9WFTQIuUVEPD",
    "outputId": "28b7796e-609d-4511-d1bd-e6b7b901503d"
   },
   "outputs": [
    {
     "name": "stdout",
     "output_type": "stream",
     "text": [
      "Hello World\n",
      "Actual Number = 19\n",
      "Float of the number = 19.000000\n",
      "Octal equivalent of the number = 23\n",
      "Hexadecimal equivalent of the number = 13\n",
      "Exponential equivalent of the number = 1.900000e+01\n"
     ]
    }
   ],
   "source": [
    "print(\"Hello %s\" % string1)\n",
    "print(\"Actual Number = %d\" %19)\n",
    "print(\"Float of the number = %f\" %19)\n",
    "print(\"Octal equivalent of the number = %o\" %19)\n",
    "print(\"Hexadecimal equivalent of the number = %x\" %19)\n",
    "print(\"Exponential equivalent of the number = %e\" %19)"
   ]
  },
  {
   "cell_type": "code",
   "execution_count": null,
   "metadata": {
    "colab": {
     "base_uri": "https://localhost:8080/"
    },
    "id": "Z-z1Uj2TVFkB",
    "outputId": "5bb64436-2550-4205-b871-216ad38e650d"
   },
   "outputs": [
    {
     "name": "stdout",
     "output_type": "stream",
     "text": [
      "\n",
      "--- Default Order ---\n",
      "Allan, Bill and Cory\n",
      "\n",
      "--- Positional Order ---\n",
      "Bill, Allan and Cory\n",
      "\n",
      "--- Keyword Order ---\n",
      "Cory, Bill and Allan\n"
     ]
    }
   ],
   "source": [
    "# Python string format() method\n",
    "\n",
    "# default(implicit) order\n",
    "default_order = \"{}, {} and {}\".format('Allan','Bill','Cory')\n",
    "print('\\n--- Default Order ---')\n",
    "print(default_order)\n",
    "\n",
    "# order using positional argument\n",
    "positional_order = \"{1}, {0} and {2}\".format('Allan','Bill','Cory')\n",
    "print('\\n--- Positional Order ---')\n",
    "print(positional_order)\n",
    "\n",
    "# order using keyword argument\n",
    "keyword_order = \"{s}, {b} and {j}\".format(j='Allan',b='Bill',s='Cory')\n",
    "print('\\n--- Keyword Order ---')\n",
    "print(keyword_order)"
   ]
  },
  {
   "cell_type": "markdown",
   "metadata": {
    "id": "A6J7hYTfVnpS"
   },
   "source": [
    "* Upper vs lower case: **`upper()`**, **`lower()`**, **`captialize()`**, **`title()`** and **`swapcase()`**, **`join()`**, **`split()`**, **`find()`**, **`replace()`** etc, with mostly the obvious meaning. Note that `capitalize` makes the first letter of the string a capital only, while **`title`** selects upper case for the first letter of every word.\n",
    "\n",
    "\n",
    "* Padding strings: **`center(n)`**, **`ljust(n)`** and **`rjust(n)`** each place the string into a longer string of length n  padded by spaces (centered, left-justified or right-justified respectively). **`zfill(n)`** works similarly but pads with leading zeros.\n",
    "\n",
    "\n",
    "* Stripping strings: Often we want to remove spaces, this is achived with the functions **`strip()`**, **`lstrip()`**, and **`rstrip()`** respectively to remove from spaces from the both end, just left or just the right respectively. An optional argument can be used to list a set of other characters to be removed."
   ]
  },
  {
   "cell_type": "code",
   "execution_count": null,
   "metadata": {
    "colab": {
     "base_uri": "https://localhost:8080/"
    },
    "id": "yt39AemkVNBR",
    "outputId": "7f865c0b-6e4d-40ff-8f5b-727ea4e2c33e"
   },
   "outputs": [
    {
     "name": "stdout",
     "output_type": "stream",
     "text": [
      "Python datatypes\n"
     ]
    }
   ],
   "source": [
    "# capitalize(): Converts the first character the string to Capital Letter\n",
    "\n",
    "challenge = 'Python Datatypes'\n",
    "print(challenge.capitalize()) # 'Python Datatypes'"
   ]
  },
  {
   "cell_type": "code",
   "execution_count": null,
   "metadata": {
    "colab": {
     "base_uri": "https://localhost:8080/"
    },
    "id": "6ItAwTG9VqHl",
    "outputId": "d3d57427-8fae-4276-fb60-dd9c045162c7"
   },
   "outputs": [
    {
     "name": "stdout",
     "output_type": "stream",
     "text": [
      "2\n",
      "1\n",
      "1\n"
     ]
    }
   ],
   "source": [
    "# count(): returns occurrences of substring in string, count(substring, start=.., end=..)\n",
    "\n",
    "challenge = 'Python Datatypes'\n",
    "print(challenge.count('y')) # 2\n",
    "print(challenge.count('y', 6, 14)) # 1\n",
    "print(challenge.count('ty')) # 1"
   ]
  },
  {
   "cell_type": "code",
   "execution_count": null,
   "metadata": {
    "colab": {
     "base_uri": "https://localhost:8080/"
    },
    "id": "TRCDIkPhVrDY",
    "outputId": "97df255e-d6a0-4088-c7fa-9f61d0bc95ce"
   },
   "outputs": [
    {
     "name": "stdout",
     "output_type": "stream",
     "text": [
      "True\n",
      "False\n"
     ]
    }
   ],
   "source": [
    "# endswith(): Checks if a string ends with a specified ending\n",
    "\n",
    "challenge = 'Python Datatypes'\n",
    "print(challenge.endswith('es'))   # True\n",
    "print(challenge.endswith('type')) # False"
   ]
  },
  {
   "cell_type": "code",
   "execution_count": null,
   "metadata": {
    "colab": {
     "base_uri": "https://localhost:8080/"
    },
    "id": "51Aug5W4VsG3",
    "outputId": "beeac0ed-e990-4713-d3d4-bc9ea5d9747c"
   },
   "outputs": [
    {
     "name": "stdout",
     "output_type": "stream",
     "text": [
      "1\n",
      "-1\n"
     ]
    }
   ],
   "source": [
    "# find(): Returns the index of first occurrence of substring\n",
    "\n",
    "challenge = 'Python Datatypes'\n",
    "print(challenge.find('y'))  # 1\n",
    "print(challenge.find('u')) # -1"
   ]
  },
  {
   "cell_type": "code",
   "execution_count": null,
   "metadata": {
    "colab": {
     "base_uri": "https://localhost:8080/"
    },
    "id": "oXKCIrSuVuGB",
    "outputId": "c5a0630e-6672-4041-aa78-2faeb8072998"
   },
   "outputs": [
    {
     "name": "stdout",
     "output_type": "stream",
     "text": [
      "I am Milaan Parmar. I am a Lecturer. I live in Finland.\n"
     ]
    }
   ],
   "source": [
    "# format()\tformats string into nicer output    \n",
    "first_name = 'Milaan'\n",
    "last_name = 'Parmar'\n",
    "job = 'Lecturer'\n",
    "country = 'Finland'\n",
    "sentence = 'I am {} {}. I am a {}. I live in {}.'.format(first_name, last_name, job, country)\n",
    "print(sentence) # I am Milaan Parmar. I am a Lecturer. I live in Finland."
   ]
  },
  {
   "cell_type": "code",
   "execution_count": null,
   "metadata": {
    "colab": {
     "base_uri": "https://localhost:8080/"
    },
    "id": "dQs-U-16Vvw_",
    "outputId": "aa9cd733-11c7-4f6f-e52b-19717b2d9415"
   },
   "outputs": [
    {
     "name": "stdout",
     "output_type": "stream",
     "text": [
      "1\n",
      "2\n"
     ]
    }
   ],
   "source": [
    "# index(): Returns the index of substring\n",
    "\n",
    "challenge = 'Python Datatypes'\n",
    "print(challenge.index('y'))  # 1\n",
    "print(challenge.index('th')) # 2"
   ]
  },
  {
   "cell_type": "code",
   "execution_count": null,
   "metadata": {
    "colab": {
     "base_uri": "https://localhost:8080/"
    },
    "id": "rfouadWYVxTl",
    "outputId": "de429f3a-5a99-4506-afbd-2bee35c6e81e"
   },
   "outputs": [
    {
     "name": "stdout",
     "output_type": "stream",
     "text": [
      "True\n",
      "False\n"
     ]
    }
   ],
   "source": [
    "# isalpha(): Checks if all characters are alphabets\n",
    "\n",
    "challenge = 'PythonDatatypes'\n",
    "print(challenge.isalpha()) # True\n",
    "\n",
    "num = '123'\n",
    "print(num.isalpha())      # False"
   ]
  },
  {
   "cell_type": "code",
   "execution_count": null,
   "metadata": {
    "colab": {
     "base_uri": "https://localhost:8080/"
    },
    "id": "BL2EKJm1V3ad",
    "outputId": "714f619e-5d1c-42b2-8a0f-a12b5edc2d02"
   },
   "outputs": [
    {
     "name": "stdout",
     "output_type": "stream",
     "text": [
      "True\n"
     ]
    }
   ],
   "source": [
    "# isdecimal(): Checks Decimal Characters\n",
    "\n",
    "challenge = '12345'\n",
    "print(challenge.isdecimal())\n"
   ]
  },
  {
   "cell_type": "code",
   "execution_count": null,
   "metadata": {
    "colab": {
     "base_uri": "https://localhost:8080/"
    },
    "id": "0pwcZ021V_wB",
    "outputId": "8aa38d18-d8d2-4a2f-e962-0ae4b15e7d07"
   },
   "outputs": [
    {
     "name": "stdout",
     "output_type": "stream",
     "text": [
      "True\n",
      "False\n"
     ]
    }
   ],
   "source": [
    "# islower():Checks if all alphabets in a string are lowercase\n",
    "\n",
    "challenge = 'python datatypes'\n",
    "print(challenge.islower()) # True\n",
    "challenge = 'Python datatypes'\n",
    "print(challenge.islower()) # False"
   ]
  },
  {
   "cell_type": "code",
   "execution_count": null,
   "metadata": {
    "colab": {
     "base_uri": "https://localhost:8080/"
    },
    "id": "BlbujpcgWYWq",
    "outputId": "c3d47a77-e9a0-4478-d743-959afd5b202a"
   },
   "outputs": [
    {
     "name": "stdout",
     "output_type": "stream",
     "text": [
      "False\n",
      "True\n"
     ]
    }
   ],
   "source": [
    "# isupper(): returns if all characters are uppercase characters\n",
    "\n",
    "challenge = 'python datatypes'\n",
    "print(challenge.isupper()) #  False\n",
    "challenge = 'PYTHON DATATYPES'\n",
    "print(challenge.isupper()) # True"
   ]
  },
  {
   "cell_type": "code",
   "execution_count": null,
   "metadata": {
    "colab": {
     "base_uri": "https://localhost:8080/"
    },
    "id": "tlJ-QUVWWgDm",
    "outputId": "e42b5ec5-ced9-4266-eb88-0f25e84b0b94"
   },
   "outputs": [
    {
     "name": "stdout",
     "output_type": "stream",
     "text": [
      " python datatypes \n"
     ]
    }
   ],
   "source": [
    "# strip(): Removes both leading and trailing characters\n",
    "\n",
    "challenge = ' python datatypes '\n",
    "print(challenge.strip('y')) # 5"
   ]
  },
  {
   "cell_type": "code",
   "execution_count": null,
   "metadata": {
    "colab": {
     "base_uri": "https://localhost:8080/"
    },
    "id": "qarW3rYeWiYc",
    "outputId": "ba59f35b-a8fe-4071-defe-a48962b31ca7"
   },
   "outputs": [
    {
     "name": "stdout",
     "output_type": "stream",
     "text": [
      "python data-types\n"
     ]
    }
   ],
   "source": [
    "# replace(): Replaces substring inside\n",
    "\n",
    "challenge = 'python datatypes'\n",
    "print(challenge.replace('datatypes', 'data-types')) # 'thirty days of coding'"
   ]
  },
  {
   "cell_type": "code",
   "execution_count": null,
   "metadata": {
    "colab": {
     "base_uri": "https://localhost:8080/"
    },
    "id": "Yd_ErFiFWjiZ",
    "outputId": "0418813f-bfd9-49bd-f529-ccc62a4e7e26"
   },
   "outputs": [
    {
     "name": "stdout",
     "output_type": "stream",
     "text": [
      "Python Datatypes\n"
     ]
    }
   ],
   "source": [
    "# title(): Returns a Title Cased String\n",
    "\n",
    "challenge = 'python datatypes'\n",
    "print(challenge.title()) # Python Datatypes"
   ]
  },
  {
   "cell_type": "code",
   "execution_count": null,
   "metadata": {
    "colab": {
     "base_uri": "https://localhost:8080/"
    },
    "id": "sL5njpDUWkeg",
    "outputId": "2db00b3e-f987-424a-da74-451f68abdf96"
   },
   "outputs": [
    {
     "name": "stdout",
     "output_type": "stream",
     "text": [
      "PYTHON DATATYPES\n",
      "pYTHON dATATYPES\n"
     ]
    }
   ],
   "source": [
    "# swapcase(): Checks if String Starts with the Specified String\n",
    "  \n",
    "challenge = 'python datatypes'\n",
    "print(challenge.swapcase())   # PYTHON DATATYPES\n",
    "challenge = 'Python Datatypes'\n",
    "print(challenge.swapcase())  # pYTHON dATATYPES"
   ]
  },
  {
   "cell_type": "code",
   "execution_count": null,
   "metadata": {
    "colab": {
     "base_uri": "https://localhost:8080/"
    },
    "id": "d9kbiUH8WlxB",
    "outputId": "7fb51519-3245-4ad5-ae1c-d8bcdc0cbcb6"
   },
   "outputs": [
    {
     "name": "stdout",
     "output_type": "stream",
     "text": [
      "True\n",
      "False\n"
     ]
    }
   ],
   "source": [
    "# startswith(): Checks if String Starts with the Specified String\n",
    "\n",
    "challenge = 'python datatypes'\n",
    "print(challenge.startswith('python')) # True\n",
    "challenge = '2 python datatypes'\n",
    "print(challenge.startswith('two')) # False"
   ]
  },
  {
   "cell_type": "markdown",
   "metadata": {
    "id": "VmD4tooWWrXx"
   },
   "source": [
    "### Lists"
   ]
  },
  {
   "cell_type": "code",
   "execution_count": null,
   "metadata": {
    "colab": {
     "base_uri": "https://localhost:8080/"
    },
    "id": "OPxfr1JUWmwJ",
    "outputId": "b5c45916-61ad-4e63-bc1f-3163be462d8c"
   },
   "outputs": [
    {
     "name": "stdout",
     "output_type": "stream",
     "text": [
      "[]\n",
      "0\n",
      "[1, 2, 3]\n",
      "[1, 'Hello', 3.4]\n",
      "['mouse', [9, 3, 6], ['a']]\n",
      "['foo', 'bar', 'baz', 'quz', 'quux', 'corge']\n",
      "[1, 2, 3, 4, 4.5, 'helloworld', 'X']\n"
     ]
    }
   ],
   "source": [
    "# Example:\n",
    "\n",
    "# empty list, no item in the list\n",
    "my_list = []  \n",
    "print(my_list)      # ▶ ()\n",
    "print(len(my_list)) # ▶ 0\n",
    "\n",
    "# list of integers\n",
    "my_list1 = [1, 2, 3]  \n",
    "print(my_list1)     # ▶ [1, 2, 3]\n",
    "\n",
    "# list with mixed data types\n",
    "my_list2 = [1, \"Hello\", 3.4]\n",
    "print(my_list2)     # ▶ [1, 'Hello', 3.4]\n",
    "\n",
    "# nested list\n",
    "my_list3 = [\"mouse\", [9, 3, 6], ['a']]\n",
    "print(my_list3)     # ▶ [\"mouse\", [9, 3, 6], ['a']]\n",
    "\n",
    "my_list4=['foo','bar','baz','quz','quux','corge']\n",
    "print(my_list4)     # ▶ ['foo','bar','baz','quz','quux','corge']\n",
    "\n",
    "my_list5=[1,2,3,4,4.5,'helloworld','X']\n",
    "print(my_list5)     # ▶ [1,2,3,4,4.5,'helloworld','X']"
   ]
  },
  {
   "cell_type": "code",
   "execution_count": null,
   "metadata": {
    "colab": {
     "base_uri": "https://localhost:8080/"
    },
    "id": "WF8QaHFIXOs5",
    "outputId": "d99bacd2-f798-4df0-a215-3e8a84e26b79"
   },
   "outputs": [
    {
     "name": "stdout",
     "output_type": "stream",
     "text": [
      "p\n",
      "o\n",
      "e\n",
      "a\n",
      "5\n"
     ]
    }
   ],
   "source": [
    "# Example: List indexing\n",
    "\n",
    "my_list = ['p', 'r', 'o', 'b', 'e']\n",
    "\n",
    "print(my_list[0]) # ▶  p\n",
    "print(my_list[2]) # ▶  o\n",
    "print(my_list[4]) # ▶  e\n",
    "\n",
    "# Nested List\n",
    "n_list = [\"Happy\", [2, 0, 1, 5]]\n",
    "\n",
    "# Nested indexing\n",
    "print(n_list[0][1]) # ▶ a\n",
    "print(n_list[1][3]) # ▶ 5\n",
    "\n"
   ]
  },
  {
   "cell_type": "code",
   "execution_count": null,
   "metadata": {
    "colab": {
     "base_uri": "https://localhost:8080/"
    },
    "id": "yD0K86sXXcAo",
    "outputId": "a4f8214f-f753-4f1a-e826-d3c1eaf95732"
   },
   "outputs": [
    {
     "name": "stdout",
     "output_type": "stream",
     "text": [
      "e\n",
      "p\n"
     ]
    }
   ],
   "source": [
    "# Example: Negative indexing in lists\n",
    "\n",
    "# Python allows negative indexing for its sequences. \n",
    "#The index of -1 refers to the last item, -2 to the second last item and so on.\n",
    "\n",
    "my_list = ['p','r','o','b','e']\n",
    "\n",
    "print(my_list[-1])  # ▶ e\n",
    "print(my_list[-5])  # ▶ p"
   ]
  },
  {
   "cell_type": "code",
   "execution_count": null,
   "metadata": {
    "colab": {
     "base_uri": "https://localhost:8080/"
    },
    "id": "jEz9Djx6Xgxe",
    "outputId": "099a7bf2-e2f7-499b-c0e2-21a2d705f110"
   },
   "outputs": [
    {
     "name": "stdout",
     "output_type": "stream",
     "text": [
      "['o', 'g', 'r']\n",
      "['p', 'r', 'o', 'g', 'r']\n",
      "['a', 'm', 'i', 'n', 'g']\n",
      "['p', 'r', 'o', 'g', 'r', 'a', 'm', 'i', 'n', 'g']\n"
     ]
    }
   ],
   "source": [
    "# Example: List slicing in Python\n",
    "\n",
    "my_list = ['p','r','o','g','r','a','m','i','n','g']\n",
    "# indes   [ 0   1   2   3   4   5   6   7   8   9 ]\n",
    "# index   [-10 -9  -8  -7  -6  -5  -4  -3  -2  -1 ]\n",
    "\n",
    "print(my_list[2:5])   # ▶ ['o', 'g', 'r'] ∵ elements 3rd to 4th\n",
    "print(my_list[:-5])   # ▶ ['p', 'r', 'o', 'g', 'r'] ∵ elements beginning to 4th\n",
    "print(my_list[5:])    # ▶ ['a', 'm', 'i', 'n', 'g'] ∵ elements 5th to end\n",
    "\n",
    "# elements beginning to end\n",
    "print(my_list[:])     # ▶ ('p', 'r', 'o', 'g', 'r', 'a', 'm', 'i', 'n','g')"
   ]
  },
  {
   "cell_type": "code",
   "execution_count": null,
   "metadata": {
    "colab": {
     "base_uri": "https://localhost:8080/"
    },
    "id": "2clJsuCKXpW6",
    "outputId": "80a9ae3e-9063-4d0c-cb81-e933ab053751"
   },
   "outputs": [
    {
     "name": "stdout",
     "output_type": "stream",
     "text": [
      "baz\n",
      "['foo', 'bar', 'baz', 'quz', 'quux', 'corge']\n",
      "['quux', 'corge']\n",
      "['baz', 'quz', 'quux']\n",
      "['bar', 'quz']\n",
      "['corge', 'quux', 'quz', 'baz', 'bar', 'foo']\n",
      "corge\n",
      "quux\n",
      "5\n",
      "True\n"
     ]
    }
   ],
   "source": [
    "# Example:\n",
    "\n",
    "list=['foo','bar','baz','quz','quux','corge']\n",
    "\n",
    "print(list[2])         # ▶ baz\n",
    "print(list[0:])        # ▶ ['foo', 'bar', 'baz', 'quz', 'quux', 'corge'] ∵ if we don't set where to stop it takes all the rest\n",
    "print(list[4:6])       # ▶ ['quux', 'corge']\n",
    "print(list[-4:-1])     # ▶ ['baz', 'quz', 'quux'] ∵ it does not include the end index\n",
    "print(list[1:5:2])     # ▶ ['bar', 'quz'] ∵ it does not include the end index\n",
    "print(list[-1: :-1])   # ▶ ['corge', 'quux', 'quz', 'baz', 'bar', 'foo'] ∵ reverse list\n",
    "print(list[-1])        # ▶ corge ∵ last element\n",
    "print(list[-2])        # ▶ quux ∵ second last element\n",
    "print(len(list)-1)     # ▶ 5 ∵ index of last element\n",
    "\n",
    "does_exist = 'bar' in list\n",
    "print(does_exist)      # ▶ True"
   ]
  },
  {
   "cell_type": "code",
   "execution_count": null,
   "metadata": {
    "colab": {
     "base_uri": "https://localhost:8080/"
    },
    "id": "m4LrbM62X0Li",
    "outputId": "5c33c408-12a3-4e17-8de4-489785ba2d05"
   },
   "outputs": [
    {
     "name": "stdout",
     "output_type": "stream",
     "text": [
      "[1, 4, 6, 8]\n",
      "[1, 3, 5, 7]\n"
     ]
    }
   ],
   "source": [
    "# Example: Correcting mistake values in a list\n",
    "\n",
    "odd = [2, 4, 6, 8]\n",
    "  \n",
    "odd[0] = 1            # ▶ [1, 4, 6, 8] ∵ update 1st element         \n",
    "print(odd)\n",
    "\n",
    "odd[1:4] = [3, 5, 7]  # ▶ [1, 3, 5, 7] ∵ update 2nd to 4th elements\n",
    "print(odd)  "
   ]
  },
  {
   "cell_type": "code",
   "execution_count": null,
   "metadata": {
    "colab": {
     "base_uri": "https://localhost:8080/"
    },
    "id": "ZuTEnmqbX2O4",
    "outputId": "59cac310-7db5-4459-84d6-620b88291ada"
   },
   "outputs": [
    {
     "name": "stdout",
     "output_type": "stream",
     "text": [
      "[5, 10, 15, 20, 25]\n",
      "[5, 10, 'Multiple of 5', 20, 25]\n"
     ]
    }
   ],
   "source": [
    "# Example:\n",
    "\n",
    "data1=[5,10,15,20,25]\n",
    "print(data1) # ▶ [5, 10, 15, 20, 25]\n",
    "\n",
    "data1[2]=\"Multiple of 5\"  # we are modifying the 3rd element using its index [2] \n",
    "print(data1) # ▶ [5, 10, 'Multiple of 5', 20, 25]"
   ]
  },
  {
   "cell_type": "code",
   "execution_count": null,
   "metadata": {
    "colab": {
     "base_uri": "https://localhost:8080/"
    },
    "id": "sH-WwMShX3qC",
    "outputId": "8a129e09-7a74-49c6-afd3-c988cb08e9b5"
   },
   "outputs": [
    {
     "name": "stdout",
     "output_type": "stream",
     "text": [
      "[1, 3, 5, 7]\n",
      "[1, 3, 5, 7, 9, 11, 13]\n"
     ]
    }
   ],
   "source": [
    "# Example: Appending and Extending lists in Python\n",
    "\n",
    "odd = [1, 3, 5]\n",
    "\n",
    "odd.append(7)\n",
    "print(odd)  # ▶ [1, 3, 5, 7]\n",
    "\n",
    "odd.extend([9, 11, 13])\n",
    "print(odd)  # ▶ [1, 3, 5, 7, 9, 11, 13]"
   ]
  },
  {
   "cell_type": "code",
   "execution_count": null,
   "metadata": {
    "colab": {
     "base_uri": "https://localhost:8080/"
    },
    "id": "ZRZSpmKuX5u2",
    "outputId": "bc9a2196-a1d4-4c99-dde1-92f91c0102f0"
   },
   "outputs": [
    {
     "name": "stdout",
     "output_type": "stream",
     "text": [
      "['a', 'b', 'c', 1.5, 'x', ['y', 'z']]\n"
     ]
    }
   ],
   "source": [
    "# Example:\n",
    "\n",
    "list1=['a','b','c']\n",
    "list1.append(1.5)\n",
    "list1.append('x')\n",
    "list1.append(['y','z']) # append list into list as single object\n",
    "print(list1)  # ▶ ['a', 'b', 'c', 1.5, 'x', ['y', 'z']]"
   ]
  },
  {
   "cell_type": "code",
   "execution_count": null,
   "metadata": {
    "colab": {
     "base_uri": "https://localhost:8080/"
    },
    "id": "8EkGHmVwX6-Z",
    "outputId": "4f637ac2-e24a-4d49-80aa-76af537b8ccf"
   },
   "outputs": [
    {
     "name": "stdout",
     "output_type": "stream",
     "text": [
      "[1, 3, 5, 9, 7, 5]\n"
     ]
    }
   ],
   "source": [
    "# Example: Concatenating and repeating lists\n",
    "\n",
    "odd = [1, 3, 5]\n",
    "print(odd + [9, 7, 5]) # ▶ [1, 3, 5, 9, 7, 5] "
   ]
  },
  {
   "cell_type": "code",
   "execution_count": null,
   "metadata": {
    "colab": {
     "base_uri": "https://localhost:8080/"
    },
    "id": "xap8LheGX8bL",
    "outputId": "54bb0965-5ad0-4f1d-abf7-7db68ef4e0c6"
   },
   "outputs": [
    {
     "name": "stdout",
     "output_type": "stream",
     "text": [
      "['a', 'b', 'c', 'x', 'y', 'z']\n"
     ]
    }
   ],
   "source": [
    "# Example:\n",
    "\n",
    "list1=['a','b','c']\n",
    "list2=['x','y','z']\n",
    "list3=list1+list2\n",
    "print(list3)  # ▶ ['a', 'b', 'c', 'x', 'y', 'z']"
   ]
  },
  {
   "cell_type": "code",
   "execution_count": null,
   "metadata": {
    "colab": {
     "base_uri": "https://localhost:8080/",
     "height": 235
    },
    "id": "sQ-LtKHtX-Hn",
    "outputId": "eceba47d-abca-4f5c-b93c-73182fdb56c9"
   },
   "outputs": [
    {
     "name": "stdout",
     "output_type": "stream",
     "text": [
      "['p', 'r', 'b', 'l', 'e', 'm']\n",
      "['p', 'm']\n"
     ]
    },
    {
     "ename": "NameError",
     "evalue": "ignored",
     "output_type": "error",
     "traceback": [
      "\u001b[0;31m---------------------------------------------------------------------------\u001b[0m",
      "\u001b[0;31mNameError\u001b[0m                                 Traceback (most recent call last)",
      "\u001b[0;32m<ipython-input-81-b72af0bfcd83>\u001b[0m in \u001b[0;36m<module>\u001b[0;34m\u001b[0m\n\u001b[1;32m     10\u001b[0m \u001b[0;34m\u001b[0m\u001b[0m\n\u001b[1;32m     11\u001b[0m \u001b[0;32mdel\u001b[0m \u001b[0mmy_list\u001b[0m      \u001b[0;31m# delete entire list\u001b[0m\u001b[0;34m\u001b[0m\u001b[0;34m\u001b[0m\u001b[0m\n\u001b[0;32m---> 12\u001b[0;31m \u001b[0mprint\u001b[0m\u001b[0;34m(\u001b[0m\u001b[0mmy_list\u001b[0m\u001b[0;34m)\u001b[0m   \u001b[0;31m# ▶ NameError: name 'my_list' is not defined\u001b[0m\u001b[0;34m\u001b[0m\u001b[0;34m\u001b[0m\u001b[0m\n\u001b[0m",
      "\u001b[0;31mNameError\u001b[0m: name 'my_list' is not defined"
     ]
    }
   ],
   "source": [
    "# Example: Deleting list items\n",
    "\n",
    "my_list = ['p', 'r', 'o', 'b', 'l', 'e', 'm']\n",
    "\n",
    "del my_list[2]  # delete one item\n",
    "print(my_list)  # ▶ ['p', 'r', 'b', 'l', 'e', 'm'] \n",
    "\n",
    "del my_list[1:5]  # delete multiple items\n",
    "print(my_list)  # ▶ ['p', 'm']\n",
    "\n",
    "del my_list      # delete entire list\n",
    "print(my_list)   # ▶ NameError: name 'my_list' is not defined"
   ]
  },
  {
   "cell_type": "code",
   "execution_count": null,
   "metadata": {
    "colab": {
     "base_uri": "https://localhost:8080/"
    },
    "id": "0Sp0vIR1YBFm",
    "outputId": "f4efcd66-2c58-4cea-f69d-e3fa0901c278"
   },
   "outputs": [
    {
     "name": "stdout",
     "output_type": "stream",
     "text": [
      "True\n",
      "False\n",
      "False\n",
      "False\n",
      "True\n"
     ]
    }
   ],
   "source": [
    "# Example: How all() works for lists?\n",
    "\n",
    "l = [1, 3, 4, 5]\n",
    "print(all(l))  # ▶ True ∵ all values true\n",
    "\n",
    "l = [0, False]\n",
    "print(all(l))  # ▶ False ∵ all values false\n",
    "\n",
    "l = [1, 3, 4, 0]\n",
    "print(all(l))  # ▶ False ∵ one false value\n",
    "\n",
    "l = [0, False, 5]\n",
    "print(all(l))  # ▶ False ∵ one true value\n",
    "\n",
    "l = []\n",
    "print(all(l))  # ▶ True ∵ empty iterable"
   ]
  },
  {
   "cell_type": "code",
   "execution_count": null,
   "metadata": {
    "colab": {
     "base_uri": "https://localhost:8080/"
    },
    "id": "ZjCjhkl-YFGo",
    "outputId": "1602665b-a26f-4725-858e-03c24a87afe7"
   },
   "outputs": [
    {
     "name": "stdout",
     "output_type": "stream",
     "text": [
      "True\n",
      "False\n",
      "True\n",
      "False\n"
     ]
    }
   ],
   "source": [
    "# Example: True since 1,3 and 4 (at least one) is true\n",
    "\n",
    "l = [1, 3, 4, 0]\n",
    "print(any(l))  # ▶ True \n",
    "\n",
    "l = [0, False]\n",
    "print(any(l))  # ▶ False ∵ both are False\n",
    "\n",
    "l = [0, False, 5]\n",
    "print(any(l))  # ▶ True ∵ 5 is true\n",
    "\n",
    "l = []\n",
    "print(any(l))  # ▶ False ∵ iterable is empty"
   ]
  },
  {
   "cell_type": "code",
   "execution_count": null,
   "metadata": {
    "colab": {
     "base_uri": "https://localhost:8080/"
    },
    "id": "sE_WabGfYGZh",
    "outputId": "84f5cd30-7978-40eb-c79b-e8e139ab22f4"
   },
   "outputs": [
    {
     "name": "stdout",
     "output_type": "stream",
     "text": [
      "['a', 'e', 'i', 'o', 'u']\n",
      "['u', 'o', 'i', 'e', 'a']\n"
     ]
    }
   ],
   "source": [
    "# Example: vowels list\n",
    "\n",
    "py_list = ['e', 'a', 'u', 'o', 'i']\n",
    "print(sorted(py_list))                # ▶ ['a', 'e', 'i', 'o', 'u']\n",
    "print(sorted(py_list, reverse=True))  # ▶ ['u', 'o', 'i', 'e', 'a']"
   ]
  },
  {
   "cell_type": "code",
   "execution_count": null,
   "metadata": {
    "colab": {
     "base_uri": "https://localhost:8080/",
     "height": 235
    },
    "id": "eqiEKVLnYHmY",
    "outputId": "98581454-ae43-4b92-ca0f-e86ef95fa1f0"
   },
   "outputs": [
    {
     "name": "stdout",
     "output_type": "stream",
     "text": [
      "a\n",
      "1\n"
     ]
    },
    {
     "ename": "TypeError",
     "evalue": "ignored",
     "output_type": "error",
     "traceback": [
      "\u001b[0;31m---------------------------------------------------------------------------\u001b[0m",
      "\u001b[0;31mTypeError\u001b[0m                                 Traceback (most recent call last)",
      "\u001b[0;32m<ipython-input-85-9b450cb47d30>\u001b[0m in \u001b[0;36m<module>\u001b[0;34m\u001b[0m\n\u001b[1;32m      7\u001b[0m \u001b[0mprint\u001b[0m\u001b[0;34m(\u001b[0m\u001b[0mmin\u001b[0m\u001b[0;34m(\u001b[0m\u001b[0mlist1\u001b[0m\u001b[0;34m)\u001b[0m\u001b[0;34m)\u001b[0m  \u001b[0;31m# ▶ a\u001b[0m\u001b[0;34m\u001b[0m\u001b[0;34m\u001b[0m\u001b[0m\n\u001b[1;32m      8\u001b[0m \u001b[0mprint\u001b[0m\u001b[0;34m(\u001b[0m\u001b[0mmin\u001b[0m\u001b[0;34m(\u001b[0m\u001b[0mlist2\u001b[0m\u001b[0;34m)\u001b[0m\u001b[0;34m)\u001b[0m  \u001b[0;31m# ▶ 1\u001b[0m\u001b[0;34m\u001b[0m\u001b[0;34m\u001b[0m\u001b[0m\n\u001b[0;32m----> 9\u001b[0;31m \u001b[0mprint\u001b[0m\u001b[0;34m(\u001b[0m\u001b[0mmin\u001b[0m\u001b[0;34m(\u001b[0m\u001b[0mlist3\u001b[0m\u001b[0;34m)\u001b[0m\u001b[0;34m)\u001b[0m  \u001b[0;31m# ▶ TypeError: '<' not supported between instances of 'int' and 'str'\u001b[0m\u001b[0;34m\u001b[0m\u001b[0;34m\u001b[0m\u001b[0m\n\u001b[0m",
      "\u001b[0;31mTypeError\u001b[0m: '<' not supported between instances of 'int' and 'str'"
     ]
    }
   ],
   "source": [
    "# Example:\n",
    "\n",
    "list1 = ['a','b','c']\n",
    "list2 = [1,2,3]\n",
    "list3=['a','b','c',1,2,3]\n",
    "\n",
    "print(min(list1))  # ▶ a \n",
    "print(min(list2))  # ▶ 1\n",
    "print(min(list3))  # ▶ TypeError: '<' not supported between instances of 'int' and 'str'"
   ]
  },
  {
   "cell_type": "code",
   "execution_count": null,
   "metadata": {
    "colab": {
     "base_uri": "https://localhost:8080/",
     "height": 235
    },
    "id": "nwuCLSzxYIsx",
    "outputId": "aa3456ae-7b58-4b2f-bbc2-a3239e41f960"
   },
   "outputs": [
    {
     "name": "stdout",
     "output_type": "stream",
     "text": [
      "c\n",
      "3\n"
     ]
    },
    {
     "ename": "TypeError",
     "evalue": "ignored",
     "output_type": "error",
     "traceback": [
      "\u001b[0;31m---------------------------------------------------------------------------\u001b[0m",
      "\u001b[0;31mTypeError\u001b[0m                                 Traceback (most recent call last)",
      "\u001b[0;32m<ipython-input-86-8f0bbdfdf6e5>\u001b[0m in \u001b[0;36m<module>\u001b[0;34m\u001b[0m\n\u001b[1;32m      7\u001b[0m \u001b[0mprint\u001b[0m\u001b[0;34m(\u001b[0m\u001b[0mmax\u001b[0m\u001b[0;34m(\u001b[0m\u001b[0mlist1\u001b[0m\u001b[0;34m)\u001b[0m\u001b[0;34m)\u001b[0m  \u001b[0;31m# ▶ c\u001b[0m\u001b[0;34m\u001b[0m\u001b[0;34m\u001b[0m\u001b[0m\n\u001b[1;32m      8\u001b[0m \u001b[0mprint\u001b[0m\u001b[0;34m(\u001b[0m\u001b[0mmax\u001b[0m\u001b[0;34m(\u001b[0m\u001b[0mlist2\u001b[0m\u001b[0;34m)\u001b[0m\u001b[0;34m)\u001b[0m  \u001b[0;31m# ▶ 3\u001b[0m\u001b[0;34m\u001b[0m\u001b[0;34m\u001b[0m\u001b[0m\n\u001b[0;32m----> 9\u001b[0;31m \u001b[0mprint\u001b[0m\u001b[0;34m(\u001b[0m\u001b[0mmax\u001b[0m\u001b[0;34m(\u001b[0m\u001b[0mlist3\u001b[0m\u001b[0;34m)\u001b[0m\u001b[0;34m)\u001b[0m  \u001b[0;31m# ▶ TypeError: '>' not supported between instances of 'int' and 'str'\u001b[0m\u001b[0;34m\u001b[0m\u001b[0;34m\u001b[0m\u001b[0m\n\u001b[0m",
      "\u001b[0;31mTypeError\u001b[0m: '>' not supported between instances of 'int' and 'str'"
     ]
    }
   ],
   "source": [
    "# Example:\n",
    "\n",
    "list1 = ['a','b','c']\n",
    "list2 = [1,2,3]\n",
    "list3=['a','b','c',1,2,3]\n",
    "\n",
    "print(max(list1))  # ▶ c\n",
    "print(max(list2))  # ▶ 3\n",
    "print(max(list3))  # ▶ TypeError: '>' not supported between instances of 'int' and 'str'"
   ]
  },
  {
   "cell_type": "code",
   "execution_count": null,
   "metadata": {
    "colab": {
     "base_uri": "https://localhost:8080/"
    },
    "id": "odWfWVRpYJyg",
    "outputId": "7d35f830-ec3c-47cf-8021-602e65c70d0c"
   },
   "outputs": [
    {
     "name": "stdout",
     "output_type": "stream",
     "text": [
      "3\n",
      "0\n",
      "6\n"
     ]
    }
   ],
   "source": [
    "# Example:\n",
    "\n",
    "list1 = ['a','b','c']\n",
    "list2 = []\n",
    "list3=['a','b','c',1,2,3]\n",
    "\n",
    "print(len(list1))  # ▶ 3\n",
    "print(len(list2))  # ▶ 0\n",
    "print(len(list3))  # ▶ 6"
   ]
  },
  {
   "cell_type": "code",
   "execution_count": null,
   "metadata": {
    "colab": {
     "base_uri": "https://localhost:8080/"
    },
    "id": "UMaDxhf1YLHU",
    "outputId": "dfc722c2-d166-4087-a60c-d7897cc658ec"
   },
   "outputs": [
    {
     "name": "stdout",
     "output_type": "stream",
     "text": [
      "[1, 2, 3, 4, 'helloworld', ['a', 'b', 'c']]\n"
     ]
    }
   ],
   "source": [
    "# Example:\n",
    "\n",
    "list1 =[1,2,3]\n",
    "list1.append(4)\n",
    "list1.append('helloworld')\n",
    "list1.append(['a','b','c']) #append as single object\n",
    "print(list1)  # ▶ [1, 2, 3, 4, 'helloworld', ['a', 'b', 'c']]"
   ]
  },
  {
   "cell_type": "code",
   "execution_count": null,
   "metadata": {
    "colab": {
     "base_uri": "https://localhost:8080/"
    },
    "id": "-h4tLAj-YM_S",
    "outputId": "88a11036-337e-4c5b-b260-8e68cafa8df6"
   },
   "outputs": [
    {
     "name": "stdout",
     "output_type": "stream",
     "text": [
      "[1, 2, 3, 4, 'h', 'e', 'l', 'l', 'o', 'w', 'o', 'r', 'l', 'd', 'a', 'b', 'c']\n"
     ]
    }
   ],
   "source": [
    "# Example:\n",
    "\n",
    "list1 =[1,2,3]\n",
    "list1.extend([4])\n",
    "list1.extend('helloworld')\n",
    "list1.extend(['a','b','c'])\n",
    "print(list1)  # ▶ [1, 2, 3, 4, 'h', 'e', 'l', 'l', 'o', 'w', 'o', 'r', 'l', 'd', 'a', 'b', 'c']"
   ]
  },
  {
   "cell_type": "code",
   "execution_count": null,
   "metadata": {
    "colab": {
     "base_uri": "https://localhost:8080/"
    },
    "id": "cZcgq7dfYOM7",
    "outputId": "a926bbb9-c0b2-4a08-d2ad-1586722e4f1f"
   },
   "outputs": [
    {
     "name": "stdout",
     "output_type": "stream",
     "text": [
      "['helloworld', 'python', 'java', 'C#', 'c++', 1, 2, 3]\n"
     ]
    }
   ],
   "source": [
    "# Example:\n",
    "\n",
    "list1 =['helloworld','python','java','c++',1,2,3]\n",
    "list1.insert(3,'C#')\n",
    "print(list1)  # ▶ ['helloworld', 'python', 'java', 'C#', 'c++', 1, 2, 3]"
   ]
  },
  {
   "cell_type": "code",
   "execution_count": null,
   "metadata": {
    "colab": {
     "base_uri": "https://localhost:8080/"
    },
    "id": "t7r8xPxzYPct",
    "outputId": "602bb37e-0515-4e9e-b64f-d24ac100a885"
   },
   "outputs": [
    {
     "name": "stdout",
     "output_type": "stream",
     "text": [
      "['helloworld', 'python', 'c++', 1, 2, 3]\n",
      "['helloworld', 'python', 'c++', 1, 3]\n"
     ]
    }
   ],
   "source": [
    "# Example:\n",
    "\n",
    "list1 =['helloworld','python','java','c++',1,2,3]\n",
    "list1.remove(\"java\")\n",
    "print(list1)  # ▶ ['helloworld', 'python', 'c++', 1, 2, 3]\n",
    "list1.remove(2)\n",
    "print(list1)  # ▶ ['helloworld', 'python', 'c++', 1, 3]"
   ]
  },
  {
   "cell_type": "code",
   "execution_count": null,
   "metadata": {
    "colab": {
     "base_uri": "https://localhost:8080/"
    },
    "id": "U4Ij1IYhYRr9",
    "outputId": "08926d0f-4140-486a-bbfa-15937a29dbcd"
   },
   "outputs": [
    {
     "name": "stdout",
     "output_type": "stream",
     "text": [
      "['helloworld', 'python', 'java', 'c++', 1, 2]\n",
      "['helloworld', 'python', 'c++', 1, 2]\n"
     ]
    }
   ],
   "source": [
    "# Example:\n",
    "\n",
    "list1 =['helloworld','python','java','c++',1,2,3]\n",
    "list1.pop()   # pop last element\n",
    "print(list1)  # ▶ ['helloworld', 'python', 'java', 'c++', 1, 2]\n",
    "list1.pop(2)  # pop element with index 2\n",
    "print(list1)  # ▶ ['helloworld', 'python', 'c++', 1, 2]"
   ]
  },
  {
   "cell_type": "code",
   "execution_count": null,
   "metadata": {
    "colab": {
     "base_uri": "https://localhost:8080/"
    },
    "id": "Lkc58DLYYS40",
    "outputId": "899316fb-640d-4b09-d2b0-4e6f80feabd1"
   },
   "outputs": [
    {
     "name": "stdout",
     "output_type": "stream",
     "text": [
      "list1: []\n"
     ]
    }
   ],
   "source": [
    "list1 =['helloworld','python','java','c++',1,2,3]\n",
    "list1.clear()\n",
    "print('list1:', list1)  # ▶ list1: []"
   ]
  },
  {
   "cell_type": "code",
   "execution_count": null,
   "metadata": {
    "colab": {
     "base_uri": "https://localhost:8080/"
    },
    "id": "kWsxUI_TYUAt",
    "outputId": "4bf352ca-ec26-4a56-b019-b04c1f7a3456"
   },
   "outputs": [
    {
     "name": "stdout",
     "output_type": "stream",
     "text": [
      "index of java :  2\n",
      "index of 2 :  5\n"
     ]
    }
   ],
   "source": [
    "# Example:\n",
    "\n",
    "list1 =['helloworld','python','java','c++',1,2,3]\n",
    "print(\"index of java : \",list1.index('java'))  # ▶ index of java :  2\n",
    "print(\"index of 2 : \",list1.index(2))          # ▶ index of 2 :  5"
   ]
  },
  {
   "cell_type": "code",
   "execution_count": null,
   "metadata": {
    "colab": {
     "base_uri": "https://localhost:8080/"
    },
    "id": "d816GXUkYU7M",
    "outputId": "9e674ca3-ee50-4635-9bfe-47d97965f0c0"
   },
   "outputs": [
    {
     "name": "stdout",
     "output_type": "stream",
     "text": [
      "2\n",
      "1\n",
      "0\n"
     ]
    }
   ],
   "source": [
    "# Example:\n",
    "\n",
    "list1 =[1,2,3,'a','b','c',1,2,3]\n",
    "\n",
    "print(list1.count(1))   # ▶ 2\n",
    "print(list1.count('b')) # ▶ 1\n",
    "print(list1.count(4))   # ▶ 0"
   ]
  },
  {
   "cell_type": "code",
   "execution_count": null,
   "metadata": {
    "colab": {
     "base_uri": "https://localhost:8080/"
    },
    "id": "PSws6bPdYV8a",
    "outputId": "1345aa49-2172-4f08-85f4-93664de4532f"
   },
   "outputs": [
    {
     "name": "stdout",
     "output_type": "stream",
     "text": [
      "[22, 30, 100, 300, 399]\n",
      "[399, 300, 100, 30, 22]\n",
      "['a', 'ab', 'abc', 'b', 'z']\n"
     ]
    }
   ],
   "source": [
    "# Example:\n",
    "\n",
    "list1 =[22,30,100,300,399]\n",
    "list2=['z','ab','abc','a','b']\n",
    "list1.sort()\n",
    "list2.sort()\n",
    "print(list1)  # ▶ [22, 30, 100, 300, 399]\n",
    "\n",
    "list1.sort(reverse=True)\n",
    "print(list1)  # ▶ [399, 300, 100, 30, 22]\n",
    "print(list2)  # ▶ ['a', 'ab', 'abc', 'b', 'z']"
   ]
  },
  {
   "cell_type": "code",
   "execution_count": null,
   "metadata": {
    "colab": {
     "base_uri": "https://localhost:8080/"
    },
    "id": "vHJORNBlYXhj",
    "outputId": "37b8f35f-1c7a-4b2d-c10a-17d2a035d849"
   },
   "outputs": [
    {
     "name": "stdout",
     "output_type": "stream",
     "text": [
      "[3, 2, 1, 'c++', 'java', 'python', 'helloworld']\n"
     ]
    }
   ],
   "source": [
    "# Example:\n",
    "\n",
    "list1 =['helloworld','python','java','c++',1,2,3]\n",
    "list1.reverse()\n",
    "print(list1)  # ▶ [3, 2, 1, 'c++', 'java', 'python', 'helloworld']"
   ]
  },
  {
   "cell_type": "code",
   "execution_count": null,
   "metadata": {
    "colab": {
     "base_uri": "https://localhost:8080/"
    },
    "id": "RB-uAu8aYZEA",
    "outputId": "60e47dd3-9787-40a8-9ad3-7b29406a7353"
   },
   "outputs": [
    {
     "name": "stdout",
     "output_type": "stream",
     "text": [
      "list1: ['helloworld', 'python', 'java', 'c++', 1, 2, 3]\n",
      "list2: ['helloworld', 'python', 'java', 'c++', 1, 2, 3]\n"
     ]
    }
   ],
   "source": [
    "list1 =['helloworld','python','java','c++',1,2,3]\n",
    "list2 = list1.copy()\n",
    "print('list1:', list1)  # ▶ list1: ['helloworld', 'python', 'java', 'c++', 1, 2, 3]\n",
    "print('list2:', list2)  # ▶ list2: ['helloworld', 'python', 'java', 'c++', 1, 2, 3]"
   ]
  },
  {
   "cell_type": "code",
   "execution_count": null,
   "metadata": {
    "colab": {
     "base_uri": "https://localhost:8080/"
    },
    "id": "z9-YRuxEYZ-a",
    "outputId": "04e37b0d-7e0a-479a-c91c-e2425def9537"
   },
   "outputs": [
    {
     "name": "stdout",
     "output_type": "stream",
     "text": [
      "[1, 2, 4, 8, 16, 32, 64, 128, 256, 512]\n"
     ]
    }
   ],
   "source": [
    "pow2 = [2 ** x for x in range(10)]\n",
    "print(pow2)  # ▶ [1, 2, 4, 8, 16, 32, 64, 128, 256, 512]"
   ]
  },
  {
   "cell_type": "code",
   "execution_count": null,
   "metadata": {
    "colab": {
     "base_uri": "https://localhost:8080/"
    },
    "id": "KmyIVCYRYc0J",
    "outputId": "319b2cfb-c85e-4e6f-dcc7-9692c1c28579"
   },
   "outputs": [
    {
     "name": "stdout",
     "output_type": "stream",
     "text": [
      "[1, 2, 4, 8, 16, 32, 64, 128, 256, 512]\n"
     ]
    }
   ],
   "source": [
    "pow2 = []\n",
    "for x in range(10):\n",
    "    pow2.append(2 ** x)\n",
    "print(pow2)  # ▶ [1, 2, 4, 8, 16, 32, 64, 128, 256, 512]"
   ]
  },
  {
   "cell_type": "code",
   "execution_count": null,
   "metadata": {
    "colab": {
     "base_uri": "https://localhost:8080/"
    },
    "id": "D8Pcx392YeAF",
    "outputId": "39117e33-b0f8-490a-9281-10010958d2f7"
   },
   "outputs": [
    {
     "data": {
      "text/plain": [
       "[64, 128, 256, 512]"
      ]
     },
     "execution_count": 101,
     "metadata": {},
     "output_type": "execute_result"
    }
   ],
   "source": [
    "pow2 = [2 ** x for x in range(10) if x > 5]\n",
    "pow2  # ▶ [64, 128, 256, 512]"
   ]
  },
  {
   "cell_type": "code",
   "execution_count": null,
   "metadata": {
    "colab": {
     "base_uri": "https://localhost:8080/"
    },
    "id": "fBgNMeD4Yfpw",
    "outputId": "b7ae2d0b-0ef4-46fa-8b2b-b5c91fa832d6"
   },
   "outputs": [
    {
     "name": "stdout",
     "output_type": "stream",
     "text": [
      "True\n",
      "False\n",
      "True\n"
     ]
    }
   ],
   "source": [
    "my_list = ['p', 'r', 'o', 'b', 'l', 'e', 'm']\n",
    "\n",
    "# Output: True\n",
    "print('p' in my_list)  # ▶ True\n",
    "\n",
    "# Output: False\n",
    "print('a' in my_list)  # ▶ False\n",
    "\n",
    "# Output: True\n",
    "print('c' not in my_list)  # ▶ True"
   ]
  },
  {
   "cell_type": "code",
   "execution_count": null,
   "metadata": {
    "colab": {
     "base_uri": "https://localhost:8080/"
    },
    "id": "f77MQi4OYjl7",
    "outputId": "29205d37-aa58-4a5b-b602-74d8bc480b66"
   },
   "outputs": [
    {
     "name": "stdout",
     "output_type": "stream",
     "text": [
      "I like apple\n",
      "I like banana\n",
      "I like mango\n"
     ]
    }
   ],
   "source": [
    "for fruit in ['apple','banana','mango']:\n",
    "    print(\"I like\",fruit)"
   ]
  },
  {
   "cell_type": "code",
   "execution_count": null,
   "metadata": {
    "colab": {
     "base_uri": "https://localhost:8080/"
    },
    "id": "o8SQQUppYkpf",
    "outputId": "fbefae2c-c031-4821-ceee-34d5909411db"
   },
   "outputs": [
    {
     "name": "stdout",
     "output_type": "stream",
     "text": [
      "a\n",
      "b\n",
      "c\n",
      "1\n",
      "2\n",
      "3\n"
     ]
    }
   ],
   "source": [
    "# Example:\n",
    "\n",
    "list1=['a','b','c',1,2,3]\n",
    "for x in list1 :\n",
    "    print(x)"
   ]
  },
  {
   "cell_type": "code",
   "execution_count": null,
   "metadata": {
    "colab": {
     "base_uri": "https://localhost:8080/"
    },
    "id": "_z1BRHVDYljs",
    "outputId": "ecf15bff-4fa2-467a-aee4-433b24be7d4d"
   },
   "outputs": [
    {
     "name": "stdout",
     "output_type": "stream",
     "text": [
      "I like apple\n",
      "I like banana\n",
      "I like mango\n"
     ]
    }
   ],
   "source": [
    "for fruit in ['apple','banana','mango']:\n",
    "    print(\"I like\",fruit)"
   ]
  },
  {
   "cell_type": "code",
   "execution_count": null,
   "metadata": {
    "id": "2woSajLtYm21"
   },
   "outputs": [],
   "source": []
  }
 ],
 "metadata": {
  "colab": {
   "provenance": []
  },
  "kernelspec": {
   "display_name": "Python 3 (ipykernel)",
   "language": "python",
   "name": "python3"
  },
  "language_info": {
   "codemirror_mode": {
    "name": "ipython",
    "version": 3
   },
   "file_extension": ".py",
   "mimetype": "text/x-python",
   "name": "python",
   "nbconvert_exporter": "python",
   "pygments_lexer": "ipython3",
   "version": "3.10.6"
  }
 },
 "nbformat": 4,
 "nbformat_minor": 1
}
