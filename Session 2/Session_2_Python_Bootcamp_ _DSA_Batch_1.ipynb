{
  "nbformat": 4,
  "nbformat_minor": 0,
  "metadata": {
    "colab": {
      "provenance": [],
      "collapsed_sections": [
        "Cq06LL6nzSa8",
        "8lUriU7v1Zkg",
        "tXavQmQB3Snv",
        "G95CVgj--Y8c",
        "PmT45i_RNkDI",
        "YiMiQcEoObqO"
      ]
    },
    "kernelspec": {
      "name": "python3",
      "display_name": "Python 3"
    },
    "language_info": {
      "name": "python"
    }
  },
  "cells": [
    {
      "cell_type": "markdown",
      "source": [
        "## Basic String Methods"
      ],
      "metadata": {
        "id": "s6qN9omivofM"
      }
    },
    {
      "cell_type": "markdown",
      "source": [
        "### ***in*** and **not in**"
      ],
      "metadata": {
        "id": "nIJ1sCLiv1S1"
      }
    },
    {
      "cell_type": "code",
      "execution_count": null,
      "metadata": {
        "colab": {
          "base_uri": "https://localhost:8080/"
        },
        "id": "MTKuq3GkueCQ",
        "outputId": "beaa8a6c-fa6c-4197-90e1-d4099f043629"
      },
      "outputs": [
        {
          "output_type": "stream",
          "name": "stdout",
          "text": [
            "True\n"
          ]
        }
      ],
      "source": [
        "word = \"my name is syed jafer\"\n",
        "print(\"syed\" in word)"
      ]
    },
    {
      "cell_type": "code",
      "source": [
        "word = \"my name is syed jafer\"\n",
        "print(\"jafer\" not in word)"
      ],
      "metadata": {
        "colab": {
          "base_uri": "https://localhost:8080/"
        },
        "id": "fybw2GfZwkXg",
        "outputId": "c0d2482d-7036-4051-aa93-9e7c1c7af01d"
      },
      "execution_count": null,
      "outputs": [
        {
          "output_type": "stream",
          "name": "stdout",
          "text": [
            "False\n"
          ]
        }
      ]
    },
    {
      "cell_type": "markdown",
      "source": [
        "### Relational Operators"
      ],
      "metadata": {
        "id": "KR2tXhaAwv41"
      }
    },
    {
      "cell_type": "code",
      "source": [
        "word1 = \"Helloworld\"\n",
        "word2 = \"helloworld\"\n",
        "word1 == word2, word1 != word2\n"
      ],
      "metadata": {
        "colab": {
          "base_uri": "https://localhost:8080/"
        },
        "id": "lBQ8Ig_swnTE",
        "outputId": "b398cc8c-4006-4289-95c7-b715be0ebb27"
      },
      "execution_count": null,
      "outputs": [
        {
          "output_type": "execute_result",
          "data": {
            "text/plain": [
              "(False, True)"
            ]
          },
          "metadata": {},
          "execution_count": 7
        }
      ]
    },
    {
      "cell_type": "markdown",
      "source": [
        "### Built Ins"
      ],
      "metadata": {
        "id": "xEuydPICxO2h"
      }
    },
    {
      "cell_type": "code",
      "source": [
        "# Upper\n",
        "word = \"Hello World\"\n",
        "print(word.upper())"
      ],
      "metadata": {
        "colab": {
          "base_uri": "https://localhost:8080/"
        },
        "id": "X5Xtems3w7sa",
        "outputId": "339b7032-dc94-4e21-df0d-11d5d6fb461d"
      },
      "execution_count": null,
      "outputs": [
        {
          "output_type": "stream",
          "name": "stdout",
          "text": [
            "HELLO WORLD\n"
          ]
        }
      ]
    },
    {
      "cell_type": "code",
      "source": [
        "# Lower\n",
        "word = \"Hello World\"\n",
        "print(word.lower())"
      ],
      "metadata": {
        "colab": {
          "base_uri": "https://localhost:8080/"
        },
        "id": "zuRyxBhUxX3d",
        "outputId": "b473b90d-2f59-4622-cc28-e51b7cff4cd6"
      },
      "execution_count": null,
      "outputs": [
        {
          "output_type": "stream",
          "name": "stdout",
          "text": [
            "hello world\n"
          ]
        }
      ]
    },
    {
      "cell_type": "code",
      "source": [
        "# Capitalize\n",
        "word = \"hello world\"\n",
        "print(word.capitalize())"
      ],
      "metadata": {
        "colab": {
          "base_uri": "https://localhost:8080/"
        },
        "id": "8mUf51Guxar-",
        "outputId": "e6662900-2cae-4145-fbe8-77e88ec933f0"
      },
      "execution_count": null,
      "outputs": [
        {
          "output_type": "stream",
          "name": "stdout",
          "text": [
            "Hello world\n"
          ]
        }
      ]
    },
    {
      "cell_type": "code",
      "source": [
        "# title\n",
        "word = \"hello world\"\n",
        "print(word.title())"
      ],
      "metadata": {
        "colab": {
          "base_uri": "https://localhost:8080/"
        },
        "id": "zN7jzJ35xgo9",
        "outputId": "97383fff-f9de-437c-e475-3432600378a5"
      },
      "execution_count": null,
      "outputs": [
        {
          "output_type": "stream",
          "name": "stdout",
          "text": [
            "Hello World\n"
          ]
        }
      ]
    },
    {
      "cell_type": "code",
      "source": [
        "# swapcase\n",
        "word = \"hello world\"\n",
        "print(word.swapcase())"
      ],
      "metadata": {
        "colab": {
          "base_uri": "https://localhost:8080/"
        },
        "id": "TsKVv194xkBq",
        "outputId": "40891292-e770-4f97-c7a8-b5af08a42a99"
      },
      "execution_count": null,
      "outputs": [
        {
          "output_type": "stream",
          "name": "stdout",
          "text": [
            "HELLO WORLD\n"
          ]
        }
      ]
    },
    {
      "cell_type": "code",
      "source": [
        "# find()\n",
        "word = \"hello world\"\n",
        "word.find(\"hello\")"
      ],
      "metadata": {
        "colab": {
          "base_uri": "https://localhost:8080/"
        },
        "id": "w8tEKxM2xpB5",
        "outputId": "8a272509-b318-4832-b00a-40a95f51024c"
      },
      "execution_count": null,
      "outputs": [
        {
          "output_type": "execute_result",
          "data": {
            "text/plain": [
              "0"
            ]
          },
          "metadata": {},
          "execution_count": 17
        }
      ]
    },
    {
      "cell_type": "code",
      "source": [
        "# replace\n",
        "word = \"hello world\"\n",
        "word.replace(\"hello\", \"hi\")"
      ],
      "metadata": {
        "colab": {
          "base_uri": "https://localhost:8080/",
          "height": 35
        },
        "id": "fuZESDO7xxfN",
        "outputId": "a5132491-bde5-46d4-dbdb-549fe7eb26de"
      },
      "execution_count": null,
      "outputs": [
        {
          "output_type": "execute_result",
          "data": {
            "text/plain": [
              "'hi world'"
            ],
            "application/vnd.google.colaboratory.intrinsic+json": {
              "type": "string"
            }
          },
          "metadata": {},
          "execution_count": 18
        }
      ]
    },
    {
      "cell_type": "code",
      "source": [
        "# replace - negative case\n",
        "word = \"hello world\"\n",
        "word.replace(\"hellow\", \"hi\")"
      ],
      "metadata": {
        "colab": {
          "base_uri": "https://localhost:8080/",
          "height": 35
        },
        "id": "SEcP8GN6yBlN",
        "outputId": "6db41e49-57c1-42c3-f4a6-9137f02baafb"
      },
      "execution_count": null,
      "outputs": [
        {
          "output_type": "execute_result",
          "data": {
            "text/plain": [
              "'hello world'"
            ],
            "application/vnd.google.colaboratory.intrinsic+json": {
              "type": "string"
            }
          },
          "metadata": {},
          "execution_count": 19
        }
      ]
    },
    {
      "cell_type": "markdown",
      "source": [
        "### Paddings"
      ],
      "metadata": {
        "id": "b1Ss0kFmyf48"
      }
    },
    {
      "cell_type": "code",
      "source": [
        "# center\n",
        "word = \"hello\"\n",
        "word.center(10)"
      ],
      "metadata": {
        "colab": {
          "base_uri": "https://localhost:8080/",
          "height": 35
        },
        "id": "XfSRcS-LyVlz",
        "outputId": "b61ec955-5d97-4872-bcf4-3053f72bae0d"
      },
      "execution_count": null,
      "outputs": [
        {
          "output_type": "execute_result",
          "data": {
            "text/plain": [
              "'  hello   '"
            ],
            "application/vnd.google.colaboratory.intrinsic+json": {
              "type": "string"
            }
          },
          "metadata": {},
          "execution_count": 20
        }
      ]
    },
    {
      "cell_type": "code",
      "source": [
        "# ljust\n",
        "word = \"hello\"\n",
        "word.ljust(10)"
      ],
      "metadata": {
        "colab": {
          "base_uri": "https://localhost:8080/",
          "height": 35
        },
        "id": "CE0oZQs0ymMp",
        "outputId": "c8dfccf7-5735-4319-d2f1-eb74d606abb9"
      },
      "execution_count": null,
      "outputs": [
        {
          "output_type": "execute_result",
          "data": {
            "text/plain": [
              "'hello     '"
            ],
            "application/vnd.google.colaboratory.intrinsic+json": {
              "type": "string"
            }
          },
          "metadata": {},
          "execution_count": 21
        }
      ]
    },
    {
      "cell_type": "code",
      "source": [
        "# rjust\n",
        "word = \"hello\"\n",
        "word.rjust(10)"
      ],
      "metadata": {
        "colab": {
          "base_uri": "https://localhost:8080/",
          "height": 35
        },
        "id": "PtCAesmUyr-8",
        "outputId": "4e39dabe-3a0f-483e-bd95-3aea024c0a36"
      },
      "execution_count": null,
      "outputs": [
        {
          "output_type": "execute_result",
          "data": {
            "text/plain": [
              "'     hello'"
            ],
            "application/vnd.google.colaboratory.intrinsic+json": {
              "type": "string"
            }
          },
          "metadata": {},
          "execution_count": 22
        }
      ]
    },
    {
      "cell_type": "code",
      "source": [
        "# zfill\n",
        "word = \"hello\"\n",
        "word.zfill(10)"
      ],
      "metadata": {
        "colab": {
          "base_uri": "https://localhost:8080/",
          "height": 35
        },
        "id": "y6Fj7LVmyxfu",
        "outputId": "02b8b17d-1701-4651-d93f-63ce19217043"
      },
      "execution_count": null,
      "outputs": [
        {
          "output_type": "execute_result",
          "data": {
            "text/plain": [
              "'00000hello'"
            ],
            "application/vnd.google.colaboratory.intrinsic+json": {
              "type": "string"
            }
          },
          "metadata": {},
          "execution_count": 23
        }
      ]
    },
    {
      "cell_type": "markdown",
      "source": [
        "### Stripping"
      ],
      "metadata": {
        "id": "F96jw1jDy8Oa"
      }
    },
    {
      "cell_type": "code",
      "source": [
        "word = \"  hello  \"\n",
        "word.strip()"
      ],
      "metadata": {
        "colab": {
          "base_uri": "https://localhost:8080/",
          "height": 35
        },
        "id": "_MVfc8cly2vt",
        "outputId": "5d3db1f6-8260-4c2c-932a-1def89f6dbcf"
      },
      "execution_count": null,
      "outputs": [
        {
          "output_type": "execute_result",
          "data": {
            "text/plain": [
              "'hello'"
            ],
            "application/vnd.google.colaboratory.intrinsic+json": {
              "type": "string"
            }
          },
          "metadata": {},
          "execution_count": 24
        }
      ]
    },
    {
      "cell_type": "code",
      "source": [
        "word = \"  hello  \"\n",
        "word.lstrip()"
      ],
      "metadata": {
        "colab": {
          "base_uri": "https://localhost:8080/",
          "height": 35
        },
        "id": "IfFXo5MVzGPN",
        "outputId": "8da1af99-8ef5-4552-8bba-afa80a81dc14"
      },
      "execution_count": null,
      "outputs": [
        {
          "output_type": "execute_result",
          "data": {
            "text/plain": [
              "'hello  '"
            ],
            "application/vnd.google.colaboratory.intrinsic+json": {
              "type": "string"
            }
          },
          "metadata": {},
          "execution_count": 25
        }
      ]
    },
    {
      "cell_type": "code",
      "source": [
        "word = \"  hello  \"\n",
        "word.rstrip()"
      ],
      "metadata": {
        "colab": {
          "base_uri": "https://localhost:8080/",
          "height": 35
        },
        "id": "jSiXf5gQzIsH",
        "outputId": "9b12b439-19ce-4d3a-c786-0e649ea4b28e"
      },
      "execution_count": null,
      "outputs": [
        {
          "output_type": "execute_result",
          "data": {
            "text/plain": [
              "'  hello'"
            ],
            "application/vnd.google.colaboratory.intrinsic+json": {
              "type": "string"
            }
          },
          "metadata": {},
          "execution_count": 26
        }
      ]
    },
    {
      "cell_type": "code",
      "source": [],
      "metadata": {
        "id": "2Odfp7q0zKaY"
      },
      "execution_count": null,
      "outputs": []
    },
    {
      "cell_type": "markdown",
      "source": [
        "## List"
      ],
      "metadata": {
        "id": "Cq06LL6nzSa8"
      }
    },
    {
      "cell_type": "markdown",
      "source": [
        "a data structure in Python that is a **mutable**, or **changeable**, **ordered sequence of elements**.\n",
        "\n",
        "\n",
        "1. Order is maintained\n",
        "2. Changeable\n",
        "3. Allow Duplicate Values"
      ],
      "metadata": {
        "id": "-JHZXiFO1SRA"
      }
    },
    {
      "cell_type": "markdown",
      "source": [
        "### Declaring"
      ],
      "metadata": {
        "id": "8lUriU7v1Zkg"
      }
    },
    {
      "cell_type": "code",
      "source": [
        "# using [] brackets\n",
        "res = []\n",
        "print(type(res))"
      ],
      "metadata": {
        "colab": {
          "base_uri": "https://localhost:8080/"
        },
        "id": "P7a9IJWGzWbS",
        "outputId": "f8b4b5c8-f0f3-4432-af98-c472752ad705"
      },
      "execution_count": null,
      "outputs": [
        {
          "output_type": "stream",
          "name": "stdout",
          "text": [
            "<class 'list'>\n"
          ]
        }
      ]
    },
    {
      "cell_type": "code",
      "source": [
        "res = [1, 2, 3, 4, 5]\n",
        "print(res)"
      ],
      "metadata": {
        "id": "-1aR65IS1rDA"
      },
      "execution_count": null,
      "outputs": []
    },
    {
      "cell_type": "code",
      "source": [
        "# using list() method\n",
        "res = list((1, 2, 3, 4, 5))\n",
        "print(type(res))"
      ],
      "metadata": {
        "colab": {
          "base_uri": "https://localhost:8080/"
        },
        "id": "9ALTQCmt1h2e",
        "outputId": "bfbb9559-302e-4645-dae3-033f09ef3fd6"
      },
      "execution_count": null,
      "outputs": [
        {
          "output_type": "stream",
          "name": "stdout",
          "text": [
            "<class 'list'>\n"
          ]
        }
      ]
    },
    {
      "cell_type": "code",
      "source": [
        "# using list() method\n",
        "res = list('string')\n",
        "print(res)"
      ],
      "metadata": {
        "colab": {
          "base_uri": "https://localhost:8080/"
        },
        "id": "oJ1dTgTz1le_",
        "outputId": "9c2b1a30-7ee3-4682-aa00-dc6030a24737"
      },
      "execution_count": null,
      "outputs": [
        {
          "output_type": "stream",
          "name": "stdout",
          "text": [
            "['s', 't', 'r', 'i', 'n', 'g']\n"
          ]
        }
      ]
    },
    {
      "cell_type": "code",
      "source": [
        "# Allow duplicates\n",
        "fruits = ['apple', 'Orange', 'Papaya', 'apple']\n",
        "print(fruits)"
      ],
      "metadata": {
        "colab": {
          "base_uri": "https://localhost:8080/"
        },
        "id": "A2zCYuim1yy0",
        "outputId": "5ab41104-1e4d-4ceb-d5ef-5dbca68c1e75"
      },
      "execution_count": null,
      "outputs": [
        {
          "output_type": "stream",
          "name": "stdout",
          "text": [
            "['apple', 'Orange', 'Papaya', 'apple']\n"
          ]
        }
      ]
    },
    {
      "cell_type": "code",
      "source": [
        "# list length\n",
        "fruits = ['apple', 'Orange', 'Papaya', 'apple']\n",
        "len(fruits)"
      ],
      "metadata": {
        "colab": {
          "base_uri": "https://localhost:8080/"
        },
        "id": "Si9sCqG62nDP",
        "outputId": "6221fff5-4a78-4ae5-a167-f8783370e9b1"
      },
      "execution_count": null,
      "outputs": [
        {
          "output_type": "execute_result",
          "data": {
            "text/plain": [
              "4"
            ]
          },
          "metadata": {},
          "execution_count": 34
        }
      ]
    },
    {
      "cell_type": "code",
      "source": [
        "# List items can be of any data type or a combination of data types. \n",
        "data = ['d1', 'd2', 'd3', 2, 3.4, True, []]\n",
        "print(data)"
      ],
      "metadata": {
        "colab": {
          "base_uri": "https://localhost:8080/"
        },
        "id": "kBVa6Xz12z-I",
        "outputId": "89a16599-2029-4a3a-ecd7-7e7ba53ded75"
      },
      "execution_count": null,
      "outputs": [
        {
          "output_type": "stream",
          "name": "stdout",
          "text": [
            "['d1', 'd2', 'd3', 2, 3.4, True, []]\n"
          ]
        }
      ]
    },
    {
      "cell_type": "markdown",
      "source": [
        "### Basic Builtins"
      ],
      "metadata": {
        "id": "tXavQmQB3Snv"
      }
    },
    {
      "cell_type": "code",
      "source": [
        "# in & not in\n",
        "fruits = list(('apple', 'Orange', 'Papaya', 'apple'))\n",
        "'apple' in fruits\n",
        "'lemon' in fruits"
      ],
      "metadata": {
        "colab": {
          "base_uri": "https://localhost:8080/"
        },
        "id": "BIEiMiy73Ro_",
        "outputId": "6b7c4162-1cc6-42af-aab8-7200a28ac524"
      },
      "execution_count": null,
      "outputs": [
        {
          "output_type": "execute_result",
          "data": {
            "text/plain": [
              "False"
            ]
          },
          "metadata": {},
          "execution_count": 37
        }
      ]
    },
    {
      "cell_type": "code",
      "source": [
        "# MAX and MIN\n",
        "ranks = [1, 2, 3, 4, 5, 6]\n",
        "print(max(ranks), min(ranks))"
      ],
      "metadata": {
        "colab": {
          "base_uri": "https://localhost:8080/"
        },
        "id": "R6itSi5F29iY",
        "outputId": "6e0c4847-8d8d-4921-ca52-309dacc191cb"
      },
      "execution_count": null,
      "outputs": [
        {
          "output_type": "stream",
          "name": "stdout",
          "text": [
            "6 1\n"
          ]
        }
      ]
    },
    {
      "cell_type": "code",
      "source": [
        "# any all\n",
        "\n",
        "# True Values definintion\n",
        "\n",
        "# 1. Non Zero\n",
        "# 2. Non empty string\n",
        "# 3. False\n",
        "\n",
        "data = [1, 2, 3, '']\n",
        "print(all(data))\n",
        "\n",
        "print(any(data))\n"
      ],
      "metadata": {
        "colab": {
          "base_uri": "https://localhost:8080/"
        },
        "id": "YFcy1zpW9zib",
        "outputId": "7055bc90-5fa3-4b14-eaa6-db26e064cb65"
      },
      "execution_count": null,
      "outputs": [
        {
          "output_type": "stream",
          "name": "stdout",
          "text": [
            "False\n",
            "True\n"
          ]
        }
      ]
    },
    {
      "cell_type": "markdown",
      "source": [
        "### Indexing"
      ],
      "metadata": {
        "id": "G95CVgj--Y8c"
      }
    },
    {
      "cell_type": "code",
      "source": [
        "fruits = ['apple', 'papaya', 'banana', 'orange', 'pear', 'lemon']\n",
        "        #   0         1        2          3        4        5       <- Index"
      ],
      "metadata": {
        "id": "3IRNxSfN95mQ"
      },
      "execution_count": null,
      "outputs": []
    },
    {
      "cell_type": "markdown",
      "source": [
        "### Inserting values\n"
      ],
      "metadata": {
        "id": "JiB_8SZI9-2d"
      }
    },
    {
      "cell_type": "code",
      "source": [
        "fruits = ['apple', 'papaya', 'banana', 'orange', 'pear']\n"
      ],
      "metadata": {
        "id": "SnQnBuL8-Mot"
      },
      "execution_count": null,
      "outputs": []
    },
    {
      "cell_type": "code",
      "source": [
        "# Using insert function\n",
        "fruits.insert(2, 'jackfruit')\n",
        "fruits.insert(-1, 'lemon')"
      ],
      "metadata": {
        "id": "-PJMrcmo-iRc"
      },
      "execution_count": null,
      "outputs": []
    },
    {
      "cell_type": "code",
      "source": [
        "fruits"
      ],
      "metadata": {
        "colab": {
          "base_uri": "https://localhost:8080/"
        },
        "id": "8BzIaW_I-ubn",
        "outputId": "ae9016fe-6830-43b2-b876-87173b902b3b"
      },
      "execution_count": null,
      "outputs": [
        {
          "output_type": "execute_result",
          "data": {
            "text/plain": [
              "['apple', 'papaya', 'jackfruit', 'banana', 'orange', 'lemon', 'pear']"
            ]
          },
          "metadata": {},
          "execution_count": 43
        }
      ]
    },
    {
      "cell_type": "code",
      "source": [
        "# using append\n",
        "fruits =['apple', 'papaya', 'banana', 'orange', 'pear']\n",
        "fruits.append('lemon')"
      ],
      "metadata": {
        "id": "MjNPvXjH-vWH"
      },
      "execution_count": null,
      "outputs": []
    },
    {
      "cell_type": "code",
      "source": [
        "# Using extend\n",
        "fruits = ['apple', 'papaya', 'banana', 'orange', 'pear', 'lemon']\n",
        "fav_fruits = ['jackfruit', 'strawberry', 'pineapple']\n",
        "\n",
        "fruits.extend(fav_fruits)\n",
        "print(fruits)"
      ],
      "metadata": {
        "colab": {
          "base_uri": "https://localhost:8080/"
        },
        "id": "LbZc7CmI_HnQ",
        "outputId": "0815e143-0c07-476c-e121-99d74fd2a492"
      },
      "execution_count": null,
      "outputs": [
        {
          "output_type": "stream",
          "name": "stdout",
          "text": [
            "['apple', 'papaya', 'banana', 'orange', 'pear', 'lemon', 'jackfruit', 'strawberry', 'pineapple']\n"
          ]
        }
      ]
    },
    {
      "cell_type": "code",
      "source": [
        "fruits = ['apple', 'papaya', 'banana', 'orange', 'pear', 'lemon']\n",
        "fav_fruits = ['jackfruit', 'strawberry', 'pineapple']\n",
        "print(fruits + fav_fruits, fruits, fav_fruits)"
      ],
      "metadata": {
        "colab": {
          "base_uri": "https://localhost:8080/"
        },
        "id": "CtTr9Vh-_N3f",
        "outputId": "c20c8ca8-c62a-4ffb-ab82-032ac496534a"
      },
      "execution_count": null,
      "outputs": [
        {
          "output_type": "stream",
          "name": "stdout",
          "text": [
            "['apple', 'papaya', 'banana', 'orange', 'pear', 'lemon', 'jackfruit', 'strawberry', 'pineapple'] ['apple', 'papaya', 'banana', 'orange', 'pear', 'lemon'] ['jackfruit', 'strawberry', 'pineapple']\n"
          ]
        }
      ]
    },
    {
      "cell_type": "markdown",
      "source": [
        "### Removal\n"
      ],
      "metadata": {
        "id": "M7Q-qpTxEzrV"
      }
    },
    {
      "cell_type": "code",
      "source": [
        "fruits = ['apple', 'papaya', 'banana', 'apple', 'orange', 'pear', 'lemon']\n",
        "fruits.remove('apple')\n",
        "fruits"
      ],
      "metadata": {
        "colab": {
          "base_uri": "https://localhost:8080/"
        },
        "id": "2OngzNS5E_6d",
        "outputId": "20987683-d048-4be7-f3aa-521b4862513a"
      },
      "execution_count": null,
      "outputs": [
        {
          "output_type": "execute_result",
          "data": {
            "text/plain": [
              "['papaya', 'banana', 'apple', 'orange', 'pear', 'lemon']"
            ]
          },
          "metadata": {},
          "execution_count": 52
        }
      ]
    },
    {
      "cell_type": "code",
      "source": [
        "fruits = ['apple', 'papaya', 'banana', 'apple', 'orange', 'pear', 'lemon']\n",
        "fruits.remove('pineapple')\n",
        "fruits"
      ],
      "metadata": {
        "colab": {
          "base_uri": "https://localhost:8080/",
          "height": 202
        },
        "id": "VVP-D6v1FBUt",
        "outputId": "7ee4ebaa-0ed1-47b8-8a89-81c327d4fd24"
      },
      "execution_count": null,
      "outputs": [
        {
          "output_type": "error",
          "ename": "ValueError",
          "evalue": "ignored",
          "traceback": [
            "\u001b[0;31m---------------------------------------------------------------------------\u001b[0m",
            "\u001b[0;31mValueError\u001b[0m                                Traceback (most recent call last)",
            "\u001b[0;32m<ipython-input-53-ff94fb33f495>\u001b[0m in \u001b[0;36m<module>\u001b[0;34m\u001b[0m\n\u001b[1;32m      1\u001b[0m \u001b[0mfruits\u001b[0m \u001b[0;34m=\u001b[0m \u001b[0;34m[\u001b[0m\u001b[0;34m'apple'\u001b[0m\u001b[0;34m,\u001b[0m \u001b[0;34m'papaya'\u001b[0m\u001b[0;34m,\u001b[0m \u001b[0;34m'banana'\u001b[0m\u001b[0;34m,\u001b[0m \u001b[0;34m'apple'\u001b[0m\u001b[0;34m,\u001b[0m \u001b[0;34m'orange'\u001b[0m\u001b[0;34m,\u001b[0m \u001b[0;34m'pear'\u001b[0m\u001b[0;34m,\u001b[0m \u001b[0;34m'lemon'\u001b[0m\u001b[0;34m]\u001b[0m\u001b[0;34m\u001b[0m\u001b[0;34m\u001b[0m\u001b[0m\n\u001b[0;32m----> 2\u001b[0;31m \u001b[0mfruits\u001b[0m\u001b[0;34m.\u001b[0m\u001b[0mremove\u001b[0m\u001b[0;34m(\u001b[0m\u001b[0;34m'pineapple'\u001b[0m\u001b[0;34m)\u001b[0m\u001b[0;34m\u001b[0m\u001b[0;34m\u001b[0m\u001b[0m\n\u001b[0m\u001b[1;32m      3\u001b[0m \u001b[0mfruits\u001b[0m\u001b[0;34m\u001b[0m\u001b[0;34m\u001b[0m\u001b[0m\n",
            "\u001b[0;31mValueError\u001b[0m: list.remove(x): x not in list"
          ]
        }
      ]
    },
    {
      "cell_type": "code",
      "source": [
        "if 'strawberry' in fruits:\n",
        "    fruits.remove('strawberry')"
      ],
      "metadata": {
        "id": "N_o3_8VTFJGe"
      },
      "execution_count": null,
      "outputs": []
    },
    {
      "cell_type": "code",
      "source": [
        "fruits = ['apple', 'papaya', 'banana', 'apple', 'orange', 'pear', 'lemon']\n",
        "fruits.pop()"
      ],
      "metadata": {
        "colab": {
          "base_uri": "https://localhost:8080/",
          "height": 35
        },
        "id": "Qsrwn3NHFPT_",
        "outputId": "361190a3-7ca1-48b4-f02a-85be3cff73b7"
      },
      "execution_count": null,
      "outputs": [
        {
          "output_type": "execute_result",
          "data": {
            "text/plain": [
              "'lemon'"
            ],
            "application/vnd.google.colaboratory.intrinsic+json": {
              "type": "string"
            }
          },
          "metadata": {},
          "execution_count": 56
        }
      ]
    },
    {
      "cell_type": "code",
      "source": [
        "fruits = ['apple', 'papaya', 'banana', 'apple', 'orange', 'pear', 'lemon']\n",
        "del fruits[2]"
      ],
      "metadata": {
        "id": "55AQoG_GFXIP"
      },
      "execution_count": null,
      "outputs": []
    },
    {
      "cell_type": "code",
      "source": [
        "fruits"
      ],
      "metadata": {
        "colab": {
          "base_uri": "https://localhost:8080/"
        },
        "id": "17Nv_nRvFihi",
        "outputId": "22e55d7e-5bf6-4a16-b27d-4edb42ab244b"
      },
      "execution_count": null,
      "outputs": [
        {
          "output_type": "execute_result",
          "data": {
            "text/plain": [
              "['apple', 'papaya', 'apple', 'orange', 'pear', 'lemon']"
            ]
          },
          "metadata": {},
          "execution_count": 58
        }
      ]
    },
    {
      "cell_type": "code",
      "source": [
        "fruits.clear()"
      ],
      "metadata": {
        "id": "93EkPo1iFj2E"
      },
      "execution_count": null,
      "outputs": []
    },
    {
      "cell_type": "markdown",
      "source": [
        "### Sorting"
      ],
      "metadata": {
        "id": "aer4GzurFsaI"
      }
    },
    {
      "cell_type": "code",
      "source": [
        "fruits = ['Apple', 'Papaya', 'banana', 'Orange', 'Pear', 'lemon']\n",
        "fruits.sort()"
      ],
      "metadata": {
        "id": "qkPnloDsFwXh"
      },
      "execution_count": null,
      "outputs": []
    },
    {
      "cell_type": "code",
      "source": [],
      "metadata": {
        "id": "cAIXgkdfF0Fb"
      },
      "execution_count": null,
      "outputs": []
    },
    {
      "cell_type": "markdown",
      "source": [
        "## Tuple"
      ],
      "metadata": {
        "id": "dHS5heiuF-5B"
      }
    },
    {
      "cell_type": "markdown",
      "source": [
        "### Declaring\n"
      ],
      "metadata": {
        "id": "PmT45i_RNkDI"
      }
    },
    {
      "cell_type": "code",
      "source": [
        "# Using () \n",
        "fruits = ()\n",
        "type(fruits)"
      ],
      "metadata": {
        "colab": {
          "base_uri": "https://localhost:8080/"
        },
        "id": "QVpeemp5GCmr",
        "outputId": "3e1439b2-86e2-4958-ea82-faa946583d6a"
      },
      "execution_count": null,
      "outputs": [
        {
          "output_type": "execute_result",
          "data": {
            "text/plain": [
              "tuple"
            ]
          },
          "metadata": {},
          "execution_count": 61
        }
      ]
    },
    {
      "cell_type": "code",
      "source": [
        "fruits = tuple([1, 2, 3, 4])\n",
        "type(fruits)"
      ],
      "metadata": {
        "colab": {
          "base_uri": "https://localhost:8080/"
        },
        "id": "Ts2MZXKvN8d0",
        "outputId": "0015243c-52a8-4d88-902c-157e3403ee2e"
      },
      "execution_count": null,
      "outputs": [
        {
          "output_type": "execute_result",
          "data": {
            "text/plain": [
              "tuple"
            ]
          },
          "metadata": {},
          "execution_count": 62
        }
      ]
    },
    {
      "cell_type": "markdown",
      "source": [
        "### Builtins"
      ],
      "metadata": {
        "id": "YiMiQcEoObqO"
      }
    },
    {
      "cell_type": "code",
      "source": [
        "# in & not in\n",
        "fruits = tuple(['apple', 'Orange', 'Papaya', 'apple'])\n",
        "'apple' in fruits\n",
        "'lemon' in fruits"
      ],
      "metadata": {
        "colab": {
          "base_uri": "https://localhost:8080/"
        },
        "outputId": "3144c32a-f287-447e-dfc0-4ccd23a664e4",
        "id": "aFQZlZBuPcVJ"
      },
      "execution_count": null,
      "outputs": [
        {
          "output_type": "execute_result",
          "data": {
            "text/plain": [
              "False"
            ]
          },
          "metadata": {},
          "execution_count": 63
        }
      ]
    },
    {
      "cell_type": "code",
      "source": [
        "# MAX and MIN\n",
        "ranks = (1, 2, 3, 4, 5, 6)\n",
        "print(max(ranks), min(ranks))"
      ],
      "metadata": {
        "colab": {
          "base_uri": "https://localhost:8080/"
        },
        "outputId": "39c6ba59-62c3-42a3-e2bc-57e0bddaa977",
        "id": "eTWxOG4yPcVN"
      },
      "execution_count": null,
      "outputs": [
        {
          "output_type": "stream",
          "name": "stdout",
          "text": [
            "6 1\n"
          ]
        }
      ]
    },
    {
      "cell_type": "code",
      "source": [
        "# any all\n",
        "\n",
        "# True Values definintion\n",
        "\n",
        "# 1. Non Zero\n",
        "# 2. Non empty string\n",
        "# 3. False\n",
        "\n",
        "data = (1, 2, 3, '')\n",
        "print(all(data))\n",
        "\n",
        "print(any(data))\n"
      ],
      "metadata": {
        "colab": {
          "base_uri": "https://localhost:8080/"
        },
        "outputId": "cd6705a8-188d-47e8-f6b2-191837de2364",
        "id": "r_sCt-ZdPcVQ"
      },
      "execution_count": null,
      "outputs": [
        {
          "output_type": "stream",
          "name": "stdout",
          "text": [
            "False\n",
            "True\n"
          ]
        }
      ]
    },
    {
      "cell_type": "markdown",
      "source": [
        "### Indexing - Same as list"
      ],
      "metadata": {
        "id": "woLnGtqQPZ2g"
      }
    },
    {
      "cell_type": "markdown",
      "source": [
        "### Adding Values. \n",
        "\n",
        "Unlike list, Tuple are immutable -> we cant change the values once defined. "
      ],
      "metadata": {
        "id": "11zJPNX4SPAZ"
      }
    },
    {
      "cell_type": "code",
      "source": [
        "val = (1, 2, 3, 4)\n"
      ],
      "metadata": {
        "id": "1faB5onhvHFY"
      },
      "execution_count": 8,
      "outputs": []
    },
    {
      "cell_type": "code",
      "source": [
        "l = [ 'a', 'b', 'c', 'd']\n",
        "val = (1, 2, 3, 4 , l)\n",
        "print(val)"
      ],
      "metadata": {
        "colab": {
          "base_uri": "https://localhost:8080/"
        },
        "id": "ESL8PAEOwy43",
        "outputId": "344dc70c-4e05-4bf1-8c09-f9c803ecbaf8"
      },
      "execution_count": 15,
      "outputs": [
        {
          "output_type": "stream",
          "name": "stdout",
          "text": [
            "(1, 2, 3, 4, ['a', 'b', 'c', 'd'])\n"
          ]
        }
      ]
    },
    {
      "cell_type": "markdown",
      "source": [
        "### Delete"
      ],
      "metadata": {
        "id": "mMfBcZ-KyRFS"
      }
    },
    {
      "cell_type": "code",
      "source": [
        "fruits = ('apple', 'orange', 'banana')\n",
        "del fruits\n",
        "print(fruits)"
      ],
      "metadata": {
        "colab": {
          "base_uri": "https://localhost:8080/",
          "height": 202
        },
        "id": "POmVKUVHxh4_",
        "outputId": "1702e586-0d6a-459f-bd52-e6c255fee675"
      },
      "execution_count": 13,
      "outputs": [
        {
          "output_type": "error",
          "ename": "NameError",
          "evalue": "ignored",
          "traceback": [
            "\u001b[0;31m---------------------------------------------------------------------------\u001b[0m",
            "\u001b[0;31mNameError\u001b[0m                                 Traceback (most recent call last)",
            "\u001b[0;32m<ipython-input-13-b9eebaa71d83>\u001b[0m in \u001b[0;36m<module>\u001b[0;34m\u001b[0m\n\u001b[1;32m      1\u001b[0m \u001b[0mfruits\u001b[0m \u001b[0;34m=\u001b[0m \u001b[0;34m(\u001b[0m\u001b[0;34m'apple'\u001b[0m\u001b[0;34m,\u001b[0m \u001b[0;34m'orange'\u001b[0m\u001b[0;34m,\u001b[0m \u001b[0;34m'banana'\u001b[0m\u001b[0;34m)\u001b[0m\u001b[0;34m\u001b[0m\u001b[0;34m\u001b[0m\u001b[0m\n\u001b[1;32m      2\u001b[0m \u001b[0;32mdel\u001b[0m \u001b[0mfruits\u001b[0m\u001b[0;34m\u001b[0m\u001b[0;34m\u001b[0m\u001b[0m\n\u001b[0;32m----> 3\u001b[0;31m \u001b[0mprint\u001b[0m\u001b[0;34m(\u001b[0m\u001b[0mfruits\u001b[0m\u001b[0;34m)\u001b[0m\u001b[0;34m\u001b[0m\u001b[0;34m\u001b[0m\u001b[0m\n\u001b[0m",
            "\u001b[0;31mNameError\u001b[0m: name 'fruits' is not defined"
          ]
        }
      ]
    },
    {
      "cell_type": "markdown",
      "source": [
        "## Sets"
      ],
      "metadata": {
        "id": "VIt0jFSZzJu7"
      }
    },
    {
      "cell_type": "markdown",
      "source": [
        "A set is a collection which is unordered, unchangeable*, and unindexed."
      ],
      "metadata": {
        "id": "L4m9J2hIzN84"
      }
    },
    {
      "cell_type": "markdown",
      "source": [
        "### Declaring"
      ],
      "metadata": {
        "id": "x2J0hlfrzRp6"
      }
    },
    {
      "cell_type": "code",
      "source": [
        "# {} curly brackets\n",
        "data = { 1, 2, 3, 4, 5}\n",
        "print(data)"
      ],
      "metadata": {
        "colab": {
          "base_uri": "https://localhost:8080/"
        },
        "id": "RAMYJc74yUDO",
        "outputId": "869dc876-167e-467c-c632-2cb7f6775232"
      },
      "execution_count": 16,
      "outputs": [
        {
          "output_type": "stream",
          "name": "stdout",
          "text": [
            "{1, 2, 3, 4, 5}\n"
          ]
        }
      ]
    },
    {
      "cell_type": "code",
      "source": [
        "# set \n",
        "data = set((1, 2, 3, 4, 5, 5))\n",
        "print(data)"
      ],
      "metadata": {
        "colab": {
          "base_uri": "https://localhost:8080/"
        },
        "id": "sxM5H9SozZqb",
        "outputId": "836610f0-e2ce-4a96-fe47-99c508594071"
      },
      "execution_count": 17,
      "outputs": [
        {
          "output_type": "stream",
          "name": "stdout",
          "text": [
            "{1, 2, 3, 4, 5}\n"
          ]
        }
      ]
    },
    {
      "cell_type": "markdown",
      "source": [
        "### Builtins"
      ],
      "metadata": {
        "id": "Bo_9G0fQzvFj"
      }
    },
    {
      "cell_type": "code",
      "source": [
        "# len\n",
        "data = { 1, 2, 3, 4, 5}\n",
        "print(len(data))"
      ],
      "metadata": {
        "colab": {
          "base_uri": "https://localhost:8080/"
        },
        "id": "Bs-YKH8azrx6",
        "outputId": "cea90903-a860-4b70-a19c-8d33e3eb3e09"
      },
      "execution_count": 18,
      "outputs": [
        {
          "output_type": "stream",
          "name": "stdout",
          "text": [
            "5\n"
          ]
        }
      ]
    },
    {
      "cell_type": "code",
      "source": [
        "# max and min\n",
        "data = { 1, 2, 3, 4, 5}\n",
        "print(max(data), min(data))"
      ],
      "metadata": {
        "colab": {
          "base_uri": "https://localhost:8080/"
        },
        "id": "hRvtnGt_z004",
        "outputId": "15d9f4e6-fa96-477a-ccaa-906f5b37da72"
      },
      "execution_count": 19,
      "outputs": [
        {
          "output_type": "stream",
          "name": "stdout",
          "text": [
            "5 1\n"
          ]
        }
      ]
    },
    {
      "cell_type": "code",
      "source": [
        "# any all\n",
        "\n",
        "# True Values definintion\n",
        "\n",
        "# 1. Non Zero\n",
        "# 2. Non empty string\n",
        "# 3. False\n",
        "\n",
        "data = {1, 2, 3, ''}\n",
        "print(all(data))\n",
        "\n",
        "print(any(data))\n"
      ],
      "metadata": {
        "colab": {
          "base_uri": "https://localhost:8080/"
        },
        "id": "ioapIgJa0Jlf",
        "outputId": "78bbe3a2-543c-4385-b09c-b8b770177705"
      },
      "execution_count": 20,
      "outputs": [
        {
          "output_type": "stream",
          "name": "stdout",
          "text": [
            "False\n",
            "True\n"
          ]
        }
      ]
    },
    {
      "cell_type": "markdown",
      "source": [
        "### Adding values"
      ],
      "metadata": {
        "id": "vbIdXjHg1XIr"
      }
    },
    {
      "cell_type": "code",
      "source": [
        "# add method\n",
        "fruits = {\"apple\", \"orange\", \"lemon\", \"mango\", \"banana\"}\n",
        "fruits.add(\"pineapple\")\n",
        "print(fruits)\n",
        "\n"
      ],
      "metadata": {
        "id": "Wu0R0vp20tBe"
      },
      "execution_count": null,
      "outputs": []
    },
    {
      "cell_type": "code",
      "source": [
        "\n",
        "# update\n",
        "fruits = {\"apple\", \"orange\", \"lemon\", \"mango\", \"banana\"}\n",
        "\n",
        "fruits.update([1, 2, 3 ])\n",
        "print(fruits)\n",
        "\n",
        "fruits.update((1, 2, 3))\n",
        "print(fruits)\n",
        "\n",
        "fruits.update({1:2, 3:4, 5:6})\n",
        "print(fruits)\n",
        "\n",
        "fruits.update('makereading')\n",
        "print(fruits)\n",
        "\n",
        "fruits.update({1, 2, 3, 3, 4, 5, 7, 8, 9})\n",
        "print(fruits)\n"
      ],
      "metadata": {
        "colab": {
          "base_uri": "https://localhost:8080/"
        },
        "id": "jtvw6eX-2FAf",
        "outputId": "8c4d7011-8943-4dcc-f630-619cde6196fb"
      },
      "execution_count": 22,
      "outputs": [
        {
          "output_type": "stream",
          "name": "stdout",
          "text": [
            "{'orange', 'lemon', 1, 2, 3, 'mango', 'banana', 'apple'}\n",
            "{'orange', 'lemon', 1, 2, 3, 'mango', 'banana', 'apple'}\n",
            "{'orange', 'lemon', 1, 2, 3, 5, 'mango', 'banana', 'apple'}\n",
            "{'orange', 'lemon', 1, 2, 3, 5, 'e', 'g', 'i', 'n', 'mango', 'banana', 'apple', 'a', 'r', 'k', 'm', 'd'}\n",
            "{'orange', 1, 2, 3, 5, 'e', 4, 7, 8, 9, 'banana', 'apple', 'a', 'r', 'm', 'n', 'd', 'lemon', 'g', 'mango', 'i', 'k'}\n"
          ]
        }
      ]
    },
    {
      "cell_type": "markdown",
      "source": [
        "### Delete"
      ],
      "metadata": {
        "id": "1aL-No0F2TN7"
      }
    },
    {
      "cell_type": "code",
      "source": [
        "fruits = {\"apple\", \"orange\", \"lemon\", \"banana\", \"papaya\"}\n",
        "fruits.remove(\"orange\")\n",
        "print(fruits)\n",
        "\n"
      ],
      "metadata": {
        "colab": {
          "base_uri": "https://localhost:8080/"
        },
        "id": "xoFUAEe62Hae",
        "outputId": "0037db2c-75d1-4455-c0be-80dcb7f64740"
      },
      "execution_count": 23,
      "outputs": [
        {
          "output_type": "stream",
          "name": "stdout",
          "text": [
            "{'lemon', 'papaya', 'banana', 'apple'}\n"
          ]
        }
      ]
    },
    {
      "cell_type": "code",
      "source": [
        "fruits = {\"apple\", \"orange\", \"lemon\", \"banana\", \"papaya\"}\n",
        "fruits.remove(\"pineapple\")\n",
        "fruits\n"
      ],
      "metadata": {
        "colab": {
          "base_uri": "https://localhost:8080/",
          "height": 202
        },
        "id": "pNY25ecR2k9X",
        "outputId": "fac6ecca-604b-4415-8694-f95ad9001fac"
      },
      "execution_count": 24,
      "outputs": [
        {
          "output_type": "error",
          "ename": "KeyError",
          "evalue": "ignored",
          "traceback": [
            "\u001b[0;31m---------------------------------------------------------------------------\u001b[0m",
            "\u001b[0;31mKeyError\u001b[0m                                  Traceback (most recent call last)",
            "\u001b[0;32m<ipython-input-24-9b504b7fe6f4>\u001b[0m in \u001b[0;36m<module>\u001b[0;34m\u001b[0m\n\u001b[1;32m      1\u001b[0m \u001b[0mfruits\u001b[0m \u001b[0;34m=\u001b[0m \u001b[0;34m{\u001b[0m\u001b[0;34m\"apple\"\u001b[0m\u001b[0;34m,\u001b[0m \u001b[0;34m\"orange\"\u001b[0m\u001b[0;34m,\u001b[0m \u001b[0;34m\"lemon\"\u001b[0m\u001b[0;34m,\u001b[0m \u001b[0;34m\"banana\"\u001b[0m\u001b[0;34m,\u001b[0m \u001b[0;34m\"papaya\"\u001b[0m\u001b[0;34m}\u001b[0m\u001b[0;34m\u001b[0m\u001b[0;34m\u001b[0m\u001b[0m\n\u001b[0;32m----> 2\u001b[0;31m \u001b[0mfruits\u001b[0m\u001b[0;34m.\u001b[0m\u001b[0mremove\u001b[0m\u001b[0;34m(\u001b[0m\u001b[0;34m\"pineapple\"\u001b[0m\u001b[0;34m)\u001b[0m\u001b[0;34m\u001b[0m\u001b[0;34m\u001b[0m\u001b[0m\n\u001b[0m\u001b[1;32m      3\u001b[0m \u001b[0mfruits\u001b[0m\u001b[0;34m\u001b[0m\u001b[0;34m\u001b[0m\u001b[0m\n",
            "\u001b[0;31mKeyError\u001b[0m: 'pineapple'"
          ]
        }
      ]
    },
    {
      "cell_type": "code",
      "source": [
        "fruits = {\"apple\", \"orange\", \"lemon\", \"banana\", \"papaya\"}\n",
        "fruits.discard(\"pineapple\")\n",
        "print(fruits)\n",
        "\n"
      ],
      "metadata": {
        "colab": {
          "base_uri": "https://localhost:8080/"
        },
        "id": "cMRz_j6C2w6V",
        "outputId": "206a5a4e-6b3b-456b-c566-4c33d6b1376f"
      },
      "execution_count": 25,
      "outputs": [
        {
          "output_type": "stream",
          "name": "stdout",
          "text": [
            "{'orange', 'lemon', 'papaya', 'banana', 'apple'}\n"
          ]
        }
      ]
    },
    {
      "cell_type": "code",
      "source": [
        "# pop\n",
        "fruits = {\"apple\", \"orange\", \"lemon\", \"banana\", \"papaya\"}\n",
        "print(fruits)\n",
        "removed_element = fruits.pop()\n",
        "print(fruits, removed_element)\n"
      ],
      "metadata": {
        "colab": {
          "base_uri": "https://localhost:8080/"
        },
        "id": "oSm603b0269w",
        "outputId": "2f31bead-964d-4b46-dd2b-192448ee4dc6"
      },
      "execution_count": 27,
      "outputs": [
        {
          "output_type": "stream",
          "name": "stdout",
          "text": [
            "{'orange', 'lemon', 'papaya', 'banana', 'apple'}\n",
            "{'lemon', 'papaya', 'banana', 'apple'} orange\n"
          ]
        }
      ]
    },
    {
      "cell_type": "code",
      "source": [
        "# del\n",
        "fruits = {\"apple\", \"orange\", \"lemon\", \"banana\", \"papaya\"}\n",
        "del fruits\n",
        "print(fruits)"
      ],
      "metadata": {
        "colab": {
          "base_uri": "https://localhost:8080/",
          "height": 202
        },
        "id": "o88oVT-m3D56",
        "outputId": "4c3d3ee6-2b0b-45d0-8b06-c89a51cfe253"
      },
      "execution_count": 28,
      "outputs": [
        {
          "output_type": "error",
          "ename": "NameError",
          "evalue": "ignored",
          "traceback": [
            "\u001b[0;31m---------------------------------------------------------------------------\u001b[0m",
            "\u001b[0;31mNameError\u001b[0m                                 Traceback (most recent call last)",
            "\u001b[0;32m<ipython-input-28-63c0a4149c00>\u001b[0m in \u001b[0;36m<module>\u001b[0;34m\u001b[0m\n\u001b[1;32m      2\u001b[0m \u001b[0mfruits\u001b[0m \u001b[0;34m=\u001b[0m \u001b[0;34m{\u001b[0m\u001b[0;34m\"apple\"\u001b[0m\u001b[0;34m,\u001b[0m \u001b[0;34m\"orange\"\u001b[0m\u001b[0;34m,\u001b[0m \u001b[0;34m\"lemon\"\u001b[0m\u001b[0;34m,\u001b[0m \u001b[0;34m\"banana\"\u001b[0m\u001b[0;34m,\u001b[0m \u001b[0;34m\"papaya\"\u001b[0m\u001b[0;34m}\u001b[0m\u001b[0;34m\u001b[0m\u001b[0;34m\u001b[0m\u001b[0m\n\u001b[1;32m      3\u001b[0m \u001b[0;32mdel\u001b[0m \u001b[0mfruits\u001b[0m\u001b[0;34m\u001b[0m\u001b[0;34m\u001b[0m\u001b[0m\n\u001b[0;32m----> 4\u001b[0;31m \u001b[0mprint\u001b[0m\u001b[0;34m(\u001b[0m\u001b[0mfruits\u001b[0m\u001b[0;34m)\u001b[0m\u001b[0;34m\u001b[0m\u001b[0;34m\u001b[0m\u001b[0m\n\u001b[0m",
            "\u001b[0;31mNameError\u001b[0m: name 'fruits' is not defined"
          ]
        }
      ]
    },
    {
      "cell_type": "code",
      "source": [
        "fruits = {\"apple\", \"orange\", \"lemon\", \"banana\", \"papaya\"}\n",
        "fruits.clear()"
      ],
      "metadata": {
        "id": "hrrBo2UP24BU"
      },
      "execution_count": 29,
      "outputs": []
    },
    {
      "cell_type": "code",
      "source": [],
      "metadata": {
        "id": "CY9Y3Cye3JrB"
      },
      "execution_count": null,
      "outputs": []
    }
  ]
}