{
  "nbformat": 4,
  "nbformat_minor": 0,
  "metadata": {
    "colab": {
      "provenance": [],
      "collapsed_sections": [
        "8lUriU7v1Zkg",
        "tXavQmQB3Snv",
        "G95CVgj--Y8c"
      ]
    },
    "kernelspec": {
      "name": "python3",
      "display_name": "Python 3"
    },
    "language_info": {
      "name": "python"
    }
  },
  "cells": [
    {
      "cell_type": "markdown",
      "source": [
        "## Basic String Methods"
      ],
      "metadata": {
        "id": "s6qN9omivofM"
      }
    },
    {
      "cell_type": "markdown",
      "source": [
        "### ***in*** and **not in**"
      ],
      "metadata": {
        "id": "nIJ1sCLiv1S1"
      }
    },
    {
      "cell_type": "code",
      "execution_count": null,
      "metadata": {
        "id": "MTKuq3GkueCQ",
        "colab": {
          "base_uri": "https://localhost:8080/"
        },
        "outputId": "fbadaf85-962a-44ea-92df-20895a58e6c2"
      },
      "outputs": [
        {
          "output_type": "stream",
          "name": "stdout",
          "text": [
            "True\n"
          ]
        }
      ],
      "source": [
        "word = \"my name is syed jafer\"\n",
        "print(\"syed\" in word)"
      ]
    },
    {
      "cell_type": "code",
      "source": [
        "word = \"my name is syed jafer\"\n",
        "print(\"jafer\" not in word)"
      ],
      "metadata": {
        "id": "fybw2GfZwkXg",
        "colab": {
          "base_uri": "https://localhost:8080/"
        },
        "outputId": "71c1193e-96f4-4dc3-c31b-91415a1bd50a"
      },
      "execution_count": null,
      "outputs": [
        {
          "output_type": "stream",
          "name": "stdout",
          "text": [
            "False\n"
          ]
        }
      ]
    },
    {
      "cell_type": "code",
      "source": [
        "word = \"today is friday\"\n",
        "print(\"monday\" in word)"
      ],
      "metadata": {
        "colab": {
          "base_uri": "https://localhost:8080/"
        },
        "id": "6oRuFd1xpXYj",
        "outputId": "d3a589e0-7f27-44c6-f111-b03320b0338a"
      },
      "execution_count": null,
      "outputs": [
        {
          "output_type": "stream",
          "name": "stdout",
          "text": [
            "False\n"
          ]
        }
      ]
    },
    {
      "cell_type": "markdown",
      "source": [
        "### Relational Operators"
      ],
      "metadata": {
        "id": "KR2tXhaAwv41"
      }
    },
    {
      "cell_type": "code",
      "source": [
        "word1 = \"Helloworld\"\n",
        "word2 = \"helloworld\"\n",
        "word1 == word2, word1 != word2\n"
      ],
      "metadata": {
        "id": "lBQ8Ig_swnTE",
        "colab": {
          "base_uri": "https://localhost:8080/"
        },
        "outputId": "d937134f-f401-4cea-ad94-e5503ceae76f"
      },
      "execution_count": null,
      "outputs": [
        {
          "output_type": "execute_result",
          "data": {
            "text/plain": [
              "(False, True)"
            ]
          },
          "metadata": {},
          "execution_count": 4
        }
      ]
    },
    {
      "cell_type": "markdown",
      "source": [
        "### Built Ins"
      ],
      "metadata": {
        "id": "xEuydPICxO2h"
      }
    },
    {
      "cell_type": "code",
      "source": [
        "l = []\n",
        "dir(l)"
      ],
      "metadata": {
        "colab": {
          "base_uri": "https://localhost:8080/"
        },
        "id": "u8xiipQEqIKu",
        "outputId": "ff0c8cbc-addb-4462-8251-a196858ee62e"
      },
      "execution_count": null,
      "outputs": [
        {
          "output_type": "execute_result",
          "data": {
            "text/plain": [
              "['__add__',\n",
              " '__class__',\n",
              " '__contains__',\n",
              " '__delattr__',\n",
              " '__delitem__',\n",
              " '__dir__',\n",
              " '__doc__',\n",
              " '__eq__',\n",
              " '__format__',\n",
              " '__ge__',\n",
              " '__getattribute__',\n",
              " '__getitem__',\n",
              " '__gt__',\n",
              " '__hash__',\n",
              " '__iadd__',\n",
              " '__imul__',\n",
              " '__init__',\n",
              " '__init_subclass__',\n",
              " '__iter__',\n",
              " '__le__',\n",
              " '__len__',\n",
              " '__lt__',\n",
              " '__mul__',\n",
              " '__ne__',\n",
              " '__new__',\n",
              " '__reduce__',\n",
              " '__reduce_ex__',\n",
              " '__repr__',\n",
              " '__reversed__',\n",
              " '__rmul__',\n",
              " '__setattr__',\n",
              " '__setitem__',\n",
              " '__sizeof__',\n",
              " '__str__',\n",
              " '__subclasshook__',\n",
              " 'append',\n",
              " 'clear',\n",
              " 'copy',\n",
              " 'count',\n",
              " 'extend',\n",
              " 'index',\n",
              " 'insert',\n",
              " 'pop',\n",
              " 'remove',\n",
              " 'reverse',\n",
              " 'sort']"
            ]
          },
          "metadata": {},
          "execution_count": 6
        }
      ]
    },
    {
      "cell_type": "code",
      "source": [
        "greet = \"good evening\"\n",
        "dir(greet)"
      ],
      "metadata": {
        "colab": {
          "base_uri": "https://localhost:8080/"
        },
        "id": "z92F3jDup1JJ",
        "outputId": "f91c114e-d70e-448c-deb5-abc57a2b2c7e"
      },
      "execution_count": null,
      "outputs": [
        {
          "output_type": "execute_result",
          "data": {
            "text/plain": [
              "['__add__',\n",
              " '__class__',\n",
              " '__contains__',\n",
              " '__delattr__',\n",
              " '__dir__',\n",
              " '__doc__',\n",
              " '__eq__',\n",
              " '__format__',\n",
              " '__ge__',\n",
              " '__getattribute__',\n",
              " '__getitem__',\n",
              " '__getnewargs__',\n",
              " '__gt__',\n",
              " '__hash__',\n",
              " '__init__',\n",
              " '__init_subclass__',\n",
              " '__iter__',\n",
              " '__le__',\n",
              " '__len__',\n",
              " '__lt__',\n",
              " '__mod__',\n",
              " '__mul__',\n",
              " '__ne__',\n",
              " '__new__',\n",
              " '__reduce__',\n",
              " '__reduce_ex__',\n",
              " '__repr__',\n",
              " '__rmod__',\n",
              " '__rmul__',\n",
              " '__setattr__',\n",
              " '__sizeof__',\n",
              " '__str__',\n",
              " '__subclasshook__',\n",
              " 'capitalize',\n",
              " 'casefold',\n",
              " 'center',\n",
              " 'count',\n",
              " 'encode',\n",
              " 'endswith',\n",
              " 'expandtabs',\n",
              " 'find',\n",
              " 'format',\n",
              " 'format_map',\n",
              " 'index',\n",
              " 'isalnum',\n",
              " 'isalpha',\n",
              " 'isascii',\n",
              " 'isdecimal',\n",
              " 'isdigit',\n",
              " 'isidentifier',\n",
              " 'islower',\n",
              " 'isnumeric',\n",
              " 'isprintable',\n",
              " 'isspace',\n",
              " 'istitle',\n",
              " 'isupper',\n",
              " 'join',\n",
              " 'ljust',\n",
              " 'lower',\n",
              " 'lstrip',\n",
              " 'maketrans',\n",
              " 'partition',\n",
              " 'replace',\n",
              " 'rfind',\n",
              " 'rindex',\n",
              " 'rjust',\n",
              " 'rpartition',\n",
              " 'rsplit',\n",
              " 'rstrip',\n",
              " 'split',\n",
              " 'splitlines',\n",
              " 'startswith',\n",
              " 'strip',\n",
              " 'swapcase',\n",
              " 'title',\n",
              " 'translate',\n",
              " 'upper',\n",
              " 'zfill']"
            ]
          },
          "metadata": {},
          "execution_count": 5
        }
      ]
    },
    {
      "cell_type": "code",
      "source": [
        "# Upper\n",
        "word = \"Hello World\"\n",
        "print(word.upper())"
      ],
      "metadata": {
        "id": "X5Xtems3w7sa",
        "colab": {
          "base_uri": "https://localhost:8080/"
        },
        "outputId": "e7923584-5d1a-4b15-94f8-c4544e98e9a4"
      },
      "execution_count": null,
      "outputs": [
        {
          "output_type": "stream",
          "name": "stdout",
          "text": [
            "HELLO WORLD\n"
          ]
        }
      ]
    },
    {
      "cell_type": "code",
      "source": [
        "# Lower\n",
        "word = \"Hello World\"\n",
        "print(word.lower())"
      ],
      "metadata": {
        "id": "zuRyxBhUxX3d",
        "colab": {
          "base_uri": "https://localhost:8080/"
        },
        "outputId": "6e2bbcf0-83ff-4077-ef77-c71f1220ab57"
      },
      "execution_count": null,
      "outputs": [
        {
          "output_type": "stream",
          "name": "stdout",
          "text": [
            "hello world\n"
          ]
        }
      ]
    },
    {
      "cell_type": "code",
      "source": [
        "# Capitalize\n",
        "word = \"hello world\"\n",
        "print(word.capitalize())"
      ],
      "metadata": {
        "id": "8mUf51Guxar-",
        "colab": {
          "base_uri": "https://localhost:8080/"
        },
        "outputId": "ed6b1a87-e543-4e3e-bd2e-731bc04be9cd"
      },
      "execution_count": null,
      "outputs": [
        {
          "output_type": "stream",
          "name": "stdout",
          "text": [
            "Hello world\n"
          ]
        }
      ]
    },
    {
      "cell_type": "code",
      "source": [
        "# title\n",
        "word = \"hello world\"\n",
        "print(word.title())"
      ],
      "metadata": {
        "id": "zN7jzJ35xgo9",
        "colab": {
          "base_uri": "https://localhost:8080/"
        },
        "outputId": "825766c9-f149-4c9e-dfa4-09ebc873c6b9"
      },
      "execution_count": null,
      "outputs": [
        {
          "output_type": "stream",
          "name": "stdout",
          "text": [
            "Hello World\n"
          ]
        }
      ]
    },
    {
      "cell_type": "code",
      "source": [
        "# swapcase\n",
        "word = \"Hello worlD\"\n",
        "print(word.swapcase())"
      ],
      "metadata": {
        "id": "TsKVv194xkBq",
        "colab": {
          "base_uri": "https://localhost:8080/"
        },
        "outputId": "9be019a9-ce1c-4405-9e18-339d078f7b5c"
      },
      "execution_count": null,
      "outputs": [
        {
          "output_type": "stream",
          "name": "stdout",
          "text": [
            "hELLO WORLd\n"
          ]
        }
      ]
    },
    {
      "cell_type": "code",
      "source": [
        "# find()\n",
        "word = \"world hello\"\n",
        "word.find(\"helloq\")"
      ],
      "metadata": {
        "id": "w8tEKxM2xpB5",
        "colab": {
          "base_uri": "https://localhost:8080/"
        },
        "outputId": "04ac5987-cac6-4e03-f4a6-7c1170ba8789"
      },
      "execution_count": null,
      "outputs": [
        {
          "output_type": "execute_result",
          "data": {
            "text/plain": [
              "-1"
            ]
          },
          "metadata": {},
          "execution_count": 15
        }
      ]
    },
    {
      "cell_type": "code",
      "source": [
        "# replace\n",
        "word = \"hello world\"\n",
        "print(id(word))\n",
        "r = word.replace(\"hello\", \"hi\")\n",
        "print(id(r))"
      ],
      "metadata": {
        "id": "fuZESDO7xxfN",
        "colab": {
          "base_uri": "https://localhost:8080/"
        },
        "outputId": "eeb818b2-626a-4151-8cf3-947c13d4cd1b"
      },
      "execution_count": null,
      "outputs": [
        {
          "output_type": "stream",
          "name": "stdout",
          "text": [
            "139813847542512\n",
            "139814263569072\n"
          ]
        }
      ]
    },
    {
      "cell_type": "code",
      "source": [
        "\n",
        "# replace - negative case\n",
        "word = \"hello world\"\n",
        "word.replace(\"hellow\", \"hi\")"
      ],
      "metadata": {
        "id": "SEcP8GN6yBlN",
        "colab": {
          "base_uri": "https://localhost:8080/",
          "height": 35
        },
        "outputId": "34e757ab-b10b-4993-fa41-037de4cb1d70"
      },
      "execution_count": null,
      "outputs": [
        {
          "output_type": "execute_result",
          "data": {
            "text/plain": [
              "'hello world'"
            ],
            "application/vnd.google.colaboratory.intrinsic+json": {
              "type": "string"
            }
          },
          "metadata": {},
          "execution_count": 18
        }
      ]
    },
    {
      "cell_type": "markdown",
      "source": [
        "### Paddings"
      ],
      "metadata": {
        "id": "b1Ss0kFmyf48"
      }
    },
    {
      "cell_type": "code",
      "source": [
        "# center\n",
        "word = \"hello\"\n",
        "word.center(10)"
      ],
      "metadata": {
        "id": "XfSRcS-LyVlz",
        "colab": {
          "base_uri": "https://localhost:8080/",
          "height": 35
        },
        "outputId": "0fe9d2c7-6731-48b8-ef0c-f80f0396f89b"
      },
      "execution_count": null,
      "outputs": [
        {
          "output_type": "execute_result",
          "data": {
            "text/plain": [
              "'  hello   '"
            ],
            "application/vnd.google.colaboratory.intrinsic+json": {
              "type": "string"
            }
          },
          "metadata": {},
          "execution_count": 19
        }
      ]
    },
    {
      "cell_type": "code",
      "source": [
        "# ljust\n",
        "word = \"hello\"\n",
        "word.ljust(10)"
      ],
      "metadata": {
        "id": "CE0oZQs0ymMp",
        "colab": {
          "base_uri": "https://localhost:8080/",
          "height": 35
        },
        "outputId": "c8256357-164b-431c-a82e-b4fa7e47ee79"
      },
      "execution_count": null,
      "outputs": [
        {
          "output_type": "execute_result",
          "data": {
            "text/plain": [
              "'hello     '"
            ],
            "application/vnd.google.colaboratory.intrinsic+json": {
              "type": "string"
            }
          },
          "metadata": {},
          "execution_count": 20
        }
      ]
    },
    {
      "cell_type": "code",
      "source": [
        "# rjust\n",
        "word = \"hello\"\n",
        "word.rjust(10)"
      ],
      "metadata": {
        "id": "PtCAesmUyr-8",
        "colab": {
          "base_uri": "https://localhost:8080/",
          "height": 35
        },
        "outputId": "76c4afa1-9613-4029-e82d-349b60fbe119"
      },
      "execution_count": null,
      "outputs": [
        {
          "output_type": "execute_result",
          "data": {
            "text/plain": [
              "'     hello'"
            ],
            "application/vnd.google.colaboratory.intrinsic+json": {
              "type": "string"
            }
          },
          "metadata": {},
          "execution_count": 21
        }
      ]
    },
    {
      "cell_type": "code",
      "source": [
        "# zfill\n",
        "word = \"hello\"\n",
        "word.zfill(10)"
      ],
      "metadata": {
        "id": "y6Fj7LVmyxfu",
        "colab": {
          "base_uri": "https://localhost:8080/",
          "height": 35
        },
        "outputId": "d5cad0b3-a704-4766-9ed7-3cfde2b24eea"
      },
      "execution_count": null,
      "outputs": [
        {
          "output_type": "execute_result",
          "data": {
            "text/plain": [
              "'00000hello'"
            ],
            "application/vnd.google.colaboratory.intrinsic+json": {
              "type": "string"
            }
          },
          "metadata": {},
          "execution_count": 22
        }
      ]
    },
    {
      "cell_type": "markdown",
      "source": [
        "### Stripping"
      ],
      "metadata": {
        "id": "F96jw1jDy8Oa"
      }
    },
    {
      "cell_type": "code",
      "source": [
        "word = \"  hello  \"\n",
        "word.strip()"
      ],
      "metadata": {
        "id": "_MVfc8cly2vt",
        "colab": {
          "base_uri": "https://localhost:8080/",
          "height": 35
        },
        "outputId": "362232eb-b1f1-416a-d45c-e9ed104de12e"
      },
      "execution_count": null,
      "outputs": [
        {
          "output_type": "execute_result",
          "data": {
            "text/plain": [
              "'hello'"
            ],
            "application/vnd.google.colaboratory.intrinsic+json": {
              "type": "string"
            }
          },
          "metadata": {},
          "execution_count": 23
        }
      ]
    },
    {
      "cell_type": "code",
      "source": [
        "word = \"  hello  \"\n",
        "word.lstrip()"
      ],
      "metadata": {
        "id": "IfFXo5MVzGPN",
        "colab": {
          "base_uri": "https://localhost:8080/",
          "height": 35
        },
        "outputId": "95755462-b342-4c56-ea84-5689b4a3fd87"
      },
      "execution_count": null,
      "outputs": [
        {
          "output_type": "execute_result",
          "data": {
            "text/plain": [
              "'hello  '"
            ],
            "application/vnd.google.colaboratory.intrinsic+json": {
              "type": "string"
            }
          },
          "metadata": {},
          "execution_count": 24
        }
      ]
    },
    {
      "cell_type": "code",
      "source": [
        "word = \"  hello  \"\n",
        "word.rstrip()"
      ],
      "metadata": {
        "id": "jSiXf5gQzIsH",
        "colab": {
          "base_uri": "https://localhost:8080/",
          "height": 35
        },
        "outputId": "fd96e54a-35fb-49cc-daad-98ceca0d0579"
      },
      "execution_count": null,
      "outputs": [
        {
          "output_type": "execute_result",
          "data": {
            "text/plain": [
              "'  hello'"
            ],
            "application/vnd.google.colaboratory.intrinsic+json": {
              "type": "string"
            }
          },
          "metadata": {},
          "execution_count": 25
        }
      ]
    },
    {
      "cell_type": "code",
      "source": [
        "hash([])"
      ],
      "metadata": {
        "id": "2Odfp7q0zKaY",
        "colab": {
          "base_uri": "https://localhost:8080/",
          "height": 167
        },
        "outputId": "0aa9edf3-5ee7-4419-a7c9-bb12558cb87b"
      },
      "execution_count": null,
      "outputs": [
        {
          "output_type": "error",
          "ename": "TypeError",
          "evalue": "ignored",
          "traceback": [
            "\u001b[0;31m---------------------------------------------------------------------------\u001b[0m",
            "\u001b[0;31mTypeError\u001b[0m                                 Traceback (most recent call last)",
            "\u001b[0;32m<ipython-input-27-4c7351eba020>\u001b[0m in \u001b[0;36m<module>\u001b[0;34m\u001b[0m\n\u001b[0;32m----> 1\u001b[0;31m \u001b[0mhash\u001b[0m\u001b[0;34m(\u001b[0m\u001b[0;34m[\u001b[0m\u001b[0;34m]\u001b[0m\u001b[0;34m)\u001b[0m\u001b[0;34m\u001b[0m\u001b[0;34m\u001b[0m\u001b[0m\n\u001b[0m",
            "\u001b[0;31mTypeError\u001b[0m: unhashable type: 'list'"
          ]
        }
      ]
    },
    {
      "cell_type": "markdown",
      "source": [
        "## List\n",
        "\n",
        "https://www.youtube.com/watch?v=hCR2giEgRSc&list=PLiutOxBS1MiyJp_7OAkHz_isdWPa5rYvl\n"
      ],
      "metadata": {
        "id": "Cq06LL6nzSa8"
      }
    },
    {
      "cell_type": "markdown",
      "source": [
        "a data structure in Python that is a **mutable**, or **changeable**, **ordered sequence of elements**.\n",
        "\n",
        "\n",
        "1. Order is maintained\n",
        "2. Changeable\n",
        "3. Allow Duplicate Values"
      ],
      "metadata": {
        "id": "-JHZXiFO1SRA"
      }
    },
    {
      "cell_type": "markdown",
      "source": [
        "### Declaring"
      ],
      "metadata": {
        "id": "8lUriU7v1Zkg"
      }
    },
    {
      "cell_type": "code",
      "source": [
        "# using [] brackets\n",
        "res = []\n",
        "print(type(res))"
      ],
      "metadata": {
        "id": "P7a9IJWGzWbS",
        "colab": {
          "base_uri": "https://localhost:8080/"
        },
        "outputId": "f9bae6b0-7ddc-46b4-bdab-9d1b8c3995c5"
      },
      "execution_count": null,
      "outputs": [
        {
          "output_type": "stream",
          "name": "stdout",
          "text": [
            "<class 'list'>\n"
          ]
        }
      ]
    },
    {
      "cell_type": "code",
      "source": [
        "res = [1, 2, 3, 4, 5]\n",
        "print(res)"
      ],
      "metadata": {
        "id": "-1aR65IS1rDA",
        "colab": {
          "base_uri": "https://localhost:8080/"
        },
        "outputId": "006dcb0c-895d-44ca-dd64-965c0d9c8a83"
      },
      "execution_count": null,
      "outputs": [
        {
          "output_type": "stream",
          "name": "stdout",
          "text": [
            "[1, 2, 3, 4, 5]\n"
          ]
        }
      ]
    },
    {
      "cell_type": "code",
      "source": [
        "d = (1, 2, 3, 4, 5)\n",
        "type(d)"
      ],
      "metadata": {
        "colab": {
          "base_uri": "https://localhost:8080/"
        },
        "id": "_2CA1VvZt1ci",
        "outputId": "9877d9ad-2681-456c-b9d1-109367188137"
      },
      "execution_count": null,
      "outputs": [
        {
          "output_type": "execute_result",
          "data": {
            "text/plain": [
              "tuple"
            ]
          },
          "metadata": {},
          "execution_count": 33
        }
      ]
    },
    {
      "cell_type": "code",
      "source": [
        "# using list() method\n",
        "\n",
        "res = list({1, 2, 3, 4, 5})\n",
        "print(type(res))"
      ],
      "metadata": {
        "id": "9ALTQCmt1h2e",
        "colab": {
          "base_uri": "https://localhost:8080/"
        },
        "outputId": "05a2845b-5379-4103-ec1e-623ca84113d9"
      },
      "execution_count": null,
      "outputs": [
        {
          "output_type": "stream",
          "name": "stdout",
          "text": [
            "<class 'list'>\n"
          ]
        }
      ]
    },
    {
      "cell_type": "code",
      "source": [
        "# using list() method\n",
        "res = list('string')\n",
        "print(res)"
      ],
      "metadata": {
        "id": "oJ1dTgTz1le_",
        "colab": {
          "base_uri": "https://localhost:8080/"
        },
        "outputId": "6c06ff71-b745-401c-dcd9-1b42d6a67845"
      },
      "execution_count": null,
      "outputs": [
        {
          "output_type": "stream",
          "name": "stdout",
          "text": [
            "['s', 't', 'r', 'i', 'n', 'g']\n"
          ]
        }
      ]
    },
    {
      "cell_type": "code",
      "source": [
        "# Allow duplicates\n",
        "fruits = ['apple', 'Orange', 'Papaya', 'apple']\n",
        "print(fruits)"
      ],
      "metadata": {
        "id": "A2zCYuim1yy0",
        "colab": {
          "base_uri": "https://localhost:8080/"
        },
        "outputId": "1f332fb5-b310-413e-eac2-a01958441560"
      },
      "execution_count": null,
      "outputs": [
        {
          "output_type": "stream",
          "name": "stdout",
          "text": [
            "['apple', 'Orange', 'Papaya', 'apple']\n"
          ]
        }
      ]
    },
    {
      "cell_type": "code",
      "source": [
        "# list length\n",
        "fruits = ['apple', 'Orange', 'Papaya', 'apple']\n",
        "len(fruits)"
      ],
      "metadata": {
        "id": "Si9sCqG62nDP",
        "colab": {
          "base_uri": "https://localhost:8080/"
        },
        "outputId": "873f8c27-5cf5-4103-de26-440403e37615"
      },
      "execution_count": null,
      "outputs": [
        {
          "output_type": "execute_result",
          "data": {
            "text/plain": [
              "4"
            ]
          },
          "metadata": {},
          "execution_count": 35
        }
      ]
    },
    {
      "cell_type": "code",
      "source": [
        "# List items can be of any data type or a combination of data types. \n",
        "data = ['d1', 'd2', 'd3', 2, 3.4, True, []]\n",
        "print(data)"
      ],
      "metadata": {
        "id": "kBVa6Xz12z-I",
        "colab": {
          "base_uri": "https://localhost:8080/"
        },
        "outputId": "eec727b4-99c8-4859-fcac-3d6b0143099f"
      },
      "execution_count": null,
      "outputs": [
        {
          "output_type": "stream",
          "name": "stdout",
          "text": [
            "['d1', 'd2', 'd3', 2, 3.4, True, []]\n"
          ]
        }
      ]
    },
    {
      "cell_type": "markdown",
      "source": [
        "### Basic Builtins"
      ],
      "metadata": {
        "id": "tXavQmQB3Snv"
      }
    },
    {
      "cell_type": "code",
      "source": [
        "# in & not in\n",
        "fruits = list(('apple', 'Orange', 'Papaya', 'apple'))\n",
        "print('apple' in fruits)\n",
        "print('lemon' in fruits)"
      ],
      "metadata": {
        "id": "BIEiMiy73Ro_",
        "colab": {
          "base_uri": "https://localhost:8080/"
        },
        "outputId": "8584788e-ffb7-48c4-a93d-6f47bc08d2bf"
      },
      "execution_count": null,
      "outputs": [
        {
          "output_type": "stream",
          "name": "stdout",
          "text": [
            "True\n",
            "False\n"
          ]
        }
      ]
    },
    {
      "cell_type": "code",
      "source": [
        "# MAX and MIN\n",
        "ranks = [1, 2, 3, 4, 5, 6]\n",
        "print(max(ranks), min(ranks))"
      ],
      "metadata": {
        "id": "R6itSi5F29iY",
        "colab": {
          "base_uri": "https://localhost:8080/"
        },
        "outputId": "b9f4854e-86c2-4629-b34f-820ab81e9c6c"
      },
      "execution_count": null,
      "outputs": [
        {
          "output_type": "stream",
          "name": "stdout",
          "text": [
            "6 1\n"
          ]
        }
      ]
    },
    {
      "cell_type": "code",
      "source": [
        "# any all\n",
        "\n",
        "# True Values definintion\n",
        "\n",
        "# 1. Non Zero\n",
        "# 2. Non empty string\n",
        "# 3. False\n",
        "\n",
        "data = [1, 2, 3, '']\n",
        "print(all(data))\n",
        "\n",
        "print(any(data))\n"
      ],
      "metadata": {
        "id": "YFcy1zpW9zib",
        "colab": {
          "base_uri": "https://localhost:8080/"
        },
        "outputId": "cdfbf8b6-963d-4a91-9c07-a25f273b456c"
      },
      "execution_count": null,
      "outputs": [
        {
          "output_type": "stream",
          "name": "stdout",
          "text": [
            "False\n",
            "True\n"
          ]
        }
      ]
    },
    {
      "cell_type": "markdown",
      "source": [
        "### Indexing"
      ],
      "metadata": {
        "id": "G95CVgj--Y8c"
      }
    },
    {
      "cell_type": "code",
      "source": [
        "fruits = ['apple', 'papaya', 'banana', 'orange', 'pear', 'lemon']\n",
        "        #   0         1        2          3        4        5       <- Index\n",
        "print(fruits[0])"
      ],
      "metadata": {
        "id": "3IRNxSfN95mQ",
        "colab": {
          "base_uri": "https://localhost:8080/"
        },
        "outputId": "ab2b8dc8-ab44-4cde-a554-2a58b254f99f"
      },
      "execution_count": null,
      "outputs": [
        {
          "output_type": "stream",
          "name": "stdout",
          "text": [
            "apple\n"
          ]
        }
      ]
    },
    {
      "cell_type": "code",
      "source": [
        "fruits[-1]"
      ],
      "metadata": {
        "colab": {
          "base_uri": "https://localhost:8080/",
          "height": 35
        },
        "id": "P5u0OlXQvea4",
        "outputId": "6f013356-009a-4f7a-a645-28478a1e8bf8"
      },
      "execution_count": null,
      "outputs": [
        {
          "output_type": "execute_result",
          "data": {
            "text/plain": [
              "'lemon'"
            ],
            "application/vnd.google.colaboratory.intrinsic+json": {
              "type": "string"
            }
          },
          "metadata": {},
          "execution_count": 43
        }
      ]
    },
    {
      "cell_type": "code",
      "source": [
        "fruits[9]"
      ],
      "metadata": {
        "colab": {
          "base_uri": "https://localhost:8080/",
          "height": 167
        },
        "id": "MlD6L6R4vePf",
        "outputId": "28d7d9ea-08f0-4a64-82d2-7174d1b76258"
      },
      "execution_count": null,
      "outputs": [
        {
          "output_type": "error",
          "ename": "IndexError",
          "evalue": "ignored",
          "traceback": [
            "\u001b[0;31m---------------------------------------------------------------------------\u001b[0m",
            "\u001b[0;31mIndexError\u001b[0m                                Traceback (most recent call last)",
            "\u001b[0;32m<ipython-input-44-38b7984ae848>\u001b[0m in \u001b[0;36m<module>\u001b[0;34m\u001b[0m\n\u001b[0;32m----> 1\u001b[0;31m \u001b[0mfruits\u001b[0m\u001b[0;34m[\u001b[0m\u001b[0;36m9\u001b[0m\u001b[0;34m]\u001b[0m\u001b[0;34m\u001b[0m\u001b[0;34m\u001b[0m\u001b[0m\n\u001b[0m",
            "\u001b[0;31mIndexError\u001b[0m: list index out of range"
          ]
        }
      ]
    },
    {
      "cell_type": "code",
      "source": [],
      "metadata": {
        "id": "rHjypB8PveCK"
      },
      "execution_count": null,
      "outputs": []
    },
    {
      "cell_type": "code",
      "source": [],
      "metadata": {
        "id": "sztAG8ANvcw2"
      },
      "execution_count": null,
      "outputs": []
    },
    {
      "cell_type": "markdown",
      "source": [
        "### Inserting values\n"
      ],
      "metadata": {
        "id": "JiB_8SZI9-2d"
      }
    },
    {
      "cell_type": "code",
      "source": [
        "fruits = ['apple', 'papaya', 'banana', 'orange', 'pear']\n"
      ],
      "metadata": {
        "id": "SnQnBuL8-Mot"
      },
      "execution_count": null,
      "outputs": []
    },
    {
      "cell_type": "code",
      "source": [
        "dir(fruits)"
      ],
      "metadata": {
        "colab": {
          "base_uri": "https://localhost:8080/"
        },
        "id": "3bpPdEc1v3YJ",
        "outputId": "2eeb3abb-bfe8-4f96-f316-008f065cfaf7"
      },
      "execution_count": null,
      "outputs": [
        {
          "output_type": "execute_result",
          "data": {
            "text/plain": [
              "['__add__',\n",
              " '__class__',\n",
              " '__contains__',\n",
              " '__delattr__',\n",
              " '__delitem__',\n",
              " '__dir__',\n",
              " '__doc__',\n",
              " '__eq__',\n",
              " '__format__',\n",
              " '__ge__',\n",
              " '__getattribute__',\n",
              " '__getitem__',\n",
              " '__gt__',\n",
              " '__hash__',\n",
              " '__iadd__',\n",
              " '__imul__',\n",
              " '__init__',\n",
              " '__init_subclass__',\n",
              " '__iter__',\n",
              " '__le__',\n",
              " '__len__',\n",
              " '__lt__',\n",
              " '__mul__',\n",
              " '__ne__',\n",
              " '__new__',\n",
              " '__reduce__',\n",
              " '__reduce_ex__',\n",
              " '__repr__',\n",
              " '__reversed__',\n",
              " '__rmul__',\n",
              " '__setattr__',\n",
              " '__setitem__',\n",
              " '__sizeof__',\n",
              " '__str__',\n",
              " '__subclasshook__',\n",
              " 'append',\n",
              " 'clear',\n",
              " 'copy',\n",
              " 'count',\n",
              " 'extend',\n",
              " 'index',\n",
              " 'insert',\n",
              " 'pop',\n",
              " 'remove',\n",
              " 'reverse',\n",
              " 'sort']"
            ]
          },
          "metadata": {},
          "execution_count": 46
        }
      ]
    },
    {
      "cell_type": "code",
      "source": [
        "fruits"
      ],
      "metadata": {
        "colab": {
          "base_uri": "https://localhost:8080/"
        },
        "id": "EM1O1HBPwEWJ",
        "outputId": "dfaba092-b9ef-4a9a-cd7d-a8ae1f7bfd03"
      },
      "execution_count": null,
      "outputs": [
        {
          "output_type": "execute_result",
          "data": {
            "text/plain": [
              "['apple', 'papaya', 'banana', 'orange', 'pear']"
            ]
          },
          "metadata": {},
          "execution_count": 47
        }
      ]
    },
    {
      "cell_type": "code",
      "source": [
        "# Using insert function\n",
        "fruits.insert(2, 'jackfruit')\n"
      ],
      "metadata": {
        "id": "-PJMrcmo-iRc"
      },
      "execution_count": null,
      "outputs": []
    },
    {
      "cell_type": "code",
      "source": [
        "fruits"
      ],
      "metadata": {
        "id": "8BzIaW_I-ubn",
        "colab": {
          "base_uri": "https://localhost:8080/"
        },
        "outputId": "b0e07585-7b2f-417b-cebf-82d0ce9ece3f"
      },
      "execution_count": null,
      "outputs": [
        {
          "output_type": "execute_result",
          "data": {
            "text/plain": [
              "['apple', 'papaya', 'jackfruit', 'banana', 'orange', 'pear']"
            ]
          },
          "metadata": {},
          "execution_count": 49
        }
      ]
    },
    {
      "cell_type": "code",
      "source": [
        "fruits.insert(-1, 'lemon')"
      ],
      "metadata": {
        "id": "1EVpR2tRwSp8"
      },
      "execution_count": null,
      "outputs": []
    },
    {
      "cell_type": "code",
      "source": [
        "fruits"
      ],
      "metadata": {
        "colab": {
          "base_uri": "https://localhost:8080/"
        },
        "id": "YOteTHDSwShN",
        "outputId": "0a45d279-f7b6-4118-aef3-d1fd658a4192"
      },
      "execution_count": null,
      "outputs": [
        {
          "output_type": "execute_result",
          "data": {
            "text/plain": [
              "['apple', 'papaya', 'jackfruit', 'banana', 'orange', 'lemon', 'pear']"
            ]
          },
          "metadata": {},
          "execution_count": 51
        }
      ]
    },
    {
      "cell_type": "code",
      "source": [
        "fruits.insert(len(fruits), 'papaya')\n",
        "fruits"
      ],
      "metadata": {
        "colab": {
          "base_uri": "https://localhost:8080/"
        },
        "id": "6xhcbDlvwSVC",
        "outputId": "1917956c-bb92-47a9-aaf5-07a85d54b9f9"
      },
      "execution_count": null,
      "outputs": [
        {
          "output_type": "execute_result",
          "data": {
            "text/plain": [
              "['apple', 'papaya', 'jackfruit', 'banana', 'orange', 'lemon', 'pear', 'papaya']"
            ]
          },
          "metadata": {},
          "execution_count": 52
        }
      ]
    },
    {
      "cell_type": "code",
      "source": [
        "fruits.insert(100, 'fruit1')"
      ],
      "metadata": {
        "id": "70QSzy53wRHc"
      },
      "execution_count": null,
      "outputs": []
    },
    {
      "cell_type": "code",
      "source": [
        "fruits"
      ],
      "metadata": {
        "colab": {
          "base_uri": "https://localhost:8080/"
        },
        "id": "r1KQP9Btw5QM",
        "outputId": "03434e8f-74f5-4ddb-d731-87401744d337"
      },
      "execution_count": null,
      "outputs": [
        {
          "output_type": "execute_result",
          "data": {
            "text/plain": [
              "['apple',\n",
              " 'papaya',\n",
              " 'jackfruit',\n",
              " 'banana',\n",
              " 'orange',\n",
              " 'lemon',\n",
              " 'pear',\n",
              " 'papaya',\n",
              " 'fruit1']"
            ]
          },
          "metadata": {},
          "execution_count": 54
        }
      ]
    },
    {
      "cell_type": "code",
      "source": [
        "# using append\n",
        "fruits =['apple', 'papaya', 'banana', 'orange', 'pear']\n",
        "fruits.append('lemon')\n",
        "print(fruits)"
      ],
      "metadata": {
        "id": "MjNPvXjH-vWH",
        "colab": {
          "base_uri": "https://localhost:8080/"
        },
        "outputId": "29347272-ee98-43a5-d24a-2312419c5ff9"
      },
      "execution_count": null,
      "outputs": [
        {
          "output_type": "stream",
          "name": "stdout",
          "text": [
            "['apple', 'papaya', 'banana', 'orange', 'pear', 'lemon']\n"
          ]
        }
      ]
    },
    {
      "cell_type": "code",
      "source": [
        "# using append\n",
        "fruits =['apple', 'papaya', 'banana', 'orange', 'pear']\n",
        "fruits.append(['a', 'b'])\n",
        "fruits[-1].append('c')\n",
        "print(fruits)"
      ],
      "metadata": {
        "colab": {
          "base_uri": "https://localhost:8080/"
        },
        "id": "PbNge_MgxRaS",
        "outputId": "b1af12e3-cf1b-4c69-ad21-04d5de296536"
      },
      "execution_count": null,
      "outputs": [
        {
          "output_type": "stream",
          "name": "stdout",
          "text": [
            "['apple', 'papaya', 'banana', 'orange', 'pear', ['a', 'b', 'c']]\n"
          ]
        }
      ]
    },
    {
      "cell_type": "code",
      "source": [
        "# Using extend\n",
        "fruits = ['apple', 'papaya', 'banana', 'orange', 'pear', 'lemon']\n",
        "fav_fruits = ['jackfruit', 'strawberry', 'pineapple']\n",
        "\n",
        "fruits.extend(fav_fruits)\n",
        "print(fruits, fav_fruits)"
      ],
      "metadata": {
        "id": "LbZc7CmI_HnQ",
        "colab": {
          "base_uri": "https://localhost:8080/"
        },
        "outputId": "816f81fd-3677-42ae-ea3f-9cc29877e720"
      },
      "execution_count": null,
      "outputs": [
        {
          "output_type": "stream",
          "name": "stdout",
          "text": [
            "['apple', 'papaya', 'banana', 'orange', 'pear', 'lemon', 'jackfruit', 'strawberry', 'pineapple'] ['jackfruit', 'strawberry', 'pineapple']\n"
          ]
        }
      ]
    },
    {
      "cell_type": "code",
      "source": [
        "fruits = ['apple', 'papaya', 'banana', 'orange', 'pear', 'lemon']\n",
        "fav_fruits = ['jackfruit', 'strawberry', 'pineapple']\n",
        "print(fruits + fav_fruits, fruits, fav_fruits)"
      ],
      "metadata": {
        "id": "CtTr9Vh-_N3f",
        "colab": {
          "base_uri": "https://localhost:8080/"
        },
        "outputId": "37b19aa5-4b7b-405a-c4df-088d53f6fb38"
      },
      "execution_count": null,
      "outputs": [
        {
          "output_type": "stream",
          "name": "stdout",
          "text": [
            "['apple', 'papaya', 'banana', 'orange', 'pear', 'lemon', 'jackfruit', 'strawberry', 'pineapple'] ['apple', 'papaya', 'banana', 'orange', 'pear', 'lemon'] ['jackfruit', 'strawberry', 'pineapple']\n"
          ]
        }
      ]
    },
    {
      "cell_type": "markdown",
      "source": [
        "### Removal\n"
      ],
      "metadata": {
        "id": "M7Q-qpTxEzrV"
      }
    },
    {
      "cell_type": "code",
      "source": [
        "fruits = ['apple', 'papaya', 'banana', 'apple', 'orange', 'pear', 'lemon']\n",
        "fruits.remove('apple')\n",
        "fruits"
      ],
      "metadata": {
        "id": "2OngzNS5E_6d",
        "colab": {
          "base_uri": "https://localhost:8080/"
        },
        "outputId": "eb1f4ad0-1827-4cf4-a1ca-4a7a1160cbc7"
      },
      "execution_count": null,
      "outputs": [
        {
          "output_type": "execute_result",
          "data": {
            "text/plain": [
              "['papaya', 'banana', 'apple', 'orange', 'pear', 'lemon']"
            ]
          },
          "metadata": {},
          "execution_count": 60
        }
      ]
    },
    {
      "cell_type": "code",
      "source": [
        "fruits = ['apple', 'papaya', 'banana', 'apple', 'orange', 'pear', 'lemon']\n",
        "fruits.remove('pineapple')\n",
        "fruits"
      ],
      "metadata": {
        "id": "VVP-D6v1FBUt",
        "colab": {
          "base_uri": "https://localhost:8080/",
          "height": 202
        },
        "outputId": "799944a4-e17d-4e3e-c299-4594f64f28f0"
      },
      "execution_count": null,
      "outputs": [
        {
          "output_type": "error",
          "ename": "ValueError",
          "evalue": "ignored",
          "traceback": [
            "\u001b[0;31m---------------------------------------------------------------------------\u001b[0m",
            "\u001b[0;31mValueError\u001b[0m                                Traceback (most recent call last)",
            "\u001b[0;32m<ipython-input-61-ff94fb33f495>\u001b[0m in \u001b[0;36m<module>\u001b[0;34m\u001b[0m\n\u001b[1;32m      1\u001b[0m \u001b[0mfruits\u001b[0m \u001b[0;34m=\u001b[0m \u001b[0;34m[\u001b[0m\u001b[0;34m'apple'\u001b[0m\u001b[0;34m,\u001b[0m \u001b[0;34m'papaya'\u001b[0m\u001b[0;34m,\u001b[0m \u001b[0;34m'banana'\u001b[0m\u001b[0;34m,\u001b[0m \u001b[0;34m'apple'\u001b[0m\u001b[0;34m,\u001b[0m \u001b[0;34m'orange'\u001b[0m\u001b[0;34m,\u001b[0m \u001b[0;34m'pear'\u001b[0m\u001b[0;34m,\u001b[0m \u001b[0;34m'lemon'\u001b[0m\u001b[0;34m]\u001b[0m\u001b[0;34m\u001b[0m\u001b[0;34m\u001b[0m\u001b[0m\n\u001b[0;32m----> 2\u001b[0;31m \u001b[0mfruits\u001b[0m\u001b[0;34m.\u001b[0m\u001b[0mremove\u001b[0m\u001b[0;34m(\u001b[0m\u001b[0;34m'pineapple'\u001b[0m\u001b[0;34m)\u001b[0m\u001b[0;34m\u001b[0m\u001b[0;34m\u001b[0m\u001b[0m\n\u001b[0m\u001b[1;32m      3\u001b[0m \u001b[0mfruits\u001b[0m\u001b[0;34m\u001b[0m\u001b[0;34m\u001b[0m\u001b[0m\n",
            "\u001b[0;31mValueError\u001b[0m: list.remove(x): x not in list"
          ]
        }
      ]
    },
    {
      "cell_type": "code",
      "source": [
        "if 'strawberry' in fruits:\n",
        "    fruits.remove('strawberry')"
      ],
      "metadata": {
        "id": "N_o3_8VTFJGe"
      },
      "execution_count": null,
      "outputs": []
    },
    {
      "cell_type": "code",
      "source": [
        "fruits = ['apple', 'papaya', 'banana', 'apple', 'orange', 'pear', 'lemon']\n",
        "fruits.pop(0)\n",
        "fruits"
      ],
      "metadata": {
        "id": "Qsrwn3NHFPT_",
        "colab": {
          "base_uri": "https://localhost:8080/"
        },
        "outputId": "d867a837-bde2-4eaa-951d-250582082203"
      },
      "execution_count": null,
      "outputs": [
        {
          "output_type": "execute_result",
          "data": {
            "text/plain": [
              "['papaya', 'banana', 'apple', 'orange', 'pear', 'lemon']"
            ]
          },
          "metadata": {},
          "execution_count": 65
        }
      ]
    },
    {
      "cell_type": "code",
      "source": [
        "fruits = ['apple', 'papaya', 'banana', 'apple', 'orange', 'pear', 'lemon']\n",
        "del fruits[2]"
      ],
      "metadata": {
        "id": "55AQoG_GFXIP"
      },
      "execution_count": null,
      "outputs": []
    },
    {
      "cell_type": "code",
      "source": [
        "fruits\n",
        "del fruits\n",
        "fruits"
      ],
      "metadata": {
        "colab": {
          "base_uri": "https://localhost:8080/",
          "height": 202
        },
        "id": "sW4hoNIWzTPG",
        "outputId": "523b64fa-f0ac-43f0-97dc-263c0fc067c1"
      },
      "execution_count": null,
      "outputs": [
        {
          "output_type": "error",
          "ename": "NameError",
          "evalue": "ignored",
          "traceback": [
            "\u001b[0;31m---------------------------------------------------------------------------\u001b[0m",
            "\u001b[0;31mNameError\u001b[0m                                 Traceback (most recent call last)",
            "\u001b[0;32m<ipython-input-70-c3fc7f3ef462>\u001b[0m in \u001b[0;36m<module>\u001b[0;34m\u001b[0m\n\u001b[1;32m      1\u001b[0m \u001b[0mfruits\u001b[0m\u001b[0;34m\u001b[0m\u001b[0;34m\u001b[0m\u001b[0m\n\u001b[1;32m      2\u001b[0m \u001b[0;32mdel\u001b[0m \u001b[0mfruits\u001b[0m\u001b[0;34m\u001b[0m\u001b[0;34m\u001b[0m\u001b[0m\n\u001b[0;32m----> 3\u001b[0;31m \u001b[0mfruits\u001b[0m\u001b[0;34m\u001b[0m\u001b[0;34m\u001b[0m\u001b[0m\n\u001b[0m",
            "\u001b[0;31mNameError\u001b[0m: name 'fruits' is not defined"
          ]
        }
      ]
    },
    {
      "cell_type": "code",
      "source": [
        "fruits"
      ],
      "metadata": {
        "id": "17Nv_nRvFihi",
        "colab": {
          "base_uri": "https://localhost:8080/"
        },
        "outputId": "a4149ac4-3560-4ecd-8df6-110aded3f3eb"
      },
      "execution_count": null,
      "outputs": [
        {
          "output_type": "execute_result",
          "data": {
            "text/plain": [
              "['apple', 'papaya', 'apple', 'orange', 'pear', 'lemon']"
            ]
          },
          "metadata": {},
          "execution_count": 67
        }
      ]
    },
    {
      "cell_type": "code",
      "source": [
        "fruits.clear()\n",
        "fruits"
      ],
      "metadata": {
        "id": "93EkPo1iFj2E",
        "colab": {
          "base_uri": "https://localhost:8080/"
        },
        "outputId": "3071b4e6-4f2e-4789-a0e8-5e0e7df9388f"
      },
      "execution_count": null,
      "outputs": [
        {
          "output_type": "execute_result",
          "data": {
            "text/plain": [
              "[]"
            ]
          },
          "metadata": {},
          "execution_count": 68
        }
      ]
    },
    {
      "cell_type": "markdown",
      "source": [
        "### Sorting"
      ],
      "metadata": {
        "id": "aer4GzurFsaI"
      }
    },
    {
      "cell_type": "code",
      "source": [
        "fruits = ['Apple', 'Papaya', 'banana', 'Orange', 'Pear', 'lemon']\n",
        "fruits.sort()  # tim sort = merge sort + insert"
      ],
      "metadata": {
        "id": "qkPnloDsFwXh"
      },
      "execution_count": null,
      "outputs": []
    },
    {
      "cell_type": "code",
      "source": [
        "fruits"
      ],
      "metadata": {
        "id": "cAIXgkdfF0Fb",
        "colab": {
          "base_uri": "https://localhost:8080/"
        },
        "outputId": "9d55d129-b746-4fe3-d6e4-f6379b7280b2"
      },
      "execution_count": null,
      "outputs": [
        {
          "output_type": "execute_result",
          "data": {
            "text/plain": [
              "['Apple', 'Orange', 'Papaya', 'Pear', 'banana', 'lemon']"
            ]
          },
          "metadata": {},
          "execution_count": 72
        }
      ]
    },
    {
      "cell_type": "code",
      "source": [
        "ord('A'), ord('b')"
      ],
      "metadata": {
        "colab": {
          "base_uri": "https://localhost:8080/"
        },
        "id": "xUn9qT1vzxZG",
        "outputId": "fdc89728-4dc0-4b46-c323-befefbacc9df"
      },
      "execution_count": null,
      "outputs": [
        {
          "output_type": "execute_result",
          "data": {
            "text/plain": [
              "(65, 98)"
            ]
          },
          "metadata": {},
          "execution_count": 74
        }
      ]
    },
    {
      "cell_type": "markdown",
      "source": [
        "## Tuple\n",
        "\n",
        "https://www.youtube.com/watch?v=WGFkXVia9Cw&list=PLiutOxBS1MiyJp_7OAkHz_isdWPa5rYvl&index=2"
      ],
      "metadata": {
        "id": "dHS5heiuF-5B"
      }
    },
    {
      "cell_type": "markdown",
      "source": [
        "### Declaring\n"
      ],
      "metadata": {
        "id": "PmT45i_RNkDI"
      }
    },
    {
      "cell_type": "code",
      "source": [
        "# Using () \n",
        "fruits = ()\n",
        "type(fruits)"
      ],
      "metadata": {
        "id": "QVpeemp5GCmr",
        "colab": {
          "base_uri": "https://localhost:8080/"
        },
        "outputId": "9afd0ef0-b3f9-451d-8f15-37cacaaae40d"
      },
      "execution_count": null,
      "outputs": [
        {
          "output_type": "execute_result",
          "data": {
            "text/plain": [
              "tuple"
            ]
          },
          "metadata": {},
          "execution_count": 1
        }
      ]
    },
    {
      "cell_type": "code",
      "source": [
        "fruits = tuple([1, 2, 3, 4])\n",
        "type(fruits)"
      ],
      "metadata": {
        "id": "Ts2MZXKvN8d0",
        "colab": {
          "base_uri": "https://localhost:8080/"
        },
        "outputId": "cc93df45-1f81-47cb-8a34-fcb900e0f631"
      },
      "execution_count": null,
      "outputs": [
        {
          "output_type": "execute_result",
          "data": {
            "text/plain": [
              "tuple"
            ]
          },
          "metadata": {},
          "execution_count": 2
        }
      ]
    },
    {
      "cell_type": "code",
      "source": [
        "nums = 12,13"
      ],
      "metadata": {
        "id": "ejKoSpRQy6On"
      },
      "execution_count": null,
      "outputs": []
    },
    {
      "cell_type": "code",
      "source": [
        "print(nums, type(nums))"
      ],
      "metadata": {
        "colab": {
          "base_uri": "https://localhost:8080/"
        },
        "id": "46FdSO_VzDBM",
        "outputId": "70fcbc92-6db1-4044-bb08-22cf0f81385a"
      },
      "execution_count": null,
      "outputs": [
        {
          "output_type": "stream",
          "name": "stdout",
          "text": [
            "(12, 13) <class 'tuple'>\n"
          ]
        }
      ]
    },
    {
      "cell_type": "markdown",
      "source": [
        "### Builtins"
      ],
      "metadata": {
        "id": "YiMiQcEoObqO"
      }
    },
    {
      "cell_type": "code",
      "source": [
        "# in & not in\n",
        "fruits = tuple(['apple', 'Orange', 'Papaya', 'apple'])\n",
        "print('apple' in fruits)\n",
        "print('lemon' in fruits)"
      ],
      "metadata": {
        "id": "aFQZlZBuPcVJ",
        "colab": {
          "base_uri": "https://localhost:8080/"
        },
        "outputId": "ecd77af8-6de4-49f4-ff6c-7ed5f1931187"
      },
      "execution_count": null,
      "outputs": [
        {
          "output_type": "stream",
          "name": "stdout",
          "text": [
            "True\n",
            "False\n"
          ]
        }
      ]
    },
    {
      "cell_type": "code",
      "source": [
        "# MAX and MIN\n",
        "ranks = (1, 2, 3, 4, 5, 6)\n",
        "print(max(ranks), min(ranks))"
      ],
      "metadata": {
        "id": "eTWxOG4yPcVN",
        "colab": {
          "base_uri": "https://localhost:8080/"
        },
        "outputId": "cc9c16ed-d1f2-4d25-8866-7c1a9945c3c9"
      },
      "execution_count": null,
      "outputs": [
        {
          "output_type": "stream",
          "name": "stdout",
          "text": [
            "6 1\n"
          ]
        }
      ]
    },
    {
      "cell_type": "code",
      "source": [
        "# any all\n",
        "\n",
        "# True Values definintion\n",
        "\n",
        "# 1. Non Zero\n",
        "# 2. Non empty string\n",
        "# 3. False\n",
        "\n",
        "data = (1, 2, 3, '')\n",
        "print(all(data))\n",
        "\n",
        "print(any(data))\n"
      ],
      "metadata": {
        "id": "r_sCt-ZdPcVQ",
        "colab": {
          "base_uri": "https://localhost:8080/"
        },
        "outputId": "12de0d98-da1e-43e5-fef9-cde301fa6f9a"
      },
      "execution_count": null,
      "outputs": [
        {
          "output_type": "stream",
          "name": "stdout",
          "text": [
            "False\n",
            "True\n"
          ]
        }
      ]
    },
    {
      "cell_type": "markdown",
      "source": [
        "### Indexing - Same as list"
      ],
      "metadata": {
        "id": "woLnGtqQPZ2g"
      }
    },
    {
      "cell_type": "markdown",
      "source": [
        "### Adding Values. \n",
        "\n",
        "Unlike list, Tuple are immutable -> we cant change the values once defined. "
      ],
      "metadata": {
        "id": "11zJPNX4SPAZ"
      }
    },
    {
      "cell_type": "code",
      "source": [
        "val = (1, 2, 3, 4)\n"
      ],
      "metadata": {
        "id": "1faB5onhvHFY"
      },
      "execution_count": null,
      "outputs": []
    },
    {
      "cell_type": "code",
      "source": [
        "dir(val)"
      ],
      "metadata": {
        "colab": {
          "base_uri": "https://localhost:8080/"
        },
        "id": "RjvQEbnkzvoh",
        "outputId": "03bf737a-f493-496d-d345-b11b8432eda3"
      },
      "execution_count": null,
      "outputs": [
        {
          "output_type": "execute_result",
          "data": {
            "text/plain": [
              "['__add__',\n",
              " '__class__',\n",
              " '__contains__',\n",
              " '__delattr__',\n",
              " '__dir__',\n",
              " '__doc__',\n",
              " '__eq__',\n",
              " '__format__',\n",
              " '__ge__',\n",
              " '__getattribute__',\n",
              " '__getitem__',\n",
              " '__getnewargs__',\n",
              " '__gt__',\n",
              " '__hash__',\n",
              " '__init__',\n",
              " '__init_subclass__',\n",
              " '__iter__',\n",
              " '__le__',\n",
              " '__len__',\n",
              " '__lt__',\n",
              " '__mul__',\n",
              " '__ne__',\n",
              " '__new__',\n",
              " '__reduce__',\n",
              " '__reduce_ex__',\n",
              " '__repr__',\n",
              " '__rmul__',\n",
              " '__setattr__',\n",
              " '__sizeof__',\n",
              " '__str__',\n",
              " '__subclasshook__',\n",
              " 'count',\n",
              " 'index']"
            ]
          },
          "metadata": {},
          "execution_count": 10
        }
      ]
    },
    {
      "cell_type": "code",
      "source": [
        "hash(val)"
      ],
      "metadata": {
        "colab": {
          "base_uri": "https://localhost:8080/"
        },
        "id": "ivzCVWYHz0Tw",
        "outputId": "fecf15fe-c205-401e-ed01-4a96fdf88daf"
      },
      "execution_count": null,
      "outputs": [
        {
          "output_type": "execute_result",
          "data": {
            "text/plain": [
              "590899387183067792"
            ]
          },
          "metadata": {},
          "execution_count": 13
        }
      ]
    },
    {
      "cell_type": "code",
      "source": [
        "l = [ 'a', 'b', 'c', 'd']\n",
        "val = (1, 2, 3, 4 , l)\n",
        "print(val)"
      ],
      "metadata": {
        "id": "ESL8PAEOwy43",
        "colab": {
          "base_uri": "https://localhost:8080/"
        },
        "outputId": "4e7aaf21-d8a3-4708-c3ee-8c688f52cde5"
      },
      "execution_count": null,
      "outputs": [
        {
          "output_type": "stream",
          "name": "stdout",
          "text": [
            "(1, 2, 3, 4, ['a', 'b', 'c', 'd'])\n"
          ]
        }
      ]
    },
    {
      "cell_type": "code",
      "source": [
        "val[-1].append('e')\n",
        "val"
      ],
      "metadata": {
        "colab": {
          "base_uri": "https://localhost:8080/"
        },
        "id": "Uca5z0bl0Rjq",
        "outputId": "6221adf4-a435-44fc-cad0-d50736827b04"
      },
      "execution_count": null,
      "outputs": [
        {
          "output_type": "execute_result",
          "data": {
            "text/plain": [
              "(1, 2, 3, 4, ['a', 'b', 'c', 'd', 'e'])"
            ]
          },
          "metadata": {},
          "execution_count": 15
        }
      ]
    },
    {
      "cell_type": "code",
      "source": [
        "id(l)\n",
        "for i in range(0, 10):\n",
        "  l.append(i)\n",
        "  print(id(l))"
      ],
      "metadata": {
        "colab": {
          "base_uri": "https://localhost:8080/"
        },
        "id": "BxxdA1qP0izH",
        "outputId": "50e10e13-deb8-4193-c8f6-bd5384bd0769"
      },
      "execution_count": null,
      "outputs": [
        {
          "output_type": "stream",
          "name": "stdout",
          "text": [
            "139963698513920\n",
            "139963698513920\n",
            "139963698513920\n",
            "139963698513920\n",
            "139963698513920\n",
            "139963698513920\n",
            "139963698513920\n",
            "139963698513920\n",
            "139963698513920\n",
            "139963698513920\n"
          ]
        }
      ]
    },
    {
      "cell_type": "markdown",
      "source": [
        "### Delete"
      ],
      "metadata": {
        "id": "mMfBcZ-KyRFS"
      }
    },
    {
      "cell_type": "code",
      "source": [],
      "metadata": {
        "id": "E7pTQFjx0QzY"
      },
      "execution_count": null,
      "outputs": []
    },
    {
      "cell_type": "code",
      "source": [
        "fruits = ('apple', 'orange', 'banana')\n",
        "del fruits\n",
        "print(fruits)"
      ],
      "metadata": {
        "id": "POmVKUVHxh4_",
        "colab": {
          "base_uri": "https://localhost:8080/",
          "height": 202
        },
        "outputId": "a4c43d58-b50b-4e5c-d410-c4ce14f3375d"
      },
      "execution_count": null,
      "outputs": [
        {
          "output_type": "error",
          "ename": "NameError",
          "evalue": "ignored",
          "traceback": [
            "\u001b[0;31m---------------------------------------------------------------------------\u001b[0m",
            "\u001b[0;31mNameError\u001b[0m                                 Traceback (most recent call last)",
            "\u001b[0;32m<ipython-input-18-b9eebaa71d83>\u001b[0m in \u001b[0;36m<module>\u001b[0;34m\u001b[0m\n\u001b[1;32m      1\u001b[0m \u001b[0mfruits\u001b[0m \u001b[0;34m=\u001b[0m \u001b[0;34m(\u001b[0m\u001b[0;34m'apple'\u001b[0m\u001b[0;34m,\u001b[0m \u001b[0;34m'orange'\u001b[0m\u001b[0;34m,\u001b[0m \u001b[0;34m'banana'\u001b[0m\u001b[0;34m)\u001b[0m\u001b[0;34m\u001b[0m\u001b[0;34m\u001b[0m\u001b[0m\n\u001b[1;32m      2\u001b[0m \u001b[0;32mdel\u001b[0m \u001b[0mfruits\u001b[0m\u001b[0;34m\u001b[0m\u001b[0;34m\u001b[0m\u001b[0m\n\u001b[0;32m----> 3\u001b[0;31m \u001b[0mprint\u001b[0m\u001b[0;34m(\u001b[0m\u001b[0mfruits\u001b[0m\u001b[0;34m)\u001b[0m\u001b[0;34m\u001b[0m\u001b[0;34m\u001b[0m\u001b[0m\n\u001b[0m",
            "\u001b[0;31mNameError\u001b[0m: name 'fruits' is not defined"
          ]
        }
      ]
    },
    {
      "cell_type": "code",
      "source": [
        "d = ()\n",
        "type(d)"
      ],
      "metadata": {
        "colab": {
          "base_uri": "https://localhost:8080/"
        },
        "id": "jHglEs6F3qO1",
        "outputId": "e118ef2e-c0b9-4847-d15a-ed377afae289"
      },
      "execution_count": null,
      "outputs": [
        {
          "output_type": "execute_result",
          "data": {
            "text/plain": [
              "tuple"
            ]
          },
          "metadata": {},
          "execution_count": 38
        }
      ]
    },
    {
      "cell_type": "code",
      "source": [
        "d = (1,)\n",
        "type(d)"
      ],
      "metadata": {
        "colab": {
          "base_uri": "https://localhost:8080/"
        },
        "id": "ofpR0XEE3tcN",
        "outputId": "7e7ec72d-2320-47d7-b3a7-241b558a4f2c"
      },
      "execution_count": null,
      "outputs": [
        {
          "output_type": "execute_result",
          "data": {
            "text/plain": [
              "tuple"
            ]
          },
          "metadata": {},
          "execution_count": 40
        }
      ]
    },
    {
      "cell_type": "markdown",
      "source": [
        "## Sets\n",
        "\n",
        "https://www.youtube.com/watch?v=hCR2giEgRSc&list=PLiutOxBS1MiyJp_7OAkHz_isdWPa5rYvl&index=1\n",
        "\n"
      ],
      "metadata": {
        "id": "VIt0jFSZzJu7"
      }
    },
    {
      "cell_type": "markdown",
      "source": [
        "A set is a collection which is unordered, unchangeable*, and unindexed."
      ],
      "metadata": {
        "id": "L4m9J2hIzN84"
      }
    },
    {
      "cell_type": "markdown",
      "source": [
        "### Declaring"
      ],
      "metadata": {
        "id": "x2J0hlfrzRp6"
      }
    },
    {
      "cell_type": "code",
      "source": [
        "# {} curly brackets\n",
        "data = { 1, 2, 3, 4, 5}\n",
        "print(data)"
      ],
      "metadata": {
        "id": "RAMYJc74yUDO",
        "colab": {
          "base_uri": "https://localhost:8080/"
        },
        "outputId": "c4ca960e-0b86-4ab7-9748-419247ebd903"
      },
      "execution_count": null,
      "outputs": [
        {
          "output_type": "stream",
          "name": "stdout",
          "text": [
            "{1, 2, 3, 4, 5}\n"
          ]
        }
      ]
    },
    {
      "cell_type": "code",
      "source": [
        "# set \n",
        "data = set((1, 2, 3, 4, 5, 5))\n",
        "print(data)"
      ],
      "metadata": {
        "id": "sxM5H9SozZqb",
        "colab": {
          "base_uri": "https://localhost:8080/"
        },
        "outputId": "4f8857bb-c0a5-4cfb-ea65-d517aac3378c"
      },
      "execution_count": null,
      "outputs": [
        {
          "output_type": "stream",
          "name": "stdout",
          "text": [
            "{1, 2, 3, 4, 5}\n"
          ]
        }
      ]
    },
    {
      "cell_type": "code",
      "source": [
        "data = set((1, 2, 3, 4, 5, 5)) # built on top of hash method\n",
        "print(data)"
      ],
      "metadata": {
        "colab": {
          "base_uri": "https://localhost:8080/"
        },
        "id": "Vu4JzWtI1bAY",
        "outputId": "9e67c22c-44f3-432c-b029-2d439c59e7f6"
      },
      "execution_count": null,
      "outputs": [
        {
          "output_type": "stream",
          "name": "stdout",
          "text": [
            "{1, 2, 3, 4, 5}\n"
          ]
        }
      ]
    },
    {
      "cell_type": "markdown",
      "source": [
        "### Builtins"
      ],
      "metadata": {
        "id": "Bo_9G0fQzvFj"
      }
    },
    {
      "cell_type": "code",
      "source": [
        "# len\n",
        "data = { 1, 2, 3, 4, 5}\n",
        "print(len(data))"
      ],
      "metadata": {
        "id": "Bs-YKH8azrx6",
        "colab": {
          "base_uri": "https://localhost:8080/"
        },
        "outputId": "983e8e95-e1d6-44a1-ee7e-f2a9eb64703e"
      },
      "execution_count": null,
      "outputs": [
        {
          "output_type": "stream",
          "name": "stdout",
          "text": [
            "5\n"
          ]
        }
      ]
    },
    {
      "cell_type": "code",
      "source": [
        "# max and min\n",
        "data = { 1, 2, 3, 4, 5}\n",
        "print(max(data), min(data))"
      ],
      "metadata": {
        "id": "hRvtnGt_z004",
        "colab": {
          "base_uri": "https://localhost:8080/"
        },
        "outputId": "a6b904cf-1a35-4608-de3f-bdeb7abad176"
      },
      "execution_count": null,
      "outputs": [
        {
          "output_type": "stream",
          "name": "stdout",
          "text": [
            "5 1\n"
          ]
        }
      ]
    },
    {
      "cell_type": "code",
      "source": [
        "# any all\n",
        "\n",
        "# True Values definintion\n",
        "\n",
        "# 1. Non Zero\n",
        "# 2. Non empty string\n",
        "# 3. False\n",
        "\n",
        "data = {1, 2, 3, ''}\n",
        "print(all(data))\n",
        "\n",
        "print(any(data))\n"
      ],
      "metadata": {
        "id": "ioapIgJa0Jlf",
        "colab": {
          "base_uri": "https://localhost:8080/"
        },
        "outputId": "c8168720-58ea-4459-d6b4-d02f43d4307c"
      },
      "execution_count": null,
      "outputs": [
        {
          "output_type": "stream",
          "name": "stdout",
          "text": [
            "False\n",
            "True\n"
          ]
        }
      ]
    },
    {
      "cell_type": "code",
      "source": [
        "# not maintaining order\n",
        "data = { 'b', 1, 2, 3, 4, 5, 6, 7, 8, 9 , 10, 'a'}\n",
        "for i in range(10):\n",
        "  print(data)"
      ],
      "metadata": {
        "colab": {
          "base_uri": "https://localhost:8080/"
        },
        "id": "hcpEftlf2BS4",
        "outputId": "60e57b17-62f8-4d08-d7ea-7b11665dc463"
      },
      "execution_count": null,
      "outputs": [
        {
          "output_type": "stream",
          "name": "stdout",
          "text": [
            "{1, 2, 3, 4, 5, 6, 7, 8, 9, 10, 'a', 'b'}\n",
            "{1, 2, 3, 4, 5, 6, 7, 8, 9, 10, 'a', 'b'}\n",
            "{1, 2, 3, 4, 5, 6, 7, 8, 9, 10, 'a', 'b'}\n",
            "{1, 2, 3, 4, 5, 6, 7, 8, 9, 10, 'a', 'b'}\n",
            "{1, 2, 3, 4, 5, 6, 7, 8, 9, 10, 'a', 'b'}\n",
            "{1, 2, 3, 4, 5, 6, 7, 8, 9, 10, 'a', 'b'}\n",
            "{1, 2, 3, 4, 5, 6, 7, 8, 9, 10, 'a', 'b'}\n",
            "{1, 2, 3, 4, 5, 6, 7, 8, 9, 10, 'a', 'b'}\n",
            "{1, 2, 3, 4, 5, 6, 7, 8, 9, 10, 'a', 'b'}\n",
            "{1, 2, 3, 4, 5, 6, 7, 8, 9, 10, 'a', 'b'}\n"
          ]
        }
      ]
    },
    {
      "cell_type": "markdown",
      "source": [
        "### Adding values"
      ],
      "metadata": {
        "id": "vbIdXjHg1XIr"
      }
    },
    {
      "cell_type": "code",
      "source": [
        "# add method\n",
        "fruits = {\"apple\", \"orange\", \"lemon\", \"mango\", \"banana\"}\n",
        "fruits.add(\"pineapple\")\n",
        "print(fruits)\n",
        "\n"
      ],
      "metadata": {
        "id": "Wu0R0vp20tBe",
        "colab": {
          "base_uri": "https://localhost:8080/"
        },
        "outputId": "2143c6eb-c71e-4528-c498-c785992e40ad"
      },
      "execution_count": null,
      "outputs": [
        {
          "output_type": "stream",
          "name": "stdout",
          "text": [
            "{'apple', 'lemon', 'orange', 'mango', 'banana', 'pineapple'}\n"
          ]
        }
      ]
    },
    {
      "cell_type": "code",
      "source": [
        "\n",
        "# update\n",
        "fruits = {\"apple\", \"orange\", \"lemon\", \"mango\", \"banana\"}\n",
        "\n",
        "fruits.update([1, 2, 3 ])\n",
        "print(fruits)\n",
        "\n"
      ],
      "metadata": {
        "id": "jtvw6eX-2FAf",
        "colab": {
          "base_uri": "https://localhost:8080/"
        },
        "outputId": "0a6307a5-d165-4dd8-8ce2-f6dc221a582f"
      },
      "execution_count": null,
      "outputs": [
        {
          "output_type": "stream",
          "name": "stdout",
          "text": [
            "{1, 'apple', 2, 3, 'lemon', 'orange', 'mango', 'banana'}\n"
          ]
        }
      ]
    },
    {
      "cell_type": "code",
      "source": [
        "fruits = {\"apple\", \"orange\", \"lemon\", \"mango\", \"banana\"}\n",
        "fruits.update((1, 2, 3))\n",
        "print(fruits)\n",
        "\n",
        "fruits = {\"apple\", \"orange\", \"lemon\", \"mango\", \"banana\"}\n",
        "fruits.update({1:2, 3:4, 5:6})\n",
        "print(fruits)\n",
        "\n",
        "fruits = {\"apple\", \"orange\", \"lemon\", \"mango\", \"banana\"}\n",
        "fruits.update((123,))\n",
        "print(fruits)\n",
        "\n",
        "fruits = {\"apple\", \"orange\", \"lemon\", \"mango\", \"banana\"}\n",
        "fruits.update({1, 2, 3, 3, 4, 5, 7, 8, 9})\n",
        "print(fruits)"
      ],
      "metadata": {
        "colab": {
          "base_uri": "https://localhost:8080/"
        },
        "id": "84-jSOS-2tQQ",
        "outputId": "6b624229-fe40-42b8-d3fd-ad469fca40ac"
      },
      "execution_count": null,
      "outputs": [
        {
          "output_type": "stream",
          "name": "stdout",
          "text": [
            "{1, 'apple', 2, 3, 'lemon', 'orange', 'mango', 'banana'}\n",
            "{1, 'apple', 3, 5, 'lemon', 'orange', 'mango', 'banana'}\n",
            "{'apple', 'lemon', 'orange', 'mango', 'banana', 123}\n",
            "{1, 'apple', 2, 3, 4, 5, 7, 'lemon', 8, 9, 'orange', 'mango', 'banana'}\n"
          ]
        }
      ]
    },
    {
      "cell_type": "markdown",
      "source": [
        "### Delete"
      ],
      "metadata": {
        "id": "1aL-No0F2TN7"
      }
    },
    {
      "cell_type": "code",
      "source": [
        "fruits = {\"apple\", \"orange\", \"lemon\", \"banana\", \"papaya\"}\n",
        "fruits.remove(\"orange\")\n",
        "print(fruits)\n",
        "\n"
      ],
      "metadata": {
        "id": "xoFUAEe62Hae",
        "colab": {
          "base_uri": "https://localhost:8080/"
        },
        "outputId": "c431b02c-2b46-4292-8588-5b9c52833c80"
      },
      "execution_count": null,
      "outputs": [
        {
          "output_type": "stream",
          "name": "stdout",
          "text": [
            "{'apple', 'lemon', 'papaya', 'banana'}\n"
          ]
        }
      ]
    },
    {
      "cell_type": "code",
      "source": [
        "fruits = {\"apple\", \"orange\", \"lemon\", \"banana\", \"papaya\"}\n",
        "fruits.remove(\"pineapple\")\n",
        "fruits\n"
      ],
      "metadata": {
        "id": "pNY25ecR2k9X",
        "colab": {
          "base_uri": "https://localhost:8080/",
          "height": 202
        },
        "outputId": "ec8ab34e-1d15-40ab-bd01-e6dab34594f6"
      },
      "execution_count": null,
      "outputs": [
        {
          "output_type": "error",
          "ename": "KeyError",
          "evalue": "ignored",
          "traceback": [
            "\u001b[0;31m---------------------------------------------------------------------------\u001b[0m",
            "\u001b[0;31mKeyError\u001b[0m                                  Traceback (most recent call last)",
            "\u001b[0;32m<ipython-input-44-9b504b7fe6f4>\u001b[0m in \u001b[0;36m<module>\u001b[0;34m\u001b[0m\n\u001b[1;32m      1\u001b[0m \u001b[0mfruits\u001b[0m \u001b[0;34m=\u001b[0m \u001b[0;34m{\u001b[0m\u001b[0;34m\"apple\"\u001b[0m\u001b[0;34m,\u001b[0m \u001b[0;34m\"orange\"\u001b[0m\u001b[0;34m,\u001b[0m \u001b[0;34m\"lemon\"\u001b[0m\u001b[0;34m,\u001b[0m \u001b[0;34m\"banana\"\u001b[0m\u001b[0;34m,\u001b[0m \u001b[0;34m\"papaya\"\u001b[0m\u001b[0;34m}\u001b[0m\u001b[0;34m\u001b[0m\u001b[0;34m\u001b[0m\u001b[0m\n\u001b[0;32m----> 2\u001b[0;31m \u001b[0mfruits\u001b[0m\u001b[0;34m.\u001b[0m\u001b[0mremove\u001b[0m\u001b[0;34m(\u001b[0m\u001b[0;34m\"pineapple\"\u001b[0m\u001b[0;34m)\u001b[0m\u001b[0;34m\u001b[0m\u001b[0;34m\u001b[0m\u001b[0m\n\u001b[0m\u001b[1;32m      3\u001b[0m \u001b[0mfruits\u001b[0m\u001b[0;34m\u001b[0m\u001b[0;34m\u001b[0m\u001b[0m\n",
            "\u001b[0;31mKeyError\u001b[0m: 'pineapple'"
          ]
        }
      ]
    },
    {
      "cell_type": "code",
      "source": [
        "fruits = {\"apple\", \"orange\", \"lemon\", \"banana\", \"papaya\"}\n",
        "fruits.discard(\"pineapple\")\n",
        "print(fruits)\n",
        "\n"
      ],
      "metadata": {
        "id": "cMRz_j6C2w6V",
        "colab": {
          "base_uri": "https://localhost:8080/"
        },
        "outputId": "09da164f-4ef6-4254-c0fa-0402ed5facfc"
      },
      "execution_count": null,
      "outputs": [
        {
          "output_type": "stream",
          "name": "stdout",
          "text": [
            "{'apple', 'lemon', 'orange', 'papaya', 'banana'}\n"
          ]
        }
      ]
    },
    {
      "cell_type": "code",
      "source": [
        "# pop\n",
        "fruits = {\"apple\", \"orange\", \"lemon\", \"banana\", \"papaya\"}\n",
        "print(fruits)\n",
        "removed_element = fruits.pop()\n",
        "print(fruits, removed_element)\n"
      ],
      "metadata": {
        "id": "oSm603b0269w",
        "colab": {
          "base_uri": "https://localhost:8080/"
        },
        "outputId": "30818c09-2b21-44b2-b98b-41b5b2c56e1b"
      },
      "execution_count": null,
      "outputs": [
        {
          "output_type": "stream",
          "name": "stdout",
          "text": [
            "{'apple', 'lemon', 'orange', 'papaya', 'banana'}\n",
            "{'lemon', 'orange', 'papaya', 'banana'} apple\n"
          ]
        }
      ]
    },
    {
      "cell_type": "code",
      "source": [
        "# del\n",
        "fruits = {\"apple\", \"orange\", \"lemon\", \"banana\", \"papaya\"}\n",
        "del fruits\n",
        "print(fruits)"
      ],
      "metadata": {
        "id": "o88oVT-m3D56",
        "colab": {
          "base_uri": "https://localhost:8080/",
          "height": 202
        },
        "outputId": "d439dee6-0d99-46a4-890e-5a41f53d0b6e"
      },
      "execution_count": null,
      "outputs": [
        {
          "output_type": "error",
          "ename": "NameError",
          "evalue": "ignored",
          "traceback": [
            "\u001b[0;31m---------------------------------------------------------------------------\u001b[0m",
            "\u001b[0;31mNameError\u001b[0m                                 Traceback (most recent call last)",
            "\u001b[0;32m<ipython-input-57-63c0a4149c00>\u001b[0m in \u001b[0;36m<module>\u001b[0;34m\u001b[0m\n\u001b[1;32m      2\u001b[0m \u001b[0mfruits\u001b[0m \u001b[0;34m=\u001b[0m \u001b[0;34m{\u001b[0m\u001b[0;34m\"apple\"\u001b[0m\u001b[0;34m,\u001b[0m \u001b[0;34m\"orange\"\u001b[0m\u001b[0;34m,\u001b[0m \u001b[0;34m\"lemon\"\u001b[0m\u001b[0;34m,\u001b[0m \u001b[0;34m\"banana\"\u001b[0m\u001b[0;34m,\u001b[0m \u001b[0;34m\"papaya\"\u001b[0m\u001b[0;34m}\u001b[0m\u001b[0;34m\u001b[0m\u001b[0;34m\u001b[0m\u001b[0m\n\u001b[1;32m      3\u001b[0m \u001b[0;32mdel\u001b[0m \u001b[0mfruits\u001b[0m\u001b[0;34m\u001b[0m\u001b[0;34m\u001b[0m\u001b[0m\n\u001b[0;32m----> 4\u001b[0;31m \u001b[0mprint\u001b[0m\u001b[0;34m(\u001b[0m\u001b[0mfruits\u001b[0m\u001b[0;34m)\u001b[0m\u001b[0;34m\u001b[0m\u001b[0;34m\u001b[0m\u001b[0m\n\u001b[0m",
            "\u001b[0;31mNameError\u001b[0m: name 'fruits' is not defined"
          ]
        }
      ]
    },
    {
      "cell_type": "code",
      "source": [
        "fruits = {\"apple\", \"orange\", \"lemon\", \"banana\", \"papaya\"}\n",
        "fruits.clear()\n",
        "fruits"
      ],
      "metadata": {
        "id": "hrrBo2UP24BU",
        "colab": {
          "base_uri": "https://localhost:8080/"
        },
        "outputId": "51dafcd3-7dc7-4283-d854-d5aea46290d8"
      },
      "execution_count": null,
      "outputs": [
        {
          "output_type": "execute_result",
          "data": {
            "text/plain": [
              "set()"
            ]
          },
          "metadata": {},
          "execution_count": 59
        }
      ]
    },
    {
      "cell_type": "markdown",
      "source": [
        "## Dict"
      ],
      "metadata": {
        "id": "ToqdrZviVeBz"
      }
    },
    {
      "cell_type": "markdown",
      "source": [
        "### Declaring"
      ],
      "metadata": {
        "id": "TPzSVnHSVh5d"
      }
    },
    {
      "cell_type": "code",
      "source": [
        "# Using curly bracket: Combination of key value pair\n",
        "d = {}"
      ],
      "metadata": {
        "id": "CY9Y3Cye3JrB"
      },
      "execution_count": null,
      "outputs": []
    },
    {
      "cell_type": "code",
      "source": [],
      "metadata": {
        "id": "GfjhFfHy45LH"
      },
      "execution_count": null,
      "outputs": []
    },
    {
      "cell_type": "code",
      "source": [
        "dir(dict)"
      ],
      "metadata": {
        "id": "naaHfIPFVuvx",
        "colab": {
          "base_uri": "https://localhost:8080/"
        },
        "outputId": "0b4d3a8b-9ff4-46c7-ed99-ba95360f5b6c"
      },
      "execution_count": null,
      "outputs": [
        {
          "output_type": "execute_result",
          "data": {
            "text/plain": [
              "['__class__',\n",
              " '__contains__',\n",
              " '__delattr__',\n",
              " '__delitem__',\n",
              " '__dir__',\n",
              " '__doc__',\n",
              " '__eq__',\n",
              " '__format__',\n",
              " '__ge__',\n",
              " '__getattribute__',\n",
              " '__getitem__',\n",
              " '__gt__',\n",
              " '__hash__',\n",
              " '__init__',\n",
              " '__init_subclass__',\n",
              " '__iter__',\n",
              " '__le__',\n",
              " '__len__',\n",
              " '__lt__',\n",
              " '__ne__',\n",
              " '__new__',\n",
              " '__reduce__',\n",
              " '__reduce_ex__',\n",
              " '__repr__',\n",
              " '__reversed__',\n",
              " '__setattr__',\n",
              " '__setitem__',\n",
              " '__sizeof__',\n",
              " '__str__',\n",
              " '__subclasshook__',\n",
              " 'clear',\n",
              " 'copy',\n",
              " 'fromkeys',\n",
              " 'get',\n",
              " 'items',\n",
              " 'keys',\n",
              " 'pop',\n",
              " 'popitem',\n",
              " 'setdefault',\n",
              " 'update',\n",
              " 'values']"
            ]
          },
          "metadata": {},
          "execution_count": 61
        }
      ]
    },
    {
      "cell_type": "code",
      "source": [
        "cities = ('Paris','Athens', 'Madrid')\n",
        "dict.fromkeys(cities)"
      ],
      "metadata": {
        "id": "TWY8CjxEV3Ur",
        "colab": {
          "base_uri": "https://localhost:8080/"
        },
        "outputId": "99ef7de8-66ff-4312-878a-d43764a52eb2"
      },
      "execution_count": null,
      "outputs": [
        {
          "output_type": "execute_result",
          "data": {
            "text/plain": [
              "{'Paris': None, 'Athens': None, 'Madrid': None}"
            ]
          },
          "metadata": {},
          "execution_count": 62
        }
      ]
    },
    {
      "cell_type": "code",
      "source": [
        "cities = ('Paris','Athens', 'Madrid')\n",
        "continent = 'Europe'\n",
        "dict.fromkeys(cities, continent)\n"
      ],
      "metadata": {
        "id": "LRXxXSV3WxuE",
        "colab": {
          "base_uri": "https://localhost:8080/"
        },
        "outputId": "5d5eee51-9fec-4798-d6a9-f04e044cf6c2"
      },
      "execution_count": null,
      "outputs": [
        {
          "output_type": "execute_result",
          "data": {
            "text/plain": [
              "{'Paris': 'Europe', 'Athens': 'Europe', 'Madrid': 'Europe'}"
            ]
          },
          "metadata": {},
          "execution_count": 63
        }
      ]
    },
    {
      "cell_type": "code",
      "source": [
        "dict([(1, 100), (2, 200)])"
      ],
      "metadata": {
        "id": "FPhjkeo7Xj-3",
        "colab": {
          "base_uri": "https://localhost:8080/"
        },
        "outputId": "c5a8aa52-79e6-497f-aff0-f5fb01e590a4"
      },
      "execution_count": null,
      "outputs": [
        {
          "output_type": "execute_result",
          "data": {
            "text/plain": [
              "{1: 100, 2: 200}"
            ]
          },
          "metadata": {},
          "execution_count": 64
        }
      ]
    },
    {
      "cell_type": "markdown",
      "source": [
        "### Accessing Elements. "
      ],
      "metadata": {
        "id": "tchG78f5X0S-"
      }
    },
    {
      "cell_type": "code",
      "source": [
        "my_dict = {1: 'Python', 2:'Git', 3:'DSA'}\n",
        "print(my_dict)"
      ],
      "metadata": {
        "id": "-xT5dlfqXvdl",
        "colab": {
          "base_uri": "https://localhost:8080/"
        },
        "outputId": "4c227ac5-b601-4c48-e55c-882d3fe2302a"
      },
      "execution_count": null,
      "outputs": [
        {
          "output_type": "stream",
          "name": "stdout",
          "text": [
            "{1: 'Python', 2: 'Git', 3: 'DSA'}\n"
          ]
        }
      ]
    },
    {
      "cell_type": "code",
      "source": [
        "my_dict[1]"
      ],
      "metadata": {
        "collapsed": true,
        "id": "HUyYcW-jX_qu",
        "colab": {
          "base_uri": "https://localhost:8080/",
          "height": 35
        },
        "outputId": "a6aa0f03-acc6-43bc-a246-043435a12228"
      },
      "execution_count": null,
      "outputs": [
        {
          "output_type": "execute_result",
          "data": {
            "text/plain": [
              "'Python'"
            ],
            "application/vnd.google.colaboratory.intrinsic+json": {
              "type": "string"
            }
          },
          "metadata": {},
          "execution_count": 66
        }
      ]
    },
    {
      "cell_type": "code",
      "source": [
        "my_dict[4]"
      ],
      "metadata": {
        "id": "es--093TYBkl",
        "colab": {
          "base_uri": "https://localhost:8080/",
          "height": 167
        },
        "outputId": "467044d7-1077-4a10-c5bf-ca4346b3f517"
      },
      "execution_count": null,
      "outputs": [
        {
          "output_type": "error",
          "ename": "KeyError",
          "evalue": "ignored",
          "traceback": [
            "\u001b[0;31m---------------------------------------------------------------------------\u001b[0m",
            "\u001b[0;31mKeyError\u001b[0m                                  Traceback (most recent call last)",
            "\u001b[0;32m<ipython-input-67-d745b8ff035a>\u001b[0m in \u001b[0;36m<module>\u001b[0;34m\u001b[0m\n\u001b[0;32m----> 1\u001b[0;31m \u001b[0mmy_dict\u001b[0m\u001b[0;34m[\u001b[0m\u001b[0;36m4\u001b[0m\u001b[0;34m]\u001b[0m\u001b[0;34m\u001b[0m\u001b[0;34m\u001b[0m\u001b[0m\n\u001b[0m",
            "\u001b[0;31mKeyError\u001b[0m: 4"
          ]
        }
      ]
    },
    {
      "cell_type": "code",
      "source": [
        "res = my_dict.get(4)\n",
        "print(res)"
      ],
      "metadata": {
        "id": "kv-rsKAwYFEB",
        "colab": {
          "base_uri": "https://localhost:8080/"
        },
        "outputId": "f3419d30-9262-4c31-d8ca-d82dcead64b0"
      },
      "execution_count": null,
      "outputs": [
        {
          "output_type": "stream",
          "name": "stdout",
          "text": [
            "None\n"
          ]
        }
      ]
    },
    {
      "cell_type": "code",
      "source": [
        "my_dict = {1: 'Python', 2:'Git', 3:'DSA'}\n",
        "my_dict[4] = 'Shell'"
      ],
      "metadata": {
        "id": "qHAyTBQq5VvA"
      },
      "execution_count": null,
      "outputs": []
    },
    {
      "cell_type": "code",
      "source": [
        "my_dict"
      ],
      "metadata": {
        "colab": {
          "base_uri": "https://localhost:8080/"
        },
        "id": "3ut31-i15sTA",
        "outputId": "3512fda7-fdea-478e-edcb-64b817fe9bef"
      },
      "execution_count": null,
      "outputs": [
        {
          "output_type": "execute_result",
          "data": {
            "text/plain": [
              "{1: 'Python', 2: 'Git', 3: 'DSA', 4: 'Shell'}"
            ]
          },
          "metadata": {},
          "execution_count": 71
        }
      ]
    },
    {
      "cell_type": "code",
      "source": [
        "del my_dict[1]"
      ],
      "metadata": {
        "id": "Gy8Xs2e45tcW"
      },
      "execution_count": null,
      "outputs": []
    },
    {
      "cell_type": "code",
      "source": [
        "my_dict"
      ],
      "metadata": {
        "colab": {
          "base_uri": "https://localhost:8080/"
        },
        "id": "-xGPZDvn5xGV",
        "outputId": "16d4f8cc-79fc-479f-9fa2-6097422f6a86"
      },
      "execution_count": null,
      "outputs": [
        {
          "output_type": "execute_result",
          "data": {
            "text/plain": [
              "{2: 'Git', 3: 'DSA', 4: 'Shell'}"
            ]
          },
          "metadata": {},
          "execution_count": 73
        }
      ]
    },
    {
      "cell_type": "code",
      "source": [
        "my_dict[2] = 'Angular'\n",
        "my_dict"
      ],
      "metadata": {
        "colab": {
          "base_uri": "https://localhost:8080/"
        },
        "id": "yrKLAGy65y2b",
        "outputId": "f950612a-c509-4dea-c98e-bbbcafd60068"
      },
      "execution_count": null,
      "outputs": [
        {
          "output_type": "execute_result",
          "data": {
            "text/plain": [
              "{2: 'Angular', 3: 'DSA', 4: 'Shell'}"
            ]
          },
          "metadata": {},
          "execution_count": 74
        }
      ]
    },
    {
      "cell_type": "code",
      "source": [
        "del my_dict"
      ],
      "metadata": {
        "id": "qRcxolc154zx"
      },
      "execution_count": null,
      "outputs": []
    },
    {
      "cell_type": "code",
      "source": [
        "my_dict"
      ],
      "metadata": {
        "colab": {
          "base_uri": "https://localhost:8080/",
          "height": 167
        },
        "id": "1wB4AHhj59jD",
        "outputId": "d357781f-785e-40cb-b8bc-bcb5e0c70f56"
      },
      "execution_count": null,
      "outputs": [
        {
          "output_type": "error",
          "ename": "NameError",
          "evalue": "ignored",
          "traceback": [
            "\u001b[0;31m---------------------------------------------------------------------------\u001b[0m",
            "\u001b[0;31mNameError\u001b[0m                                 Traceback (most recent call last)",
            "\u001b[0;32m<ipython-input-76-23f353dd2d1f>\u001b[0m in \u001b[0;36m<module>\u001b[0;34m\u001b[0m\n\u001b[0;32m----> 1\u001b[0;31m \u001b[0mmy_dict\u001b[0m\u001b[0;34m\u001b[0m\u001b[0;34m\u001b[0m\u001b[0m\n\u001b[0m",
            "\u001b[0;31mNameError\u001b[0m: name 'my_dict' is not defined"
          ]
        }
      ]
    },
    {
      "cell_type": "code",
      "source": [
        "def custom_hash(x):\n",
        "  x = str(x) + \"abcd\"\n",
        "  return x"
      ],
      "metadata": {
        "id": "D-YEpdd25-9c"
      },
      "execution_count": null,
      "outputs": []
    },
    {
      "cell_type": "code",
      "source": [
        "custom_hash(5)"
      ],
      "metadata": {
        "colab": {
          "base_uri": "https://localhost:8080/",
          "height": 35
        },
        "id": "2B5jGrSf6iIQ",
        "outputId": "a9142a62-45e5-4788-cd93-b8766477ea29"
      },
      "execution_count": null,
      "outputs": [
        {
          "output_type": "execute_result",
          "data": {
            "text/plain": [
              "'5abcd'"
            ],
            "application/vnd.google.colaboratory.intrinsic+json": {
              "type": "string"
            }
          },
          "metadata": {},
          "execution_count": 78
        }
      ]
    },
    {
      "cell_type": "code",
      "source": [
        "custom_hash(5)"
      ],
      "metadata": {
        "colab": {
          "base_uri": "https://localhost:8080/",
          "height": 35
        },
        "id": "lIcj-qWx6kjD",
        "outputId": "bf95bdf1-13ef-47c1-bcb0-c2fb4359f95d"
      },
      "execution_count": null,
      "outputs": [
        {
          "output_type": "execute_result",
          "data": {
            "text/plain": [
              "'5abcd'"
            ],
            "application/vnd.google.colaboratory.intrinsic+json": {
              "type": "string"
            }
          },
          "metadata": {},
          "execution_count": 79
        }
      ]
    },
    {
      "cell_type": "code",
      "source": [
        "hash(5), id(5)"
      ],
      "metadata": {
        "colab": {
          "base_uri": "https://localhost:8080/"
        },
        "id": "QaFTjTbx6no2",
        "outputId": "5751faac-fb9e-41b7-e42c-895d39c6cfed"
      },
      "execution_count": null,
      "outputs": [
        {
          "output_type": "execute_result",
          "data": {
            "text/plain": [
              "(5, 9793216)"
            ]
          },
          "metadata": {},
          "execution_count": 81
        }
      ]
    },
    {
      "cell_type": "code",
      "source": [],
      "metadata": {
        "id": "KUoXlUa66t4x"
      },
      "execution_count": null,
      "outputs": []
    }
  ]
}