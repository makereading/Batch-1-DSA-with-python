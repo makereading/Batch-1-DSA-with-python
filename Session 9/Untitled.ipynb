{
 "cells": [
  {
   "cell_type": "code",
   "execution_count": 1,
   "id": "479dcdc8",
   "metadata": {},
   "outputs": [],
   "source": [
    "%load_ext nbtutor"
   ]
  },
  {
   "cell_type": "code",
   "execution_count": 7,
   "id": "24061a01",
   "metadata": {},
   "outputs": [
    {
     "name": "stdout",
     "output_type": "stream",
     "text": [
      "Installing /home/syedjafer/Documents/Batch-1-DSA-with-python/venv/lib/python3.10/site-packages/nbtutor/static -> nbtutor\r\n",
      "Traceback (most recent call last):\r\n",
      "  File \"/home/syedjafer/Documents/Batch-1-DSA-with-python/venv/bin/jupyter-nbextension\", line 8, in <module>\r\n",
      "    sys.exit(main())\r\n",
      "  File \"/home/syedjafer/Documents/Batch-1-DSA-with-python/venv/lib/python3.10/site-packages/jupyter_core/application.py\", line 277, in launch_instance\r\n",
      "    return super().launch_instance(argv=argv, **kwargs)\r\n",
      "  File \"/home/syedjafer/Documents/Batch-1-DSA-with-python/venv/lib/python3.10/site-packages/traitlets/config/application.py\", line 1043, in launch_instance\r\n",
      "    app.start()\r\n",
      "  File \"/home/syedjafer/Documents/Batch-1-DSA-with-python/venv/lib/python3.10/site-packages/notebook/nbextensions.py\", line 972, in start\r\n",
      "    super().start()\r\n",
      "  File \"/home/syedjafer/Documents/Batch-1-DSA-with-python/venv/lib/python3.10/site-packages/jupyter_core/application.py\", line 266, in start\r\n",
      "    self.subapp.start()\r\n",
      "  File \"/home/syedjafer/Documents/Batch-1-DSA-with-python/venv/lib/python3.10/site-packages/notebook/nbextensions.py\", line 702, in start\r\n",
      "    self.install_extensions()\r\n",
      "  File \"/home/syedjafer/Documents/Batch-1-DSA-with-python/venv/lib/python3.10/site-packages/notebook/nbextensions.py\", line 675, in install_extensions\r\n",
      "    full_dests = install(self.extra_args[0],\r\n",
      "  File \"/home/syedjafer/Documents/Batch-1-DSA-with-python/venv/lib/python3.10/site-packages/notebook/nbextensions.py\", line 214, in install_nbextension_python\r\n",
      "    full_dest = install_nbextension(\r\n",
      "  File \"/home/syedjafer/Documents/Batch-1-DSA-with-python/venv/lib/python3.10/site-packages/notebook/nbextensions.py\", line 118, in install_nbextension\r\n",
      "    ensure_dir_exists(nbext)\r\n",
      "  File \"/home/syedjafer/Documents/Batch-1-DSA-with-python/venv/lib/python3.10/site-packages/jupyter_core/utils/__init__.py\", line 25, in ensure_dir_exists\r\n",
      "    os.makedirs(path, mode=mode)\r\n",
      "  File \"/usr/lib/python3.10/os.py\", line 215, in makedirs\r\n",
      "    makedirs(head, exist_ok=exist_ok)\r\n",
      "  File \"/usr/lib/python3.10/os.py\", line 225, in makedirs\r\n",
      "    mkdir(name, mode)\r\n",
      "PermissionError: [Errno 13] Permission denied: '/usr/local/share/jupyter'\r\n"
     ]
    }
   ],
   "source": [
    "!jupyter nbextension install --overwrite --py nbtutor"
   ]
  },
  {
   "cell_type": "code",
   "execution_count": 3,
   "id": "06205471",
   "metadata": {},
   "outputs": [],
   "source": [
    "%%nbtutor -r -f\n",
    "def factorial(n):\n",
    "    if n == 1:\n",
    "        return 1\n",
    "    else:\n",
    "        return n * factorial(n-1)\n",
    "\n",
    "factorial(10)"
   ]
  },
  {
   "cell_type": "code",
   "execution_count": null,
   "id": "40f87847",
   "metadata": {},
   "outputs": [],
   "source": []
  }
 ],
 "metadata": {
  "kernelspec": {
   "display_name": "Python 3 (ipykernel)",
   "language": "python",
   "name": "python3"
  },
  "language_info": {
   "codemirror_mode": {
    "name": "ipython",
    "version": 3
   },
   "file_extension": ".py",
   "mimetype": "text/x-python",
   "name": "python",
   "nbconvert_exporter": "python",
   "pygments_lexer": "ipython3",
   "version": "3.10.6"
  }
 },
 "nbformat": 4,
 "nbformat_minor": 5
}
