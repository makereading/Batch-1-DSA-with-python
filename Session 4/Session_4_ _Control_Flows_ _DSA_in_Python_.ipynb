{
  "nbformat": 4,
  "nbformat_minor": 0,
  "metadata": {
    "colab": {
      "provenance": []
    },
    "kernelspec": {
      "name": "python3",
      "display_name": "Python 3"
    },
    "language_info": {
      "name": "python"
    }
  },
  "cells": [
    {
      "cell_type": "markdown",
      "source": [
        "## Flow Control\n",
        "\n",
        "1. Conditional Statements\n",
        "  1. if\n",
        "  2. if-else\n",
        "  3. if-elif-else\n",
        "  4. nested if-else\n",
        "\n",
        "2. Iterative Statements\n",
        "  1. for\n",
        "  2. while\n",
        "\n",
        "3. Transfer Statements\n",
        "  1. break\n",
        "  2. continue\n",
        "  3. pass\n",
        "  "
      ],
      "metadata": {
        "id": "UGNCI3L9J3ZO"
      }
    },
    {
      "cell_type": "markdown",
      "source": [
        "### If condition"
      ],
      "metadata": {
        "id": "P9Bnqg_NaKmz"
      }
    },
    {
      "cell_type": "code",
      "execution_count": 1,
      "metadata": {
        "id": "l-gWdjSPIE5K",
        "colab": {
          "base_uri": "https://localhost:8080/"
        },
        "outputId": "96b34bca-cb0b-45a3-e57c-6b6d423a4231"
      },
      "outputs": [
        {
          "output_type": "stream",
          "name": "stdout",
          "text": [
            "Passing grade\n"
          ]
        }
      ],
      "source": [
        "# Example 1:\n",
        "grade = 70\n",
        "if grade >= 65:\n",
        "    print(\"Passing grade\")"
      ]
    },
    {
      "cell_type": "code",
      "source": [
        "num = 3\n",
        "if (num > 0):\n",
        "    print(num, \"is a positive number.\")\n",
        "print(\"This is always printed.\")\n",
        "\n",
        "num = -1\n",
        "if num > 0:\n",
        "    print(num, \"is a negative number.\")\n",
        "print(\"This is also always printed.\")"
      ],
      "metadata": {
        "colab": {
          "base_uri": "https://localhost:8080/"
        },
        "id": "72mmDxRUaNc_",
        "outputId": "ef0ddabb-e5f5-49a8-802c-71432aed3fbb"
      },
      "execution_count": 2,
      "outputs": [
        {
          "output_type": "stream",
          "name": "stdout",
          "text": [
            "3 is a positive number.\n",
            "This is always printed.\n",
            "This is also always printed.\n"
          ]
        }
      ]
    },
    {
      "cell_type": "code",
      "source": [
        "num1, num2 = 6, 9\n",
        "if(num1 < num2):\n",
        "    print(\"num1 is less than num2\")"
      ],
      "metadata": {
        "colab": {
          "base_uri": "https://localhost:8080/"
        },
        "id": "Y3FiAyojaV7I",
        "outputId": "06c314ec-725f-4f21-9d33-5b0089dca4a9"
      },
      "execution_count": 3,
      "outputs": [
        {
          "output_type": "stream",
          "name": "stdout",
          "text": [
            "num1 is less than num2\n"
          ]
        }
      ]
    },
    {
      "cell_type": "markdown",
      "source": [
        "###  if else"
      ],
      "metadata": {
        "id": "WjiwNUNbaj4q"
      }
    },
    {
      "cell_type": "code",
      "source": [
        "grade = 60    \n",
        "if grade >= 65:\n",
        "    print(\"Passing grade\")\n",
        "else:\n",
        "    print(\"Failing grade\")"
      ],
      "metadata": {
        "colab": {
          "base_uri": "https://localhost:8080/"
        },
        "id": "PDclRnlwabr7",
        "outputId": "4ab6a0c8-1af6-4680-9c22-c6c5b8bbc5b1"
      },
      "execution_count": 5,
      "outputs": [
        {
          "output_type": "stream",
          "name": "stdout",
          "text": [
            "Failing grade\n"
          ]
        }
      ]
    },
    {
      "cell_type": "code",
      "source": [
        "# Password checker\n",
        "\n",
        "def password_check(password):\n",
        "    if password == \"Python@99>\":\n",
        "        print(\"Correct password\")\n",
        "    else:\n",
        "        print(\"Incorrect Password\")\n",
        "\n",
        "password_check(\"Python@99>\")\n",
        "password_check(\"Python99\")"
      ],
      "metadata": {
        "colab": {
          "base_uri": "https://localhost:8080/"
        },
        "id": "vNiETbzfaldG",
        "outputId": "e8e6c74d-cab3-4bcb-fe11-c832a2b14f65"
      },
      "execution_count": 6,
      "outputs": [
        {
          "output_type": "stream",
          "name": "stdout",
          "text": [
            "Correct password\n",
            "Incorrect Password\n"
          ]
        }
      ]
    },
    {
      "cell_type": "markdown",
      "source": [
        "### if-elif-else"
      ],
      "metadata": {
        "id": "2-89InaKa8Ri"
      }
    },
    {
      "cell_type": "code",
      "source": [
        "num = 0\n",
        "\n",
        "if num > 0:\n",
        "    print(\"Positive number\")\n",
        "elif num == 0:\n",
        "    print(\"Zero\")\n",
        "else:\n",
        "    print(\"Negative number\")"
      ],
      "metadata": {
        "colab": {
          "base_uri": "https://localhost:8080/"
        },
        "id": "EO-2PnBiay0m",
        "outputId": "3a3536b1-6dfe-4059-f29f-6031a993e563"
      },
      "execution_count": 7,
      "outputs": [
        {
          "output_type": "stream",
          "name": "stdout",
          "text": [
            "Zero\n"
          ]
        }
      ]
    },
    {
      "cell_type": "code",
      "source": [
        "# grading\n",
        "grade = 96\n",
        "\n",
        "if grade >= 90:\n",
        "    print(\"A grade\")\n",
        "elif grade >=80:\n",
        "    print(\"B grade\")\n",
        "elif grade >=70:\n",
        "    print(\"C grade\")\n",
        "elif grade >= 65:\n",
        "    print(\"D grade\")\n",
        "else:\n",
        "    print(\"Failing grade\")"
      ],
      "metadata": {
        "colab": {
          "base_uri": "https://localhost:8080/"
        },
        "id": "U_3pljjmbC1r",
        "outputId": "1c6ef571-f3c9-489f-ebf1-0fb9fb18bb19"
      },
      "execution_count": 8,
      "outputs": [
        {
          "output_type": "stream",
          "name": "stdout",
          "text": [
            "A grade\n"
          ]
        }
      ]
    },
    {
      "cell_type": "code",
      "source": [
        "a = 0\n",
        "if a > 0 and a % 2 == 0:\n",
        "        print('A is an even and positive integer')\n",
        "elif a > 0 and a % 2 !=  0:\n",
        "     print('A is a positive integer')\n",
        "elif a == 0:\n",
        "    print('A is zero')\n",
        "else:\n",
        "    print('A is negative')"
      ],
      "metadata": {
        "colab": {
          "base_uri": "https://localhost:8080/"
        },
        "id": "WOj-HXlmbHSi",
        "outputId": "977a6395-8ce2-48e8-aa81-661de4babfed"
      },
      "execution_count": 9,
      "outputs": [
        {
          "output_type": "stream",
          "name": "stdout",
          "text": [
            "A is zero\n"
          ]
        }
      ]
    },
    {
      "cell_type": "markdown",
      "source": [
        "### nested if"
      ],
      "metadata": {
        "id": "4WRmvxdObgT6"
      }
    },
    {
      "cell_type": "code",
      "source": [
        "num1 = 0\n",
        "if (num1 != 0):  # For zero condition is FALSE\n",
        "    if(num1 > 0):  \n",
        "        print(\"num1 is a positive number\")\n",
        "    else:  \n",
        "        print(\"num1 is a negative number\")\n",
        "else:  # For zero condition is TRUE\n",
        "    print(\"num1 is neither positive nor negative\")"
      ],
      "metadata": {
        "colab": {
          "base_uri": "https://localhost:8080/"
        },
        "id": "zDZmQxUQbOFE",
        "outputId": "fee9b8d3-b141-450f-d88a-452d81a6b1bd"
      },
      "execution_count": 10,
      "outputs": [
        {
          "output_type": "stream",
          "name": "stdout",
          "text": [
            "num1 is neither positive nor negative\n"
          ]
        }
      ]
    },
    {
      "cell_type": "markdown",
      "source": [
        "### FOR loop"
      ],
      "metadata": {
        "id": "TktdwTRHb4RI"
      }
    },
    {
      "cell_type": "code",
      "source": [
        "words = ['one', 'two', 'three', 'four', 'five']\n",
        "\n",
        "for i in words:\n",
        "    print(i)"
      ],
      "metadata": {
        "colab": {
          "base_uri": "https://localhost:8080/"
        },
        "id": "Z5_admK7biy7",
        "outputId": "824add35-c648-42ee-d53e-74fed3717e57"
      },
      "execution_count": 11,
      "outputs": [
        {
          "output_type": "stream",
          "name": "stdout",
          "text": [
            "one\n",
            "two\n",
            "three\n",
            "four\n",
            "five\n"
          ]
        }
      ]
    },
    {
      "cell_type": "code",
      "source": [
        "# Avg of numbers\n",
        "\n",
        "numbers = [10, 20, 30, 40, 50]\n",
        "\n",
        "# definite iteration\n",
        "# run loop 5 times because list contains 5 items\n",
        "sum = 0\n",
        "for i in numbers:\n",
        "    sum = sum + i\n",
        "list_size = len(numbers)\n",
        "average = sum / list_size\n",
        "print(average)"
      ],
      "metadata": {
        "colab": {
          "base_uri": "https://localhost:8080/"
        },
        "id": "-GFzNspIb8ct",
        "outputId": "1b89027f-8411-440f-9539-7821d5ed4d4a"
      },
      "execution_count": 12,
      "outputs": [
        {
          "output_type": "stream",
          "name": "stdout",
          "text": [
            "30.0\n"
          ]
        }
      ]
    },
    {
      "cell_type": "code",
      "source": [
        "# usuall range\n",
        "\n",
        "# empty range\n",
        "print(list(range(0)))\n",
        "\n",
        "# using range(stop)\n",
        "print(list(range(10)))\n",
        "\n",
        "# using range(start, stop)\n",
        "print(list(range(1, 10)))"
      ],
      "metadata": {
        "colab": {
          "base_uri": "https://localhost:8080/"
        },
        "id": "SC-v9whpcBfK",
        "outputId": "65b36d20-7ec7-4385-a0e4-ad60cd2e9004"
      },
      "execution_count": 13,
      "outputs": [
        {
          "output_type": "stream",
          "name": "stdout",
          "text": [
            "[]\n",
            "[0, 1, 2, 3, 4, 5, 6, 7, 8, 9]\n",
            "[1, 2, 3, 4, 5, 6, 7, 8, 9]\n"
          ]
        }
      ]
    },
    {
      "cell_type": "code",
      "source": [
        "student_name = 'Arthur'\n",
        "\n",
        "marks = {'Alan': 99, 'Bill': 55, 'Cory': 77}\n",
        "\n",
        "for student in marks:\n",
        "    if student == student_name:\n",
        "        print(marks[student])\n",
        "        break\n",
        "else:\n",
        "    print('No entry with that name found.')"
      ],
      "metadata": {
        "colab": {
          "base_uri": "https://localhost:8080/"
        },
        "id": "zH6fVE3Dc_px",
        "outputId": "c3194e5f-7b0d-4780-d814-c4fa37bbfd05"
      },
      "execution_count": 14,
      "outputs": [
        {
          "output_type": "stream",
          "name": "stdout",
          "text": [
            "No entry with that name found.\n"
          ]
        }
      ]
    },
    {
      "cell_type": "markdown",
      "source": [
        "### break"
      ],
      "metadata": {
        "id": "2FKbEHhWdebr"
      }
    },
    {
      "cell_type": "code",
      "source": [
        "numbers = (0,1,2,3,4,5)\n",
        "for number in numbers:\n",
        "    print(number)\n",
        "    if number == 3:\n",
        "        break"
      ],
      "metadata": {
        "colab": {
          "base_uri": "https://localhost:8080/"
        },
        "id": "zsxTa-uLdULf",
        "outputId": "e417680e-0371-4aab-c74f-a272bb727a03"
      },
      "execution_count": 15,
      "outputs": [
        {
          "output_type": "stream",
          "name": "stdout",
          "text": [
            "0\n",
            "1\n",
            "2\n",
            "3\n"
          ]
        }
      ]
    },
    {
      "cell_type": "markdown",
      "source": [
        "### continue"
      ],
      "metadata": {
        "id": "dPbF7QwldtBP"
      }
    },
    {
      "cell_type": "code",
      "source": [
        "color = ['Green', 'Pink', 'Blue']\n",
        "for i in color:\n",
        "    if(i == 'Pink'):\n",
        "        continue\n",
        "    print (i)"
      ],
      "metadata": {
        "colab": {
          "base_uri": "https://localhost:8080/"
        },
        "id": "JqDqjt8ddgQr",
        "outputId": "705ccb94-1d28-4254-a0ad-aab4eb92ca16"
      },
      "execution_count": 16,
      "outputs": [
        {
          "output_type": "stream",
          "name": "stdout",
          "text": [
            "Green\n",
            "Blue\n"
          ]
        }
      ]
    },
    {
      "cell_type": "code",
      "source": [
        "first = [3, 6, 9]\n",
        "second = [3, 6, 9]\n",
        "for i in first:\n",
        "    for j in second:\n",
        "        if i == j:\n",
        "            continue\n",
        "        print(i, '*', j, '= ', i * j)"
      ],
      "metadata": {
        "colab": {
          "base_uri": "https://localhost:8080/"
        },
        "id": "VzHvSOckduva",
        "outputId": "ac6f958d-356f-4a14-e3b4-ffece817a5c7"
      },
      "execution_count": 17,
      "outputs": [
        {
          "output_type": "stream",
          "name": "stdout",
          "text": [
            "3 * 6 =  18\n",
            "3 * 9 =  27\n",
            "6 * 3 =  18\n",
            "6 * 9 =  54\n",
            "9 * 3 =  27\n",
            "9 * 6 =  54\n"
          ]
        }
      ]
    },
    {
      "cell_type": "markdown",
      "source": [
        "### while"
      ],
      "metadata": {
        "id": "ObtnD_6UeMIZ"
      }
    },
    {
      "cell_type": "code",
      "source": [
        "count = 1\n",
        "# run loop till count is less than 5\n",
        "while count < 5:\n",
        "    print(count)\n",
        "    count = count + 1"
      ],
      "metadata": {
        "colab": {
          "base_uri": "https://localhost:8080/"
        },
        "id": "A4diQqx2d75B",
        "outputId": "6067eb2a-becd-4694-920f-0d1ae62d7888"
      },
      "execution_count": 18,
      "outputs": [
        {
          "output_type": "stream",
          "name": "stdout",
          "text": [
            "1\n",
            "2\n",
            "3\n",
            "4\n"
          ]
        }
      ]
    },
    {
      "cell_type": "code",
      "source": [
        "num = 10\n",
        "sum = 0\n",
        "i = 1\n",
        "while i <= num:\n",
        "    sum = sum + i\n",
        "    i = i + 1\n",
        "print(\"Sum of first 10 number is:\", sum)"
      ],
      "metadata": {
        "colab": {
          "base_uri": "https://localhost:8080/"
        },
        "id": "IkD0DQ-heN3_",
        "outputId": "3b6fa8d4-4938-4bc2-e937-5dc97587d04c"
      },
      "execution_count": 19,
      "outputs": [
        {
          "output_type": "stream",
          "name": "stdout",
          "text": [
            "Sum of first 10 number is: 55\n"
          ]
        }
      ]
    },
    {
      "cell_type": "markdown",
      "source": [
        "## Function"
      ],
      "metadata": {
        "id": "9206ylbAeo1R"
      }
    },
    {
      "cell_type": "code",
      "source": [
        "def greet():\n",
        "    print(\"Welcome to DSA with Python\")\n"
      ],
      "metadata": {
        "id": "TueP9gfjePrK"
      },
      "execution_count": 20,
      "outputs": []
    },
    {
      "cell_type": "code",
      "source": [
        "def add_two_numbers ():\n",
        "    num_one = 3\n",
        "    num_two = 6\n",
        "    total = num_one + num_two\n",
        "    print(total)\n",
        "add_two_numbers() "
      ],
      "metadata": {
        "colab": {
          "base_uri": "https://localhost:8080/"
        },
        "id": "wEQdHWGSe5aJ",
        "outputId": "86259a46-5f99-4b5e-cc8c-594fe6e6becf"
      },
      "execution_count": 21,
      "outputs": [
        {
          "output_type": "stream",
          "name": "stdout",
          "text": [
            "9\n"
          ]
        }
      ]
    },
    {
      "cell_type": "code",
      "source": [
        "def generate_full_name ():\n",
        "    first_name = 'Milaan'\n",
        "    last_name = 'Parmar'\n",
        "    space = ' '\n",
        "    full_name = first_name + space + last_name\n",
        "    print(full_name)\n",
        "generate_full_name ()"
      ],
      "metadata": {
        "colab": {
          "base_uri": "https://localhost:8080/"
        },
        "id": "9WASJewMe8Gv",
        "outputId": "5a8d9990-8e40-4c5f-db18-ecc64318ba4f"
      },
      "execution_count": 22,
      "outputs": [
        {
          "output_type": "stream",
          "name": "stdout",
          "text": [
            "Milaan Parmar\n"
          ]
        }
      ]
    },
    {
      "cell_type": "code",
      "source": [
        "# With param\n",
        "\n",
        "def greet(name):\n",
        "    \"\"\"\n",
        "    This function greets to the person passed in as a parameter\n",
        "    \"\"\"\n",
        "    print(\"Hello, \" + name + \". Good morning!\")"
      ],
      "metadata": {
        "id": "j5oXAnZse-Wi"
      },
      "execution_count": 24,
      "outputs": []
    },
    {
      "cell_type": "code",
      "source": [
        "def sum_of_numbers(n):\n",
        "    total = 0\n",
        "    for i in range(n+1):\n",
        "        total+=i\n",
        "    print(total)\n",
        "print(sum_of_numbers(10))  # 55\n",
        "print(sum_of_numbers(100)) # 5050"
      ],
      "metadata": {
        "colab": {
          "base_uri": "https://localhost:8080/"
        },
        "id": "VWyEYV7rfG8p",
        "outputId": "98653d2e-eda7-4bb9-c8e7-aa0045a6239b"
      },
      "execution_count": 25,
      "outputs": [
        {
          "output_type": "stream",
          "name": "stdout",
          "text": [
            "55\n",
            "None\n",
            "5050\n",
            "None\n"
          ]
        }
      ]
    },
    {
      "cell_type": "code",
      "source": [
        "def greet(*names):\n",
        "    for name in names:\n",
        "        print(\"Hello\", name)\n",
        "\n",
        "greet(\"Gary\", \"Hank\", \"Ivan\", \"John\")"
      ],
      "metadata": {
        "colab": {
          "base_uri": "https://localhost:8080/"
        },
        "id": "WF_AlKeOfLGM",
        "outputId": "258414b6-5262-4e73-9b80-2be46d12af3a"
      },
      "execution_count": 27,
      "outputs": [
        {
          "output_type": "stream",
          "name": "stdout",
          "text": [
            "Hello Gary\n",
            "Hello Hank\n",
            "Hello Ivan\n",
            "Hello John\n"
          ]
        }
      ]
    },
    {
      "cell_type": "code",
      "source": [
        "def factorial(n):\n",
        "    if n == 1:\n",
        "        return 1\n",
        "    else:\n",
        "        return (n * factorial(n-1))\n",
        "\n",
        "num = 3\n",
        "print(\"The factorial of\", num, \"is\", factorial(num))"
      ],
      "metadata": {
        "colab": {
          "base_uri": "https://localhost:8080/"
        },
        "id": "3lt1ImszghZ8",
        "outputId": "68d87330-6d56-42e8-dc49-5a1e58dceee5"
      },
      "execution_count": 29,
      "outputs": [
        {
          "output_type": "stream",
          "name": "stdout",
          "text": [
            "The factorial of 3 is 6\n"
          ]
        }
      ]
    },
    {
      "cell_type": "code",
      "source": [],
      "metadata": {
        "id": "7hX1GQyMgzur"
      },
      "execution_count": null,
      "outputs": []
    }
  ]
}